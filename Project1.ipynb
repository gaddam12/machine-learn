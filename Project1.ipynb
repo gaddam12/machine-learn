{
  "nbformat": 4,
  "nbformat_minor": 0,
  "metadata": {
    "colab": {
      "provenance": [],
      "authorship_tag": "ABX9TyPyjwJPZ3NcDsMODMNJfAbP",
      "include_colab_link": true
    },
    "kernelspec": {
      "name": "python3",
      "display_name": "Python 3"
    },
    "language_info": {
      "name": "python"
    }
  },
  "cells": [
    {
      "cell_type": "markdown",
      "metadata": {
        "id": "view-in-github",
        "colab_type": "text"
      },
      "source": [
        "<a href=\"https://colab.research.google.com/github/gaddam12/machine-learn/blob/main/Project1.ipynb\" target=\"_parent\"><img src=\"https://colab.research.google.com/assets/colab-badge.svg\" alt=\"Open In Colab\"/></a>"
      ]
    },
    {
      "cell_type": "markdown",
      "source": [
        "**Movie Recommendation System**\n"
      ],
      "metadata": {
        "id": "N6WKIhUP4x_K"
      }
    },
    {
      "cell_type": "markdown",
      "source": [
        "**Recommender system** is a system that seeks to predict or filter preferences according to the users choices. Recommender systems are utilized in a variety of areas including movies,music,news,books,research articles,search queries,social tags, and products in general Recommender systems produce a list of recommendations in any of the two ways"
      ],
      "metadata": {
        "id": "F_4D_qAw5G5Y"
      }
    },
    {
      "cell_type": "markdown",
      "source": [
        "**Collaborative filtering**: Collaborative filtering approaches build a model from the user's past behavior(i.e. items purchased or searched by the user) as well as similar decisions made by other users. This model is then used to predict items(or ratings for items)that users may have an interest in"
      ],
      "metadata": {
        "id": "LnYs787761JM"
      }
    },
    {
      "cell_type": "markdown",
      "source": [
        "**content-based filtering**:content-based filtering approaches uses a series of discrete characteristics of an item in order to recommend additional items with similar properties. content-based filtering methods are totally based on a description of the item and a profile of the user's preferences. it recommends items based on the user's past preferences. Let's develop a basic recommendation system using python and pandas."
      ],
      "metadata": {
        "id": "JsNDPz5SAe6f"
      }
    },
    {
      "cell_type": "markdown",
      "source": [
        "Let's develop a basic recommendation system by suggesting items that are most similar to a particular item, in this case,movies. it just tells what movies/items are most similar to the user's movie choice"
      ],
      "metadata": {
        "id": "5t1Sf9ctDjxN"
      }
    },
    {
      "cell_type": "markdown",
      "source": [
        "**Import library**"
      ],
      "metadata": {
        "id": "R2TodFv2EbNb"
      }
    },
    {
      "cell_type": "code",
      "source": [
        "import pandas as pd"
      ],
      "metadata": {
        "id": "JvzN5gtnEoOi"
      },
      "execution_count": null,
      "outputs": []
    },
    {
      "cell_type": "code",
      "source": [
        "import numpy as np"
      ],
      "metadata": {
        "id": "97tsvBf7EyLJ"
      },
      "execution_count": null,
      "outputs": []
    },
    {
      "cell_type": "markdown",
      "source": [
        "Import Dataset"
      ],
      "metadata": {
        "id": "bs8KGRXQE-b0"
      }
    },
    {
      "cell_type": "code",
      "source": [
        "df = pd.read_csv(r\"https://github.com/YBI-Foundation/Dataset/raw/refs/heads/main/Movies%20Recommendation.csv\")"
      ],
      "metadata": {
        "id": "RB24XCGaFFww"
      },
      "execution_count": null,
      "outputs": []
    },
    {
      "cell_type": "code",
      "source": [
        "df.head()"
      ],
      "metadata": {
        "colab": {
          "base_uri": "https://localhost:8080/",
          "height": 672
        },
        "id": "Nx0Cm6nZGH7E",
        "outputId": "b502f351-5fe7-48d2-e8ed-77b65e4503f7"
      },
      "execution_count": null,
      "outputs": [
        {
          "output_type": "execute_result",
          "data": {
            "text/plain": [
              "   Movie_ID      Movie_Title                       Movie_Genre Movie_Language  \\\n",
              "0         1       Four Rooms                      Crime Comedy             en   \n",
              "1         2        Star Wars  Adventure Action Science Fiction             en   \n",
              "2         3     Finding Nemo                  Animation Family             en   \n",
              "3         4     Forrest Gump              Comedy Drama Romance             en   \n",
              "4         5  American Beauty                             Drama             en   \n",
              "\n",
              "   Movie_Budget  Movie_Popularity Movie_Release_Date  Movie_Revenue  \\\n",
              "0       4000000         22.876230         09-12-1995        4300000   \n",
              "1      11000000        126.393695         25-05-1977      775398007   \n",
              "2      94000000         85.688789         30-05-2003      940335536   \n",
              "3      55000000        138.133331         06-07-1994      677945399   \n",
              "4      15000000         80.878605         15-09-1999      356296601   \n",
              "\n",
              "   Movie_Runtime  Movie_Vote  ...  \\\n",
              "0           98.0         6.5  ...   \n",
              "1          121.0         8.1  ...   \n",
              "2          100.0         7.6  ...   \n",
              "3          142.0         8.2  ...   \n",
              "4          122.0         7.9  ...   \n",
              "\n",
              "                                      Movie_Homepage  \\\n",
              "0                                                NaN   \n",
              "1  http://www.starwars.com/films/star-wars-episod...   \n",
              "2              http://movies.disney.com/finding-nemo   \n",
              "3                                                NaN   \n",
              "4                      http://www.dreamworks.com/ab/   \n",
              "\n",
              "                                      Movie_Keywords  \\\n",
              "0          hotel new year's eve witch bet hotel room   \n",
              "1        android galaxy hermit death star lightsaber   \n",
              "2  father son relationship harbor underwater fish...   \n",
              "3  vietnam veteran hippie mentally disabled runni...   \n",
              "4  male nudity female nudity adultery midlife cri...   \n",
              "\n",
              "                                      Movie_Overview  \\\n",
              "0  It's Ted the Bellhop's first night on the job....   \n",
              "1  Princess Leia is captured and held hostage by ...   \n",
              "2  Nemo, an adventurous young clownfish, is unexp...   \n",
              "3  A man with a low IQ has accomplished great thi...   \n",
              "4  Lester Burnham, a depressed suburban father in...   \n",
              "\n",
              "                              Movie_Production_House  \\\n",
              "0  [{\"name\": \"Miramax Films\", \"id\": 14}, {\"name\":...   \n",
              "1  [{\"name\": \"Lucasfilm\", \"id\": 1}, {\"name\": \"Twe...   \n",
              "2     [{\"name\": \"Pixar Animation Studios\", \"id\": 3}]   \n",
              "3          [{\"name\": \"Paramount Pictures\", \"id\": 4}]   \n",
              "4  [{\"name\": \"DreamWorks SKG\", \"id\": 27}, {\"name\"...   \n",
              "\n",
              "                            Movie_Production_Country  \\\n",
              "0  [{\"iso_3166_1\": \"US\", \"name\": \"United States o...   \n",
              "1  [{\"iso_3166_1\": \"US\", \"name\": \"United States o...   \n",
              "2  [{\"iso_3166_1\": \"US\", \"name\": \"United States o...   \n",
              "3  [{\"iso_3166_1\": \"US\", \"name\": \"United States o...   \n",
              "4  [{\"iso_3166_1\": \"US\", \"name\": \"United States o...   \n",
              "\n",
              "                      Movie_Spoken_Language  \\\n",
              "0  [{\"iso_639_1\": \"en\", \"name\": \"English\"}]   \n",
              "1  [{\"iso_639_1\": \"en\", \"name\": \"English\"}]   \n",
              "2  [{\"iso_639_1\": \"en\", \"name\": \"English\"}]   \n",
              "3  [{\"iso_639_1\": \"en\", \"name\": \"English\"}]   \n",
              "4  [{\"iso_639_1\": \"en\", \"name\": \"English\"}]   \n",
              "\n",
              "                                       Movie_Tagline  \\\n",
              "0  Twelve outrageous guests. Four scandalous requ...   \n",
              "1       A long time ago in a galaxy far, far away...   \n",
              "2  There are 3.7 trillion fish in the ocean, they...   \n",
              "3  The world will never be the same, once you've ...   \n",
              "4                                       Look closer.   \n",
              "\n",
              "                                          Movie_Cast  \\\n",
              "0  Tim Roth Antonio Banderas Jennifer Beals Madon...   \n",
              "1  Mark Hamill Harrison Ford Carrie Fisher Peter ...   \n",
              "2  Albert Brooks Ellen DeGeneres Alexander Gould ...   \n",
              "3  Tom Hanks Robin Wright Gary Sinise Mykelti Wil...   \n",
              "4  Kevin Spacey Annette Bening Thora Birch Wes Be...   \n",
              "\n",
              "                                          Movie_Crew   Movie_Director  \n",
              "0  [{'name': 'Allison Anders', 'gender': 1, 'depa...   Allison Anders  \n",
              "1  [{'name': 'George Lucas', 'gender': 2, 'depart...     George Lucas  \n",
              "2  [{'name': 'Andrew Stanton', 'gender': 2, 'depa...   Andrew Stanton  \n",
              "3  [{'name': 'Alan Silvestri', 'gender': 2, 'depa...  Robert Zemeckis  \n",
              "4  [{'name': 'Thomas Newman', 'gender': 2, 'depar...       Sam Mendes  \n",
              "\n",
              "[5 rows x 21 columns]"
            ],
            "text/html": [
              "\n",
              "  <div id=\"df-30a272ee-c7e6-41dd-9568-81d971c3d55c\" class=\"colab-df-container\">\n",
              "    <div>\n",
              "<style scoped>\n",
              "    .dataframe tbody tr th:only-of-type {\n",
              "        vertical-align: middle;\n",
              "    }\n",
              "\n",
              "    .dataframe tbody tr th {\n",
              "        vertical-align: top;\n",
              "    }\n",
              "\n",
              "    .dataframe thead th {\n",
              "        text-align: right;\n",
              "    }\n",
              "</style>\n",
              "<table border=\"1\" class=\"dataframe\">\n",
              "  <thead>\n",
              "    <tr style=\"text-align: right;\">\n",
              "      <th></th>\n",
              "      <th>Movie_ID</th>\n",
              "      <th>Movie_Title</th>\n",
              "      <th>Movie_Genre</th>\n",
              "      <th>Movie_Language</th>\n",
              "      <th>Movie_Budget</th>\n",
              "      <th>Movie_Popularity</th>\n",
              "      <th>Movie_Release_Date</th>\n",
              "      <th>Movie_Revenue</th>\n",
              "      <th>Movie_Runtime</th>\n",
              "      <th>Movie_Vote</th>\n",
              "      <th>...</th>\n",
              "      <th>Movie_Homepage</th>\n",
              "      <th>Movie_Keywords</th>\n",
              "      <th>Movie_Overview</th>\n",
              "      <th>Movie_Production_House</th>\n",
              "      <th>Movie_Production_Country</th>\n",
              "      <th>Movie_Spoken_Language</th>\n",
              "      <th>Movie_Tagline</th>\n",
              "      <th>Movie_Cast</th>\n",
              "      <th>Movie_Crew</th>\n",
              "      <th>Movie_Director</th>\n",
              "    </tr>\n",
              "  </thead>\n",
              "  <tbody>\n",
              "    <tr>\n",
              "      <th>0</th>\n",
              "      <td>1</td>\n",
              "      <td>Four Rooms</td>\n",
              "      <td>Crime Comedy</td>\n",
              "      <td>en</td>\n",
              "      <td>4000000</td>\n",
              "      <td>22.876230</td>\n",
              "      <td>09-12-1995</td>\n",
              "      <td>4300000</td>\n",
              "      <td>98.0</td>\n",
              "      <td>6.5</td>\n",
              "      <td>...</td>\n",
              "      <td>NaN</td>\n",
              "      <td>hotel new year's eve witch bet hotel room</td>\n",
              "      <td>It's Ted the Bellhop's first night on the job....</td>\n",
              "      <td>[{\"name\": \"Miramax Films\", \"id\": 14}, {\"name\":...</td>\n",
              "      <td>[{\"iso_3166_1\": \"US\", \"name\": \"United States o...</td>\n",
              "      <td>[{\"iso_639_1\": \"en\", \"name\": \"English\"}]</td>\n",
              "      <td>Twelve outrageous guests. Four scandalous requ...</td>\n",
              "      <td>Tim Roth Antonio Banderas Jennifer Beals Madon...</td>\n",
              "      <td>[{'name': 'Allison Anders', 'gender': 1, 'depa...</td>\n",
              "      <td>Allison Anders</td>\n",
              "    </tr>\n",
              "    <tr>\n",
              "      <th>1</th>\n",
              "      <td>2</td>\n",
              "      <td>Star Wars</td>\n",
              "      <td>Adventure Action Science Fiction</td>\n",
              "      <td>en</td>\n",
              "      <td>11000000</td>\n",
              "      <td>126.393695</td>\n",
              "      <td>25-05-1977</td>\n",
              "      <td>775398007</td>\n",
              "      <td>121.0</td>\n",
              "      <td>8.1</td>\n",
              "      <td>...</td>\n",
              "      <td>http://www.starwars.com/films/star-wars-episod...</td>\n",
              "      <td>android galaxy hermit death star lightsaber</td>\n",
              "      <td>Princess Leia is captured and held hostage by ...</td>\n",
              "      <td>[{\"name\": \"Lucasfilm\", \"id\": 1}, {\"name\": \"Twe...</td>\n",
              "      <td>[{\"iso_3166_1\": \"US\", \"name\": \"United States o...</td>\n",
              "      <td>[{\"iso_639_1\": \"en\", \"name\": \"English\"}]</td>\n",
              "      <td>A long time ago in a galaxy far, far away...</td>\n",
              "      <td>Mark Hamill Harrison Ford Carrie Fisher Peter ...</td>\n",
              "      <td>[{'name': 'George Lucas', 'gender': 2, 'depart...</td>\n",
              "      <td>George Lucas</td>\n",
              "    </tr>\n",
              "    <tr>\n",
              "      <th>2</th>\n",
              "      <td>3</td>\n",
              "      <td>Finding Nemo</td>\n",
              "      <td>Animation Family</td>\n",
              "      <td>en</td>\n",
              "      <td>94000000</td>\n",
              "      <td>85.688789</td>\n",
              "      <td>30-05-2003</td>\n",
              "      <td>940335536</td>\n",
              "      <td>100.0</td>\n",
              "      <td>7.6</td>\n",
              "      <td>...</td>\n",
              "      <td>http://movies.disney.com/finding-nemo</td>\n",
              "      <td>father son relationship harbor underwater fish...</td>\n",
              "      <td>Nemo, an adventurous young clownfish, is unexp...</td>\n",
              "      <td>[{\"name\": \"Pixar Animation Studios\", \"id\": 3}]</td>\n",
              "      <td>[{\"iso_3166_1\": \"US\", \"name\": \"United States o...</td>\n",
              "      <td>[{\"iso_639_1\": \"en\", \"name\": \"English\"}]</td>\n",
              "      <td>There are 3.7 trillion fish in the ocean, they...</td>\n",
              "      <td>Albert Brooks Ellen DeGeneres Alexander Gould ...</td>\n",
              "      <td>[{'name': 'Andrew Stanton', 'gender': 2, 'depa...</td>\n",
              "      <td>Andrew Stanton</td>\n",
              "    </tr>\n",
              "    <tr>\n",
              "      <th>3</th>\n",
              "      <td>4</td>\n",
              "      <td>Forrest Gump</td>\n",
              "      <td>Comedy Drama Romance</td>\n",
              "      <td>en</td>\n",
              "      <td>55000000</td>\n",
              "      <td>138.133331</td>\n",
              "      <td>06-07-1994</td>\n",
              "      <td>677945399</td>\n",
              "      <td>142.0</td>\n",
              "      <td>8.2</td>\n",
              "      <td>...</td>\n",
              "      <td>NaN</td>\n",
              "      <td>vietnam veteran hippie mentally disabled runni...</td>\n",
              "      <td>A man with a low IQ has accomplished great thi...</td>\n",
              "      <td>[{\"name\": \"Paramount Pictures\", \"id\": 4}]</td>\n",
              "      <td>[{\"iso_3166_1\": \"US\", \"name\": \"United States o...</td>\n",
              "      <td>[{\"iso_639_1\": \"en\", \"name\": \"English\"}]</td>\n",
              "      <td>The world will never be the same, once you've ...</td>\n",
              "      <td>Tom Hanks Robin Wright Gary Sinise Mykelti Wil...</td>\n",
              "      <td>[{'name': 'Alan Silvestri', 'gender': 2, 'depa...</td>\n",
              "      <td>Robert Zemeckis</td>\n",
              "    </tr>\n",
              "    <tr>\n",
              "      <th>4</th>\n",
              "      <td>5</td>\n",
              "      <td>American Beauty</td>\n",
              "      <td>Drama</td>\n",
              "      <td>en</td>\n",
              "      <td>15000000</td>\n",
              "      <td>80.878605</td>\n",
              "      <td>15-09-1999</td>\n",
              "      <td>356296601</td>\n",
              "      <td>122.0</td>\n",
              "      <td>7.9</td>\n",
              "      <td>...</td>\n",
              "      <td>http://www.dreamworks.com/ab/</td>\n",
              "      <td>male nudity female nudity adultery midlife cri...</td>\n",
              "      <td>Lester Burnham, a depressed suburban father in...</td>\n",
              "      <td>[{\"name\": \"DreamWorks SKG\", \"id\": 27}, {\"name\"...</td>\n",
              "      <td>[{\"iso_3166_1\": \"US\", \"name\": \"United States o...</td>\n",
              "      <td>[{\"iso_639_1\": \"en\", \"name\": \"English\"}]</td>\n",
              "      <td>Look closer.</td>\n",
              "      <td>Kevin Spacey Annette Bening Thora Birch Wes Be...</td>\n",
              "      <td>[{'name': 'Thomas Newman', 'gender': 2, 'depar...</td>\n",
              "      <td>Sam Mendes</td>\n",
              "    </tr>\n",
              "  </tbody>\n",
              "</table>\n",
              "<p>5 rows × 21 columns</p>\n",
              "</div>\n",
              "    <div class=\"colab-df-buttons\">\n",
              "\n",
              "  <div class=\"colab-df-container\">\n",
              "    <button class=\"colab-df-convert\" onclick=\"convertToInteractive('df-30a272ee-c7e6-41dd-9568-81d971c3d55c')\"\n",
              "            title=\"Convert this dataframe to an interactive table.\"\n",
              "            style=\"display:none;\">\n",
              "\n",
              "  <svg xmlns=\"http://www.w3.org/2000/svg\" height=\"24px\" viewBox=\"0 -960 960 960\">\n",
              "    <path d=\"M120-120v-720h720v720H120Zm60-500h600v-160H180v160Zm220 220h160v-160H400v160Zm0 220h160v-160H400v160ZM180-400h160v-160H180v160Zm440 0h160v-160H620v160ZM180-180h160v-160H180v160Zm440 0h160v-160H620v160Z\"/>\n",
              "  </svg>\n",
              "    </button>\n",
              "\n",
              "  <style>\n",
              "    .colab-df-container {\n",
              "      display:flex;\n",
              "      gap: 12px;\n",
              "    }\n",
              "\n",
              "    .colab-df-convert {\n",
              "      background-color: #E8F0FE;\n",
              "      border: none;\n",
              "      border-radius: 50%;\n",
              "      cursor: pointer;\n",
              "      display: none;\n",
              "      fill: #1967D2;\n",
              "      height: 32px;\n",
              "      padding: 0 0 0 0;\n",
              "      width: 32px;\n",
              "    }\n",
              "\n",
              "    .colab-df-convert:hover {\n",
              "      background-color: #E2EBFA;\n",
              "      box-shadow: 0px 1px 2px rgba(60, 64, 67, 0.3), 0px 1px 3px 1px rgba(60, 64, 67, 0.15);\n",
              "      fill: #174EA6;\n",
              "    }\n",
              "\n",
              "    .colab-df-buttons div {\n",
              "      margin-bottom: 4px;\n",
              "    }\n",
              "\n",
              "    [theme=dark] .colab-df-convert {\n",
              "      background-color: #3B4455;\n",
              "      fill: #D2E3FC;\n",
              "    }\n",
              "\n",
              "    [theme=dark] .colab-df-convert:hover {\n",
              "      background-color: #434B5C;\n",
              "      box-shadow: 0px 1px 3px 1px rgba(0, 0, 0, 0.15);\n",
              "      filter: drop-shadow(0px 1px 2px rgba(0, 0, 0, 0.3));\n",
              "      fill: #FFFFFF;\n",
              "    }\n",
              "  </style>\n",
              "\n",
              "    <script>\n",
              "      const buttonEl =\n",
              "        document.querySelector('#df-30a272ee-c7e6-41dd-9568-81d971c3d55c button.colab-df-convert');\n",
              "      buttonEl.style.display =\n",
              "        google.colab.kernel.accessAllowed ? 'block' : 'none';\n",
              "\n",
              "      async function convertToInteractive(key) {\n",
              "        const element = document.querySelector('#df-30a272ee-c7e6-41dd-9568-81d971c3d55c');\n",
              "        const dataTable =\n",
              "          await google.colab.kernel.invokeFunction('convertToInteractive',\n",
              "                                                    [key], {});\n",
              "        if (!dataTable) return;\n",
              "\n",
              "        const docLinkHtml = 'Like what you see? Visit the ' +\n",
              "          '<a target=\"_blank\" href=https://colab.research.google.com/notebooks/data_table.ipynb>data table notebook</a>'\n",
              "          + ' to learn more about interactive tables.';\n",
              "        element.innerHTML = '';\n",
              "        dataTable['output_type'] = 'display_data';\n",
              "        await google.colab.output.renderOutput(dataTable, element);\n",
              "        const docLink = document.createElement('div');\n",
              "        docLink.innerHTML = docLinkHtml;\n",
              "        element.appendChild(docLink);\n",
              "      }\n",
              "    </script>\n",
              "  </div>\n",
              "\n",
              "\n",
              "<div id=\"df-1fa3b028-63eb-4af0-8efa-dade9de16c11\">\n",
              "  <button class=\"colab-df-quickchart\" onclick=\"quickchart('df-1fa3b028-63eb-4af0-8efa-dade9de16c11')\"\n",
              "            title=\"Suggest charts\"\n",
              "            style=\"display:none;\">\n",
              "\n",
              "<svg xmlns=\"http://www.w3.org/2000/svg\" height=\"24px\"viewBox=\"0 0 24 24\"\n",
              "     width=\"24px\">\n",
              "    <g>\n",
              "        <path d=\"M19 3H5c-1.1 0-2 .9-2 2v14c0 1.1.9 2 2 2h14c1.1 0 2-.9 2-2V5c0-1.1-.9-2-2-2zM9 17H7v-7h2v7zm4 0h-2V7h2v10zm4 0h-2v-4h2v4z\"/>\n",
              "    </g>\n",
              "</svg>\n",
              "  </button>\n",
              "\n",
              "<style>\n",
              "  .colab-df-quickchart {\n",
              "      --bg-color: #E8F0FE;\n",
              "      --fill-color: #1967D2;\n",
              "      --hover-bg-color: #E2EBFA;\n",
              "      --hover-fill-color: #174EA6;\n",
              "      --disabled-fill-color: #AAA;\n",
              "      --disabled-bg-color: #DDD;\n",
              "  }\n",
              "\n",
              "  [theme=dark] .colab-df-quickchart {\n",
              "      --bg-color: #3B4455;\n",
              "      --fill-color: #D2E3FC;\n",
              "      --hover-bg-color: #434B5C;\n",
              "      --hover-fill-color: #FFFFFF;\n",
              "      --disabled-bg-color: #3B4455;\n",
              "      --disabled-fill-color: #666;\n",
              "  }\n",
              "\n",
              "  .colab-df-quickchart {\n",
              "    background-color: var(--bg-color);\n",
              "    border: none;\n",
              "    border-radius: 50%;\n",
              "    cursor: pointer;\n",
              "    display: none;\n",
              "    fill: var(--fill-color);\n",
              "    height: 32px;\n",
              "    padding: 0;\n",
              "    width: 32px;\n",
              "  }\n",
              "\n",
              "  .colab-df-quickchart:hover {\n",
              "    background-color: var(--hover-bg-color);\n",
              "    box-shadow: 0 1px 2px rgba(60, 64, 67, 0.3), 0 1px 3px 1px rgba(60, 64, 67, 0.15);\n",
              "    fill: var(--button-hover-fill-color);\n",
              "  }\n",
              "\n",
              "  .colab-df-quickchart-complete:disabled,\n",
              "  .colab-df-quickchart-complete:disabled:hover {\n",
              "    background-color: var(--disabled-bg-color);\n",
              "    fill: var(--disabled-fill-color);\n",
              "    box-shadow: none;\n",
              "  }\n",
              "\n",
              "  .colab-df-spinner {\n",
              "    border: 2px solid var(--fill-color);\n",
              "    border-color: transparent;\n",
              "    border-bottom-color: var(--fill-color);\n",
              "    animation:\n",
              "      spin 1s steps(1) infinite;\n",
              "  }\n",
              "\n",
              "  @keyframes spin {\n",
              "    0% {\n",
              "      border-color: transparent;\n",
              "      border-bottom-color: var(--fill-color);\n",
              "      border-left-color: var(--fill-color);\n",
              "    }\n",
              "    20% {\n",
              "      border-color: transparent;\n",
              "      border-left-color: var(--fill-color);\n",
              "      border-top-color: var(--fill-color);\n",
              "    }\n",
              "    30% {\n",
              "      border-color: transparent;\n",
              "      border-left-color: var(--fill-color);\n",
              "      border-top-color: var(--fill-color);\n",
              "      border-right-color: var(--fill-color);\n",
              "    }\n",
              "    40% {\n",
              "      border-color: transparent;\n",
              "      border-right-color: var(--fill-color);\n",
              "      border-top-color: var(--fill-color);\n",
              "    }\n",
              "    60% {\n",
              "      border-color: transparent;\n",
              "      border-right-color: var(--fill-color);\n",
              "    }\n",
              "    80% {\n",
              "      border-color: transparent;\n",
              "      border-right-color: var(--fill-color);\n",
              "      border-bottom-color: var(--fill-color);\n",
              "    }\n",
              "    90% {\n",
              "      border-color: transparent;\n",
              "      border-bottom-color: var(--fill-color);\n",
              "    }\n",
              "  }\n",
              "</style>\n",
              "\n",
              "  <script>\n",
              "    async function quickchart(key) {\n",
              "      const quickchartButtonEl =\n",
              "        document.querySelector('#' + key + ' button');\n",
              "      quickchartButtonEl.disabled = true;  // To prevent multiple clicks.\n",
              "      quickchartButtonEl.classList.add('colab-df-spinner');\n",
              "      try {\n",
              "        const charts = await google.colab.kernel.invokeFunction(\n",
              "            'suggestCharts', [key], {});\n",
              "      } catch (error) {\n",
              "        console.error('Error during call to suggestCharts:', error);\n",
              "      }\n",
              "      quickchartButtonEl.classList.remove('colab-df-spinner');\n",
              "      quickchartButtonEl.classList.add('colab-df-quickchart-complete');\n",
              "    }\n",
              "    (() => {\n",
              "      let quickchartButtonEl =\n",
              "        document.querySelector('#df-1fa3b028-63eb-4af0-8efa-dade9de16c11 button');\n",
              "      quickchartButtonEl.style.display =\n",
              "        google.colab.kernel.accessAllowed ? 'block' : 'none';\n",
              "    })();\n",
              "  </script>\n",
              "</div>\n",
              "\n",
              "    </div>\n",
              "  </div>\n"
            ],
            "application/vnd.google.colaboratory.intrinsic+json": {
              "type": "dataframe",
              "variable_name": "df"
            }
          },
          "metadata": {},
          "execution_count": 10
        }
      ]
    },
    {
      "cell_type": "code",
      "source": [
        "df.info()"
      ],
      "metadata": {
        "colab": {
          "base_uri": "https://localhost:8080/"
        },
        "id": "KKbhDMBtGpuq",
        "outputId": "15b36583-a9fb-4843-c204-39424f14f056"
      },
      "execution_count": null,
      "outputs": [
        {
          "output_type": "stream",
          "name": "stdout",
          "text": [
            "<class 'pandas.core.frame.DataFrame'>\n",
            "RangeIndex: 4760 entries, 0 to 4759\n",
            "Data columns (total 21 columns):\n",
            " #   Column                    Non-Null Count  Dtype  \n",
            "---  ------                    --------------  -----  \n",
            " 0   Movie_ID                  4760 non-null   int64  \n",
            " 1   Movie_Title               4760 non-null   object \n",
            " 2   Movie_Genre               4760 non-null   object \n",
            " 3   Movie_Language            4760 non-null   object \n",
            " 4   Movie_Budget              4760 non-null   int64  \n",
            " 5   Movie_Popularity          4760 non-null   float64\n",
            " 6   Movie_Release_Date        4760 non-null   object \n",
            " 7   Movie_Revenue             4760 non-null   int64  \n",
            " 8   Movie_Runtime             4758 non-null   float64\n",
            " 9   Movie_Vote                4760 non-null   float64\n",
            " 10  Movie_Vote_Count          4760 non-null   int64  \n",
            " 11  Movie_Homepage            1699 non-null   object \n",
            " 12  Movie_Keywords            4373 non-null   object \n",
            " 13  Movie_Overview            4757 non-null   object \n",
            " 14  Movie_Production_House    4760 non-null   object \n",
            " 15  Movie_Production_Country  4760 non-null   object \n",
            " 16  Movie_Spoken_Language     4760 non-null   object \n",
            " 17  Movie_Tagline             3942 non-null   object \n",
            " 18  Movie_Cast                4733 non-null   object \n",
            " 19  Movie_Crew                4760 non-null   object \n",
            " 20  Movie_Director            4738 non-null   object \n",
            "dtypes: float64(3), int64(4), object(14)\n",
            "memory usage: 781.1+ KB\n"
          ]
        }
      ]
    },
    {
      "cell_type": "code",
      "source": [
        "df.shape"
      ],
      "metadata": {
        "colab": {
          "base_uri": "https://localhost:8080/"
        },
        "id": "47qPkCh_G7ox",
        "outputId": "2cc7390e-6b12-4f71-ed51-6328840acf6b"
      },
      "execution_count": null,
      "outputs": [
        {
          "output_type": "execute_result",
          "data": {
            "text/plain": [
              "(4760, 21)"
            ]
          },
          "metadata": {},
          "execution_count": 12
        }
      ]
    },
    {
      "cell_type": "code",
      "source": [
        "df.columns"
      ],
      "metadata": {
        "colab": {
          "base_uri": "https://localhost:8080/"
        },
        "id": "EG6U8hA8HF7C",
        "outputId": "b64a8ba9-eb21-4d35-a01d-34119ec2453e"
      },
      "execution_count": null,
      "outputs": [
        {
          "output_type": "execute_result",
          "data": {
            "text/plain": [
              "Index(['Movie_ID', 'Movie_Title', 'Movie_Genre', 'Movie_Language',\n",
              "       'Movie_Budget', 'Movie_Popularity', 'Movie_Release_Date',\n",
              "       'Movie_Revenue', 'Movie_Runtime', 'Movie_Vote', 'Movie_Vote_Count',\n",
              "       'Movie_Homepage', 'Movie_Keywords', 'Movie_Overview',\n",
              "       'Movie_Production_House', 'Movie_Production_Country',\n",
              "       'Movie_Spoken_Language', 'Movie_Tagline', 'Movie_Cast', 'Movie_Crew',\n",
              "       'Movie_Director'],\n",
              "      dtype='object')"
            ]
          },
          "metadata": {},
          "execution_count": 13
        }
      ]
    },
    {
      "cell_type": "markdown",
      "source": [
        "**Get Feature selection**"
      ],
      "metadata": {
        "id": "en1JbyZ2HOOo"
      }
    },
    {
      "cell_type": "code",
      "source": [
        "df_features = df[['Movie_Genre','Movie_Keywords','Movie_Tagline','Movie_Cast','Movie_Director']].fillna('')"
      ],
      "metadata": {
        "id": "Cbs7mrCuHWr-"
      },
      "execution_count": null,
      "outputs": []
    },
    {
      "cell_type": "markdown",
      "source": [],
      "metadata": {
        "id": "nWsXv6wBHpPa"
      }
    },
    {
      "cell_type": "markdown",
      "source": [
        "selected five existing features to recommend movies. it may way from one project to another. Like one can add vote counts,budjet,language etc."
      ],
      "metadata": {
        "id": "QHNCtO1VKK0I"
      }
    },
    {
      "cell_type": "code",
      "source": [
        "df_features.shape"
      ],
      "metadata": {
        "colab": {
          "base_uri": "https://localhost:8080/"
        },
        "id": "AaNdSdUvOdr3",
        "outputId": "ae9bf615-83a8-4eba-b961-b6ff0904c678"
      },
      "execution_count": null,
      "outputs": [
        {
          "output_type": "execute_result",
          "data": {
            "text/plain": [
              "(4760, 5)"
            ]
          },
          "metadata": {},
          "execution_count": 17
        }
      ]
    },
    {
      "cell_type": "code",
      "source": [
        "df_features"
      ],
      "metadata": {
        "colab": {
          "base_uri": "https://localhost:8080/",
          "height": 493
        },
        "id": "OKB4-eCeOlov",
        "outputId": "e1034ff1-b56d-4cb3-af4b-0694983791d9"
      },
      "execution_count": null,
      "outputs": [
        {
          "output_type": "execute_result",
          "data": {
            "text/plain": [
              "                           Movie_Genre  \\\n",
              "0                         Crime Comedy   \n",
              "1     Adventure Action Science Fiction   \n",
              "2                     Animation Family   \n",
              "3                 Comedy Drama Romance   \n",
              "4                                Drama   \n",
              "...                                ...   \n",
              "4755                            Horror   \n",
              "4756               Comedy Family Drama   \n",
              "4757                    Thriller Drama   \n",
              "4758                            Family   \n",
              "4759                       Documentary   \n",
              "\n",
              "                                         Movie_Keywords  \\\n",
              "0             hotel new year's eve witch bet hotel room   \n",
              "1           android galaxy hermit death star lightsaber   \n",
              "2     father son relationship harbor underwater fish...   \n",
              "3     vietnam veteran hippie mentally disabled runni...   \n",
              "4     male nudity female nudity adultery midlife cri...   \n",
              "...                                                 ...   \n",
              "4755                                                      \n",
              "4756                                                      \n",
              "4757                     christian film sex trafficking   \n",
              "4758                                                      \n",
              "4759  music actors legendary perfomer classic hollyw...   \n",
              "\n",
              "                                          Movie_Tagline  \\\n",
              "0     Twelve outrageous guests. Four scandalous requ...   \n",
              "1          A long time ago in a galaxy far, far away...   \n",
              "2     There are 3.7 trillion fish in the ocean, they...   \n",
              "3     The world will never be the same, once you've ...   \n",
              "4                                          Look closer.   \n",
              "...                                                 ...   \n",
              "4755                The hot spot where Satan's waitin'.   \n",
              "4756           It’s better to stand out than to fit in.   \n",
              "4757           She never knew it could happen to her...   \n",
              "4758                                                      \n",
              "4759                                                      \n",
              "\n",
              "                                             Movie_Cast     Movie_Director  \n",
              "0     Tim Roth Antonio Banderas Jennifer Beals Madon...     Allison Anders  \n",
              "1     Mark Hamill Harrison Ford Carrie Fisher Peter ...       George Lucas  \n",
              "2     Albert Brooks Ellen DeGeneres Alexander Gould ...     Andrew Stanton  \n",
              "3     Tom Hanks Robin Wright Gary Sinise Mykelti Wil...    Robert Zemeckis  \n",
              "4     Kevin Spacey Annette Bening Thora Birch Wes Be...         Sam Mendes  \n",
              "...                                                 ...                ...  \n",
              "4755  Lisa Hart Carroll Michael Des Barres Paul Drak...         Pece Dingo  \n",
              "4756  Roni Akurati Brighton Sharbino Jason Lee Anjul...       Frank Lotito  \n",
              "4757  Nicole Smolen Kim Baldwin Ariana Stephens Brys...       Jaco Booyens  \n",
              "4758                                                                        \n",
              "4759                                    Tony Oppedisano  Simon Napier-Bell  \n",
              "\n",
              "[4760 rows x 5 columns]"
            ],
            "text/html": [
              "\n",
              "  <div id=\"df-5737bee1-4a04-4fe2-b888-30d1e0693ece\" class=\"colab-df-container\">\n",
              "    <div>\n",
              "<style scoped>\n",
              "    .dataframe tbody tr th:only-of-type {\n",
              "        vertical-align: middle;\n",
              "    }\n",
              "\n",
              "    .dataframe tbody tr th {\n",
              "        vertical-align: top;\n",
              "    }\n",
              "\n",
              "    .dataframe thead th {\n",
              "        text-align: right;\n",
              "    }\n",
              "</style>\n",
              "<table border=\"1\" class=\"dataframe\">\n",
              "  <thead>\n",
              "    <tr style=\"text-align: right;\">\n",
              "      <th></th>\n",
              "      <th>Movie_Genre</th>\n",
              "      <th>Movie_Keywords</th>\n",
              "      <th>Movie_Tagline</th>\n",
              "      <th>Movie_Cast</th>\n",
              "      <th>Movie_Director</th>\n",
              "    </tr>\n",
              "  </thead>\n",
              "  <tbody>\n",
              "    <tr>\n",
              "      <th>0</th>\n",
              "      <td>Crime Comedy</td>\n",
              "      <td>hotel new year's eve witch bet hotel room</td>\n",
              "      <td>Twelve outrageous guests. Four scandalous requ...</td>\n",
              "      <td>Tim Roth Antonio Banderas Jennifer Beals Madon...</td>\n",
              "      <td>Allison Anders</td>\n",
              "    </tr>\n",
              "    <tr>\n",
              "      <th>1</th>\n",
              "      <td>Adventure Action Science Fiction</td>\n",
              "      <td>android galaxy hermit death star lightsaber</td>\n",
              "      <td>A long time ago in a galaxy far, far away...</td>\n",
              "      <td>Mark Hamill Harrison Ford Carrie Fisher Peter ...</td>\n",
              "      <td>George Lucas</td>\n",
              "    </tr>\n",
              "    <tr>\n",
              "      <th>2</th>\n",
              "      <td>Animation Family</td>\n",
              "      <td>father son relationship harbor underwater fish...</td>\n",
              "      <td>There are 3.7 trillion fish in the ocean, they...</td>\n",
              "      <td>Albert Brooks Ellen DeGeneres Alexander Gould ...</td>\n",
              "      <td>Andrew Stanton</td>\n",
              "    </tr>\n",
              "    <tr>\n",
              "      <th>3</th>\n",
              "      <td>Comedy Drama Romance</td>\n",
              "      <td>vietnam veteran hippie mentally disabled runni...</td>\n",
              "      <td>The world will never be the same, once you've ...</td>\n",
              "      <td>Tom Hanks Robin Wright Gary Sinise Mykelti Wil...</td>\n",
              "      <td>Robert Zemeckis</td>\n",
              "    </tr>\n",
              "    <tr>\n",
              "      <th>4</th>\n",
              "      <td>Drama</td>\n",
              "      <td>male nudity female nudity adultery midlife cri...</td>\n",
              "      <td>Look closer.</td>\n",
              "      <td>Kevin Spacey Annette Bening Thora Birch Wes Be...</td>\n",
              "      <td>Sam Mendes</td>\n",
              "    </tr>\n",
              "    <tr>\n",
              "      <th>...</th>\n",
              "      <td>...</td>\n",
              "      <td>...</td>\n",
              "      <td>...</td>\n",
              "      <td>...</td>\n",
              "      <td>...</td>\n",
              "    </tr>\n",
              "    <tr>\n",
              "      <th>4755</th>\n",
              "      <td>Horror</td>\n",
              "      <td></td>\n",
              "      <td>The hot spot where Satan's waitin'.</td>\n",
              "      <td>Lisa Hart Carroll Michael Des Barres Paul Drak...</td>\n",
              "      <td>Pece Dingo</td>\n",
              "    </tr>\n",
              "    <tr>\n",
              "      <th>4756</th>\n",
              "      <td>Comedy Family Drama</td>\n",
              "      <td></td>\n",
              "      <td>It’s better to stand out than to fit in.</td>\n",
              "      <td>Roni Akurati Brighton Sharbino Jason Lee Anjul...</td>\n",
              "      <td>Frank Lotito</td>\n",
              "    </tr>\n",
              "    <tr>\n",
              "      <th>4757</th>\n",
              "      <td>Thriller Drama</td>\n",
              "      <td>christian film sex trafficking</td>\n",
              "      <td>She never knew it could happen to her...</td>\n",
              "      <td>Nicole Smolen Kim Baldwin Ariana Stephens Brys...</td>\n",
              "      <td>Jaco Booyens</td>\n",
              "    </tr>\n",
              "    <tr>\n",
              "      <th>4758</th>\n",
              "      <td>Family</td>\n",
              "      <td></td>\n",
              "      <td></td>\n",
              "      <td></td>\n",
              "      <td></td>\n",
              "    </tr>\n",
              "    <tr>\n",
              "      <th>4759</th>\n",
              "      <td>Documentary</td>\n",
              "      <td>music actors legendary perfomer classic hollyw...</td>\n",
              "      <td></td>\n",
              "      <td>Tony Oppedisano</td>\n",
              "      <td>Simon Napier-Bell</td>\n",
              "    </tr>\n",
              "  </tbody>\n",
              "</table>\n",
              "<p>4760 rows × 5 columns</p>\n",
              "</div>\n",
              "    <div class=\"colab-df-buttons\">\n",
              "\n",
              "  <div class=\"colab-df-container\">\n",
              "    <button class=\"colab-df-convert\" onclick=\"convertToInteractive('df-5737bee1-4a04-4fe2-b888-30d1e0693ece')\"\n",
              "            title=\"Convert this dataframe to an interactive table.\"\n",
              "            style=\"display:none;\">\n",
              "\n",
              "  <svg xmlns=\"http://www.w3.org/2000/svg\" height=\"24px\" viewBox=\"0 -960 960 960\">\n",
              "    <path d=\"M120-120v-720h720v720H120Zm60-500h600v-160H180v160Zm220 220h160v-160H400v160Zm0 220h160v-160H400v160ZM180-400h160v-160H180v160Zm440 0h160v-160H620v160ZM180-180h160v-160H180v160Zm440 0h160v-160H620v160Z\"/>\n",
              "  </svg>\n",
              "    </button>\n",
              "\n",
              "  <style>\n",
              "    .colab-df-container {\n",
              "      display:flex;\n",
              "      gap: 12px;\n",
              "    }\n",
              "\n",
              "    .colab-df-convert {\n",
              "      background-color: #E8F0FE;\n",
              "      border: none;\n",
              "      border-radius: 50%;\n",
              "      cursor: pointer;\n",
              "      display: none;\n",
              "      fill: #1967D2;\n",
              "      height: 32px;\n",
              "      padding: 0 0 0 0;\n",
              "      width: 32px;\n",
              "    }\n",
              "\n",
              "    .colab-df-convert:hover {\n",
              "      background-color: #E2EBFA;\n",
              "      box-shadow: 0px 1px 2px rgba(60, 64, 67, 0.3), 0px 1px 3px 1px rgba(60, 64, 67, 0.15);\n",
              "      fill: #174EA6;\n",
              "    }\n",
              "\n",
              "    .colab-df-buttons div {\n",
              "      margin-bottom: 4px;\n",
              "    }\n",
              "\n",
              "    [theme=dark] .colab-df-convert {\n",
              "      background-color: #3B4455;\n",
              "      fill: #D2E3FC;\n",
              "    }\n",
              "\n",
              "    [theme=dark] .colab-df-convert:hover {\n",
              "      background-color: #434B5C;\n",
              "      box-shadow: 0px 1px 3px 1px rgba(0, 0, 0, 0.15);\n",
              "      filter: drop-shadow(0px 1px 2px rgba(0, 0, 0, 0.3));\n",
              "      fill: #FFFFFF;\n",
              "    }\n",
              "  </style>\n",
              "\n",
              "    <script>\n",
              "      const buttonEl =\n",
              "        document.querySelector('#df-5737bee1-4a04-4fe2-b888-30d1e0693ece button.colab-df-convert');\n",
              "      buttonEl.style.display =\n",
              "        google.colab.kernel.accessAllowed ? 'block' : 'none';\n",
              "\n",
              "      async function convertToInteractive(key) {\n",
              "        const element = document.querySelector('#df-5737bee1-4a04-4fe2-b888-30d1e0693ece');\n",
              "        const dataTable =\n",
              "          await google.colab.kernel.invokeFunction('convertToInteractive',\n",
              "                                                    [key], {});\n",
              "        if (!dataTable) return;\n",
              "\n",
              "        const docLinkHtml = 'Like what you see? Visit the ' +\n",
              "          '<a target=\"_blank\" href=https://colab.research.google.com/notebooks/data_table.ipynb>data table notebook</a>'\n",
              "          + ' to learn more about interactive tables.';\n",
              "        element.innerHTML = '';\n",
              "        dataTable['output_type'] = 'display_data';\n",
              "        await google.colab.output.renderOutput(dataTable, element);\n",
              "        const docLink = document.createElement('div');\n",
              "        docLink.innerHTML = docLinkHtml;\n",
              "        element.appendChild(docLink);\n",
              "      }\n",
              "    </script>\n",
              "  </div>\n",
              "\n",
              "\n",
              "<div id=\"df-a5a6208b-9252-4523-bc31-02f2e2e2dcd0\">\n",
              "  <button class=\"colab-df-quickchart\" onclick=\"quickchart('df-a5a6208b-9252-4523-bc31-02f2e2e2dcd0')\"\n",
              "            title=\"Suggest charts\"\n",
              "            style=\"display:none;\">\n",
              "\n",
              "<svg xmlns=\"http://www.w3.org/2000/svg\" height=\"24px\"viewBox=\"0 0 24 24\"\n",
              "     width=\"24px\">\n",
              "    <g>\n",
              "        <path d=\"M19 3H5c-1.1 0-2 .9-2 2v14c0 1.1.9 2 2 2h14c1.1 0 2-.9 2-2V5c0-1.1-.9-2-2-2zM9 17H7v-7h2v7zm4 0h-2V7h2v10zm4 0h-2v-4h2v4z\"/>\n",
              "    </g>\n",
              "</svg>\n",
              "  </button>\n",
              "\n",
              "<style>\n",
              "  .colab-df-quickchart {\n",
              "      --bg-color: #E8F0FE;\n",
              "      --fill-color: #1967D2;\n",
              "      --hover-bg-color: #E2EBFA;\n",
              "      --hover-fill-color: #174EA6;\n",
              "      --disabled-fill-color: #AAA;\n",
              "      --disabled-bg-color: #DDD;\n",
              "  }\n",
              "\n",
              "  [theme=dark] .colab-df-quickchart {\n",
              "      --bg-color: #3B4455;\n",
              "      --fill-color: #D2E3FC;\n",
              "      --hover-bg-color: #434B5C;\n",
              "      --hover-fill-color: #FFFFFF;\n",
              "      --disabled-bg-color: #3B4455;\n",
              "      --disabled-fill-color: #666;\n",
              "  }\n",
              "\n",
              "  .colab-df-quickchart {\n",
              "    background-color: var(--bg-color);\n",
              "    border: none;\n",
              "    border-radius: 50%;\n",
              "    cursor: pointer;\n",
              "    display: none;\n",
              "    fill: var(--fill-color);\n",
              "    height: 32px;\n",
              "    padding: 0;\n",
              "    width: 32px;\n",
              "  }\n",
              "\n",
              "  .colab-df-quickchart:hover {\n",
              "    background-color: var(--hover-bg-color);\n",
              "    box-shadow: 0 1px 2px rgba(60, 64, 67, 0.3), 0 1px 3px 1px rgba(60, 64, 67, 0.15);\n",
              "    fill: var(--button-hover-fill-color);\n",
              "  }\n",
              "\n",
              "  .colab-df-quickchart-complete:disabled,\n",
              "  .colab-df-quickchart-complete:disabled:hover {\n",
              "    background-color: var(--disabled-bg-color);\n",
              "    fill: var(--disabled-fill-color);\n",
              "    box-shadow: none;\n",
              "  }\n",
              "\n",
              "  .colab-df-spinner {\n",
              "    border: 2px solid var(--fill-color);\n",
              "    border-color: transparent;\n",
              "    border-bottom-color: var(--fill-color);\n",
              "    animation:\n",
              "      spin 1s steps(1) infinite;\n",
              "  }\n",
              "\n",
              "  @keyframes spin {\n",
              "    0% {\n",
              "      border-color: transparent;\n",
              "      border-bottom-color: var(--fill-color);\n",
              "      border-left-color: var(--fill-color);\n",
              "    }\n",
              "    20% {\n",
              "      border-color: transparent;\n",
              "      border-left-color: var(--fill-color);\n",
              "      border-top-color: var(--fill-color);\n",
              "    }\n",
              "    30% {\n",
              "      border-color: transparent;\n",
              "      border-left-color: var(--fill-color);\n",
              "      border-top-color: var(--fill-color);\n",
              "      border-right-color: var(--fill-color);\n",
              "    }\n",
              "    40% {\n",
              "      border-color: transparent;\n",
              "      border-right-color: var(--fill-color);\n",
              "      border-top-color: var(--fill-color);\n",
              "    }\n",
              "    60% {\n",
              "      border-color: transparent;\n",
              "      border-right-color: var(--fill-color);\n",
              "    }\n",
              "    80% {\n",
              "      border-color: transparent;\n",
              "      border-right-color: var(--fill-color);\n",
              "      border-bottom-color: var(--fill-color);\n",
              "    }\n",
              "    90% {\n",
              "      border-color: transparent;\n",
              "      border-bottom-color: var(--fill-color);\n",
              "    }\n",
              "  }\n",
              "</style>\n",
              "\n",
              "  <script>\n",
              "    async function quickchart(key) {\n",
              "      const quickchartButtonEl =\n",
              "        document.querySelector('#' + key + ' button');\n",
              "      quickchartButtonEl.disabled = true;  // To prevent multiple clicks.\n",
              "      quickchartButtonEl.classList.add('colab-df-spinner');\n",
              "      try {\n",
              "        const charts = await google.colab.kernel.invokeFunction(\n",
              "            'suggestCharts', [key], {});\n",
              "      } catch (error) {\n",
              "        console.error('Error during call to suggestCharts:', error);\n",
              "      }\n",
              "      quickchartButtonEl.classList.remove('colab-df-spinner');\n",
              "      quickchartButtonEl.classList.add('colab-df-quickchart-complete');\n",
              "    }\n",
              "    (() => {\n",
              "      let quickchartButtonEl =\n",
              "        document.querySelector('#df-a5a6208b-9252-4523-bc31-02f2e2e2dcd0 button');\n",
              "      quickchartButtonEl.style.display =\n",
              "        google.colab.kernel.accessAllowed ? 'block' : 'none';\n",
              "    })();\n",
              "  </script>\n",
              "</div>\n",
              "\n",
              "  <div id=\"id_373e48e4-fb26-4ada-979c-78555c2a2f0c\">\n",
              "    <style>\n",
              "      .colab-df-generate {\n",
              "        background-color: #E8F0FE;\n",
              "        border: none;\n",
              "        border-radius: 50%;\n",
              "        cursor: pointer;\n",
              "        display: none;\n",
              "        fill: #1967D2;\n",
              "        height: 32px;\n",
              "        padding: 0 0 0 0;\n",
              "        width: 32px;\n",
              "      }\n",
              "\n",
              "      .colab-df-generate:hover {\n",
              "        background-color: #E2EBFA;\n",
              "        box-shadow: 0px 1px 2px rgba(60, 64, 67, 0.3), 0px 1px 3px 1px rgba(60, 64, 67, 0.15);\n",
              "        fill: #174EA6;\n",
              "      }\n",
              "\n",
              "      [theme=dark] .colab-df-generate {\n",
              "        background-color: #3B4455;\n",
              "        fill: #D2E3FC;\n",
              "      }\n",
              "\n",
              "      [theme=dark] .colab-df-generate:hover {\n",
              "        background-color: #434B5C;\n",
              "        box-shadow: 0px 1px 3px 1px rgba(0, 0, 0, 0.15);\n",
              "        filter: drop-shadow(0px 1px 2px rgba(0, 0, 0, 0.3));\n",
              "        fill: #FFFFFF;\n",
              "      }\n",
              "    </style>\n",
              "    <button class=\"colab-df-generate\" onclick=\"generateWithVariable('df_features')\"\n",
              "            title=\"Generate code using this dataframe.\"\n",
              "            style=\"display:none;\">\n",
              "\n",
              "  <svg xmlns=\"http://www.w3.org/2000/svg\" height=\"24px\"viewBox=\"0 0 24 24\"\n",
              "       width=\"24px\">\n",
              "    <path d=\"M7,19H8.4L18.45,9,17,7.55,7,17.6ZM5,21V16.75L18.45,3.32a2,2,0,0,1,2.83,0l1.4,1.43a1.91,1.91,0,0,1,.58,1.4,1.91,1.91,0,0,1-.58,1.4L9.25,21ZM18.45,9,17,7.55Zm-12,3A5.31,5.31,0,0,0,4.9,8.1,5.31,5.31,0,0,0,1,6.5,5.31,5.31,0,0,0,4.9,4.9,5.31,5.31,0,0,0,6.5,1,5.31,5.31,0,0,0,8.1,4.9,5.31,5.31,0,0,0,12,6.5,5.46,5.46,0,0,0,6.5,12Z\"/>\n",
              "  </svg>\n",
              "    </button>\n",
              "    <script>\n",
              "      (() => {\n",
              "      const buttonEl =\n",
              "        document.querySelector('#id_373e48e4-fb26-4ada-979c-78555c2a2f0c button.colab-df-generate');\n",
              "      buttonEl.style.display =\n",
              "        google.colab.kernel.accessAllowed ? 'block' : 'none';\n",
              "\n",
              "      buttonEl.onclick = () => {\n",
              "        google.colab.notebook.generateWithVariable('df_features');\n",
              "      }\n",
              "      })();\n",
              "    </script>\n",
              "  </div>\n",
              "\n",
              "    </div>\n",
              "  </div>\n"
            ],
            "application/vnd.google.colaboratory.intrinsic+json": {
              "type": "dataframe",
              "variable_name": "df_features",
              "summary": "{\n  \"name\": \"df_features\",\n  \"rows\": 4760,\n  \"fields\": [\n    {\n      \"column\": \"Movie_Genre\",\n      \"properties\": {\n        \"dtype\": \"category\",\n        \"num_unique_values\": 1164,\n        \"samples\": [\n          \"Family Animation Adventure\",\n          \"Adventure Science Fiction Action\",\n          \"Action Crime Drama Romance Thriller\"\n        ],\n        \"semantic_type\": \"\",\n        \"description\": \"\"\n      }\n    },\n    {\n      \"column\": \"Movie_Keywords\",\n      \"properties\": {\n        \"dtype\": \"string\",\n        \"num_unique_values\": 4203,\n        \"samples\": [\n          \"canada nazis sequel spin off ancient evil\",\n          \"sex professor wedding woman director columbia university\",\n          \"prophecy sea beach gold small town\"\n        ],\n        \"semantic_type\": \"\",\n        \"description\": \"\"\n      }\n    },\n    {\n      \"column\": \"Movie_Tagline\",\n      \"properties\": {\n        \"dtype\": \"string\",\n        \"num_unique_values\": 3928,\n        \"samples\": [\n          \"The messenger must be silenced.\",\n          \"It's not the house that's haunted.\",\n          \"The final hunt begins.\"\n        ],\n        \"semantic_type\": \"\",\n        \"description\": \"\"\n      }\n    },\n    {\n      \"column\": \"Movie_Cast\",\n      \"properties\": {\n        \"dtype\": \"string\",\n        \"num_unique_values\": 4715,\n        \"samples\": [\n          \"Robin Tunney Fairuza Balk Neve Campbell Rachel True Skeet Ulrich\",\n          \"Peter Sellers Christopher Plummer Herbert Lom Catherine Schell Peter Arne\",\n          \"John Wayne Laraine Day Cedric Hardwicke Judith Anderson Anthony Quinn\"\n        ],\n        \"semantic_type\": \"\",\n        \"description\": \"\"\n      }\n    },\n    {\n      \"column\": \"Movie_Director\",\n      \"properties\": {\n        \"dtype\": \"category\",\n        \"num_unique_values\": 2332,\n        \"samples\": [\n          \"Rob McKittrick\",\n          \"Terron R. Parsons\",\n          \"Cyrus Nowrasteh\"\n        ],\n        \"semantic_type\": \"\",\n        \"description\": \"\"\n      }\n    }\n  ]\n}"
            }
          },
          "metadata": {},
          "execution_count": 18
        }
      ]
    },
    {
      "cell_type": "code",
      "source": [
        "x=df_features['Movie_Genre'] + ' ' +df_features['Movie_Keywords'] + ' ' + df_features['Movie_Cast'] + ' ' + df_features['Movie_Director']"
      ],
      "metadata": {
        "id": "dXL3gRH4O0Ec"
      },
      "execution_count": null,
      "outputs": []
    },
    {
      "cell_type": "code",
      "source": [
        "x"
      ],
      "metadata": {
        "colab": {
          "base_uri": "https://localhost:8080/",
          "height": 458
        },
        "id": "QE855WyYQQ7M",
        "outputId": "885b1d76-e07d-4153-cd71-d96ea7054530"
      },
      "execution_count": null,
      "outputs": [
        {
          "output_type": "execute_result",
          "data": {
            "text/plain": [
              "0       Crime Comedy hotel new year's eve witch bet ho...\n",
              "1       Adventure Action Science Fiction android galax...\n",
              "2       Animation Family father son relationship harbo...\n",
              "3       Comedy Drama Romance vietnam veteran hippie me...\n",
              "4       Drama male nudity female nudity adultery midli...\n",
              "                              ...                        \n",
              "4755    Horror  Lisa Hart Carroll Michael Des Barres P...\n",
              "4756    Comedy Family Drama  Roni Akurati Brighton Sha...\n",
              "4757    Thriller Drama christian film sex trafficking ...\n",
              "4758                                            Family   \n",
              "4759    Documentary music actors legendary perfomer cl...\n",
              "Length: 4760, dtype: object"
            ],
            "text/html": [
              "<div>\n",
              "<style scoped>\n",
              "    .dataframe tbody tr th:only-of-type {\n",
              "        vertical-align: middle;\n",
              "    }\n",
              "\n",
              "    .dataframe tbody tr th {\n",
              "        vertical-align: top;\n",
              "    }\n",
              "\n",
              "    .dataframe thead th {\n",
              "        text-align: right;\n",
              "    }\n",
              "</style>\n",
              "<table border=\"1\" class=\"dataframe\">\n",
              "  <thead>\n",
              "    <tr style=\"text-align: right;\">\n",
              "      <th></th>\n",
              "      <th>0</th>\n",
              "    </tr>\n",
              "  </thead>\n",
              "  <tbody>\n",
              "    <tr>\n",
              "      <th>0</th>\n",
              "      <td>Crime Comedy hotel new year's eve witch bet ho...</td>\n",
              "    </tr>\n",
              "    <tr>\n",
              "      <th>1</th>\n",
              "      <td>Adventure Action Science Fiction android galax...</td>\n",
              "    </tr>\n",
              "    <tr>\n",
              "      <th>2</th>\n",
              "      <td>Animation Family father son relationship harbo...</td>\n",
              "    </tr>\n",
              "    <tr>\n",
              "      <th>3</th>\n",
              "      <td>Comedy Drama Romance vietnam veteran hippie me...</td>\n",
              "    </tr>\n",
              "    <tr>\n",
              "      <th>4</th>\n",
              "      <td>Drama male nudity female nudity adultery midli...</td>\n",
              "    </tr>\n",
              "    <tr>\n",
              "      <th>...</th>\n",
              "      <td>...</td>\n",
              "    </tr>\n",
              "    <tr>\n",
              "      <th>4755</th>\n",
              "      <td>Horror  Lisa Hart Carroll Michael Des Barres P...</td>\n",
              "    </tr>\n",
              "    <tr>\n",
              "      <th>4756</th>\n",
              "      <td>Comedy Family Drama  Roni Akurati Brighton Sha...</td>\n",
              "    </tr>\n",
              "    <tr>\n",
              "      <th>4757</th>\n",
              "      <td>Thriller Drama christian film sex trafficking ...</td>\n",
              "    </tr>\n",
              "    <tr>\n",
              "      <th>4758</th>\n",
              "      <td>Family</td>\n",
              "    </tr>\n",
              "    <tr>\n",
              "      <th>4759</th>\n",
              "      <td>Documentary music actors legendary perfomer cl...</td>\n",
              "    </tr>\n",
              "  </tbody>\n",
              "</table>\n",
              "<p>4760 rows × 1 columns</p>\n",
              "</div><br><label><b>dtype:</b> object</label>"
            ]
          },
          "metadata": {},
          "execution_count": 20
        }
      ]
    },
    {
      "cell_type": "code",
      "source": [
        "x.shape"
      ],
      "metadata": {
        "colab": {
          "base_uri": "https://localhost:8080/"
        },
        "id": "muCz5dsQQby1",
        "outputId": "bb57b606-a85f-4478-a65d-a63363411562"
      },
      "execution_count": null,
      "outputs": [
        {
          "output_type": "execute_result",
          "data": {
            "text/plain": [
              "(4760,)"
            ]
          },
          "metadata": {},
          "execution_count": 21
        }
      ]
    },
    {
      "cell_type": "markdown",
      "source": [
        "**Get Feature Text Conversion to Tokens**"
      ],
      "metadata": {
        "id": "7o2pyfYJQhO3"
      }
    },
    {
      "cell_type": "code",
      "source": [
        "from sklearn.feature_extraction.text import TfidfVectorizer"
      ],
      "metadata": {
        "id": "ghsBtQcEQs7n"
      },
      "execution_count": null,
      "outputs": []
    },
    {
      "cell_type": "code",
      "source": [
        "tfidf = TfidfVectorizer()"
      ],
      "metadata": {
        "id": "lXFS4WeJSDG_"
      },
      "execution_count": null,
      "outputs": []
    },
    {
      "cell_type": "code",
      "source": [
        "x = tfidf.fit_transform(x)"
      ],
      "metadata": {
        "id": "1bDyjY9zSTtH"
      },
      "execution_count": null,
      "outputs": []
    },
    {
      "cell_type": "code",
      "source": [
        "x.shape"
      ],
      "metadata": {
        "colab": {
          "base_uri": "https://localhost:8080/"
        },
        "id": "fymrWu8YSfQA",
        "outputId": "eb48b621-31c8-47d1-fdc5-8ec16dd336ad"
      },
      "execution_count": null,
      "outputs": [
        {
          "output_type": "execute_result",
          "data": {
            "text/plain": [
              "(4760, 14793)"
            ]
          },
          "metadata": {},
          "execution_count": 26
        }
      ]
    },
    {
      "cell_type": "code",
      "source": [
        "print(x)"
      ],
      "metadata": {
        "colab": {
          "base_uri": "https://localhost:8080/"
        },
        "id": "ZZom7WHRSi7V",
        "outputId": "f86198a4-c77d-40d2-a718-75aee390591f"
      },
      "execution_count": null,
      "outputs": [
        {
          "output_type": "stream",
          "name": "stdout",
          "text": [
            "  (0, 3039)\t0.10114278592423027\n",
            "  (0, 2769)\t0.07013137521238604\n",
            "  (0, 6090)\t0.3909123816244152\n",
            "  (0, 9425)\t0.14722609815291593\n",
            "  (0, 14601)\t0.24929690840058727\n",
            "  (0, 4290)\t0.23083600252509037\n",
            "  (0, 14440)\t0.19775091189557634\n",
            "  (0, 1314)\t0.2529624700412641\n",
            "  (0, 11251)\t0.2351905105945911\n",
            "  (0, 13173)\t0.1625566507971879\n",
            "  (0, 11289)\t0.22348442016772774\n",
            "  (0, 551)\t0.20775956041922602\n",
            "  (0, 976)\t0.2147410259056221\n",
            "  (0, 6614)\t0.15176615683691097\n",
            "  (0, 1141)\t0.26170586430336973\n",
            "  (0, 8120)\t0.2570602193236106\n",
            "  (0, 8320)\t0.2203194521672099\n",
            "  (0, 13223)\t0.22696638952087883\n",
            "  (0, 340)\t0.22186595822522218\n",
            "  (0, 451)\t0.2529624700412641\n",
            "  (1, 143)\t0.09848321579342267\n",
            "  (1, 86)\t0.08516666380594365\n",
            "  (1, 11714)\t0.1123429384098449\n",
            "  (1, 4557)\t0.11247534693897056\n",
            "  (1, 468)\t0.22977141347933847\n",
            "  :\t:\n",
            "  (4757, 11859)\t0.1740567645969313\n",
            "  (4757, 948)\t0.2158741225126641\n",
            "  (4757, 12534)\t0.27717533951060314\n",
            "  (4757, 13298)\t0.28218450906588716\n",
            "  (4757, 4862)\t0.28796717093393415\n",
            "  (4757, 626)\t0.3139692344633322\n",
            "  (4757, 12237)\t0.32917946656939917\n",
            "  (4757, 1879)\t0.32917946656939917\n",
            "  (4757, 6482)\t0.32917946656939917\n",
            "  (4757, 1621)\t0.32917946656939917\n",
            "  (4758, 4409)\t1.0\n",
            "  (4759, 9222)\t0.15467152443946866\n",
            "  (4759, 1219)\t0.2054061077092685\n",
            "  (4759, 13238)\t0.19020597458169872\n",
            "  (4759, 4765)\t0.19067167176249683\n",
            "  (4759, 12125)\t0.19514575983587765\n",
            "  (4759, 3673)\t0.17739442888528711\n",
            "  (4759, 9307)\t0.3029761055152296\n",
            "  (4759, 2614)\t0.31376077159928567\n",
            "  (4759, 6020)\t0.26505306794184125\n",
            "  (4759, 12135)\t0.31376077159928567\n",
            "  (4759, 90)\t0.32896090472685546\n",
            "  (4759, 7620)\t0.32896090472685546\n",
            "  (4759, 10112)\t0.32896090472685546\n",
            "  (4759, 9739)\t0.32896090472685546\n"
          ]
        }
      ]
    },
    {
      "cell_type": "markdown",
      "source": [
        "**Get Similarity Score using Cosine Similarity**"
      ],
      "metadata": {
        "id": "voYsEipcS3LW"
      }
    },
    {
      "cell_type": "markdown",
      "source": [
        "Cosine_similarity computes the L2-normalized dot product of vectors Euclidean(L2) normalization projects the vectors onto the unit sphere and their dot product is then the cosine of the angle between the points denoted by the vectors"
      ],
      "metadata": {
        "id": "O-EErdkrTJft"
      }
    },
    {
      "cell_type": "code",
      "source": [
        "from sklearn.metrics.pairwise import cosine_similarity"
      ],
      "metadata": {
        "id": "OcGsU__HUGEa"
      },
      "execution_count": null,
      "outputs": []
    },
    {
      "cell_type": "code",
      "source": [
        "similarity_score = cosine_similarity(x)"
      ],
      "metadata": {
        "id": "tzfEm1R3UZU2"
      },
      "execution_count": null,
      "outputs": []
    },
    {
      "cell_type": "code",
      "source": [
        "similarity_score"
      ],
      "metadata": {
        "colab": {
          "base_uri": "https://localhost:8080/"
        },
        "id": "slD83YxKUosU",
        "outputId": "8ee8d086-7023-49e8-fdf0-93f927981aa1"
      },
      "execution_count": null,
      "outputs": [
        {
          "output_type": "execute_result",
          "data": {
            "text/plain": [
              "array([[1.        , 0.        , 0.        , ..., 0.        , 0.        ,\n",
              "        0.        ],\n",
              "       [0.        , 1.        , 0.        , ..., 0.        , 0.        ,\n",
              "        0.        ],\n",
              "       [0.        , 0.        , 1.        , ..., 0.        , 0.09657916,\n",
              "        0.        ],\n",
              "       ...,\n",
              "       [0.        , 0.        , 0.        , ..., 1.        , 0.        ,\n",
              "        0.        ],\n",
              "       [0.        , 0.        , 0.09657916, ..., 0.        , 1.        ,\n",
              "        0.        ],\n",
              "       [0.        , 0.        , 0.        , ..., 0.        , 0.        ,\n",
              "        1.        ]])"
            ]
          },
          "metadata": {},
          "execution_count": 31
        }
      ]
    },
    {
      "cell_type": "code",
      "source": [
        "similarity_score.shape"
      ],
      "metadata": {
        "colab": {
          "base_uri": "https://localhost:8080/"
        },
        "id": "osQrXoXtUyir",
        "outputId": "be100322-ee59-45ce-c59f-0b07efb6ffd6"
      },
      "execution_count": null,
      "outputs": [
        {
          "output_type": "execute_result",
          "data": {
            "text/plain": [
              "(4760, 4760)"
            ]
          },
          "metadata": {},
          "execution_count": 33
        }
      ]
    },
    {
      "cell_type": "markdown",
      "source": [
        "Get Movie Name as Input from User and Validate for Closest spelling"
      ],
      "metadata": {
        "id": "ryNNs2knU6Fq"
      }
    },
    {
      "cell_type": "code",
      "source": [
        "Favourite_Movie_Name = input(\"enter your favourite movie name:  \")"
      ],
      "metadata": {
        "colab": {
          "base_uri": "https://localhost:8080/"
        },
        "id": "pywAxEoOVKQQ",
        "outputId": "ed8e4e89-f03c-4a6e-e9fd-1b46bd8cfb6d"
      },
      "execution_count": null,
      "outputs": [
        {
          "name": "stdout",
          "output_type": "stream",
          "text": [
            "enter your favourite movie name:  avtaar\n"
          ]
        }
      ]
    },
    {
      "cell_type": "code",
      "source": [
        "All_Movies_Title_List = df['Movie_Title'].tolist()"
      ],
      "metadata": {
        "id": "_m-npR9UVdbo"
      },
      "execution_count": null,
      "outputs": []
    },
    {
      "cell_type": "code",
      "source": [
        "import difflib"
      ],
      "metadata": {
        "id": "zbV8j_8iWIrX"
      },
      "execution_count": null,
      "outputs": []
    },
    {
      "cell_type": "code",
      "source": [
        "Movie_Recommendation = difflib.get_close_matches(Favourite_Movie_Name, All_Movies_Title_List)\n",
        "print(Movie_Recommendation)"
      ],
      "metadata": {
        "colab": {
          "base_uri": "https://localhost:8080/"
        },
        "id": "xicabjUEWNG5",
        "outputId": "c404c699-ed1f-4531-db37-137935903990"
      },
      "execution_count": null,
      "outputs": [
        {
          "output_type": "stream",
          "name": "stdout",
          "text": [
            "['Avatar', 'Gattaca']\n"
          ]
        }
      ]
    },
    {
      "cell_type": "code",
      "source": [
        "Close_Match = Movie_Recommendation[0]\n",
        "print(Close_Match)"
      ],
      "metadata": {
        "colab": {
          "base_uri": "https://localhost:8080/"
        },
        "id": "IoxDFDS9WjwR",
        "outputId": "24b59fa5-e5d0-43b1-d0d8-7fc935a8ee3d"
      },
      "execution_count": null,
      "outputs": [
        {
          "output_type": "stream",
          "name": "stdout",
          "text": [
            "Avatar\n"
          ]
        }
      ]
    },
    {
      "cell_type": "code",
      "source": [
        "Index_of_Close_Match_Movie = df[df.Movie_Title == Close_Match]['Movie_ID'].values[0]\n",
        "print(Index_of_Close_Match_Movie)"
      ],
      "metadata": {
        "colab": {
          "base_uri": "https://localhost:8080/"
        },
        "id": "xxPbaoXhW1RH",
        "outputId": "cb8edb37-5a14-47e9-c300-169f39a9669a"
      },
      "execution_count": null,
      "outputs": [
        {
          "output_type": "stream",
          "name": "stdout",
          "text": [
            "2692\n"
          ]
        }
      ]
    },
    {
      "cell_type": "code",
      "source": [
        "#getting a list of similar movies\n",
        "Recommendation_Score = list(enumerate(similarity_score[Index_of_Close_Match_Movie]))\n",
        "print(Recommendation_Score)"
      ],
      "metadata": {
        "colab": {
          "base_uri": "https://localhost:8080/"
        },
        "id": "PC6ogTI8XN6-",
        "outputId": "9b40e078-de95-42df-b7cd-6887021e52ea"
      },
      "execution_count": null,
      "outputs": [
        {
          "output_type": "stream",
          "name": "stdout",
          "text": [
            "[(0, 0.009511944867470848), (1, 0.0), (2, 0.0), (3, 0.0034205618014125872), (4, 0.0033087946527756654), (5, 0.012620715541297397), (6, 0.006581358190743837), (7, 0.0025914724761808457), (8, 0.003248916958753586), (9, 0.0), (10, 0.009540767661354444), (11, 0.0033273906459246115), (12, 0.00336341773936994), (13, 0.0), (14, 0.0), (15, 0.003539563962782384), (16, 0.007337751248493263), (17, 0.0), (18, 0.019470639197998456), (19, 0.0), (20, 0.003463719173861177), (21, 0.019926379149077425), (22, 0.0), (23, 0.0033618764431036304), (24, 0.0031633254317802997), (25, 0.029404526734989916), (26, 0.003239755981374983), (27, 0.006146453727564919), (28, 0.0), (29, 0.0031870706949259434), (30, 0.006142200484101856), (31, 0.009332936526710515), (32, 0.002846358997591096), (33, 0.0030451609425762183), (34, 0.009460578978622484), (35, 0.0), (36, 0.0), (37, 0.0), (38, 0.010304797051504597), (39, 0.006655484656287038), (40, 0.009457336301461072), (41, 0.0035431985668867975), (42, 0.009734343902071051), (43, 0.013141225254392201), (44, 0.00850000075302405), (45, 0.1353426091066774), (46, 0.005622895384776444), (47, 0.014193372350060938), (48, 0.019775623374217788), (49, 0.0), (50, 0.009908565535909086), (51, 0.019354473201843348), (52, 0.01719607904728221), (53, 0.0), (54, 0.0), (55, 0.0), (56, 0.0), (57, 0.0), (58, 0.0), (59, 0.0), (60, 0.0030055173472423435), (61, 0.0031836864059248825), (62, 0.05079197417765932), (63, 0.002808148428404152), (64, 0.0), (65, 0.04066753963879695), (66, 0.0032382280173236574), (67, 0.046009928913583915), (68, 0.029734330566190903), (69, 0.006562072438802383), (70, 0.016173676251983973), (71, 0.0033339114910658544), (72, 0.014434786251230243), (73, 0.0), (74, 0.0035530654525082225), (75, 0.0), (76, 0.005493207105776911), (77, 0.00573357893724606), (78, 0.005153512662154916), (79, 0.0034015936253728803), (80, 0.005697241583297226), (81, 0.009297337411677912), (82, 0.0030001924196449946), (83, 0.015349410569920296), (84, 0.08370653233617537), (85, 0.012356827020356693), (86, 0.009935719272439228), (87, 0.02069704342729751), (88, 0.013522447458291554), (89, 0.054163444147426944), (90, 0.005567862030443029), (91, 0.0), (92, 0.0029975698926520784), (93, 0.005605209350149524), (94, 0.005454609652250435), (95, 0.006260021097624452), (96, 0.012780836254424182), (97, 0.003048573689860883), (98, 0.003669122395686671), (99, 0.013520721187628685), (100, 0.0), (101, 0.0), (102, 0.006411804884701731), (103, 0.002661956190114155), (104, 0.0034403843811273644), (105, 0.012877139892641085), (106, 0.011757996580138767), (107, 0.010319752366681867), (108, 0.011207190420157422), (109, 0.021558742360598026), (110, 0.10963491961337668), (111, 0.013098663906991825), (112, 0.017972262506382126), (113, 0.00303472774119999), (114, 0.003420905345154833), (115, 0.0033733345709351715), (116, 0.008416017370151335), (117, 0.0), (118, 0.006586235537565638), (119, 0.0031897457647782437), (120, 0.011859569690324864), (121, 0.0036575207882538242), (122, 0.009577916245105239), (123, 0.02410112994700621), (124, 0.02066213873289861), (125, 0.006345627752278577), (126, 0.013166643029339117), (127, 0.0031533465162538275), (128, 0.006482589128240074), (129, 0.0030611089450740393), (130, 0.0), (131, 0.0), (132, 0.0032110544071273237), (133, 0.0), (134, 0.0), (135, 0.005786503116074805), (136, 0.0029618144027024917), (137, 0.016909487581281673), (138, 0.04216517287047195), (139, 0.00954746696063899), (140, 0.002831191877804464), (141, 0.0), (142, 0.01362290094209372), (143, 0.00973829535731891), (144, 0.015421743454249286), (145, 0.016991718560364515), (146, 0.0), (147, 0.017613407967375986), (148, 0.016394504952954678), (149, 0.014429192674926618), (150, 0.0), (151, 0.0), (152, 0.005921532348221073), (153, 0.0), (154, 0.003496538669896561), (155, 0.030665578655409507), (156, 0.002949725700268569), (157, 0.002879828464524059), (158, 0.0031693504647267415), (159, 0.0027513408445016883), (160, 0.0057981153164179304), (161, 0.04795440865938094), (162, 0.010556516927016098), (163, 0.0), (164, 0.003239286795973021), (165, 0.0028293421480758566), (166, 0.0193265882509384), (167, 0.038452820111570925), (168, 0.0), (169, 0.003229293810490993), (170, 0.013861140437113851), (171, 0.0), (172, 0.05231677270376733), (173, 0.013002104662914573), (174, 0.028514144450846327), (175, 0.0032487219225465014), (176, 0.0323949303508987), (177, 0.0), (178, 0.0034360919960180016), (179, 0.040948096030958184), (180, 0.009821745856296495), (181, 0.01864080112087481), (182, 0.0034474831912274847), (183, 0.0032157442139411027), (184, 0.0033420934019913625), (185, 0.04685365503249655), (186, 0.0), (187, 0.005565607288877511), (188, 0.0), (189, 0.005769219174507551), (190, 0.015773658934927253), (191, 0.0055082000735485305), (192, 0.0034671599615737564), (193, 0.003871314341760502), (194, 0.0028023702507105957), (195, 0.0029373855977430775), (196, 0.003201481405482335), (197, 0.002847814540595309), (198, 0.00352442890238216), (199, 0.017103126849855457), (200, 0.008565275655543084), (201, 0.016186748650786793), (202, 0.002888821503138826), (203, 0.003546262128071006), (204, 0.0036626679138736986), (205, 0.0), (206, 0.013180331846087322), (207, 0.01728090542000542), (208, 0.009290996458795692), (209, 0.013086950955017482), (210, 0.046434158715276605), (211, 0.0032599786433404406), (212, 0.0034436266700873645), (213, 0.04303185030614169), (214, 0.0), (215, 0.003579446156339547), (216, 0.013538944237656753), (217, 0.010073913156225186), (218, 0.003572616913915905), (219, 0.0), (220, 0.005999057679746018), (221, 0.0032539424353380726), (222, 0.009946813646465307), (223, 0.0), (224, 0.009328002202421028), (225, 0.0), (226, 0.003412857649831126), (227, 0.0031438871553619184), (228, 0.0034168470453849282), (229, 0.0030898041338285366), (230, 0.0), (231, 0.0), (232, 0.0), (233, 0.0063897001725964605), (234, 0.005625762889700637), (235, 0.003761987514105382), (236, 0.01921721999631451), (237, 0.0), (238, 0.00973120891449111), (239, 0.006172401208151814), (240, 0.03620075127308048), (241, 0.03492279156726387), (242, 0.0029534029987695605), (243, 0.007756489449085862), (244, 0.014870679215545236), (245, 0.0), (246, 0.0038364566611930975), (247, 0.003491075245963276), (248, 0.0), (249, 0.0036722891209776403), (250, 0.03753003350354256), (251, 0.011671752822384949), (252, 0.002653458985976872), (253, 0.003419684752887494), (254, 0.07415254419657563), (255, 0.010076283623722789), (256, 0.010838189257712806), (257, 0.033783931480770996), (258, 0.0), (259, 0.0), (260, 0.005346082290116895), (261, 0.005795025333180668), (262, 0.0032938374721000322), (263, 0.0), (264, 0.0), (265, 0.0), (266, 0.009450489016126013), (267, 0.0029670405367445557), (268, 0.0030151931946349377), (269, 0.0032221994170765203), (270, 0.013204041534308913), (271, 0.008158008571605604), (272, 0.0), (273, 0.005571996469923334), (274, 0.013817044423015713), (275, 0.0), (276, 0.018208006642681178), (277, 0.06028249192992757), (278, 0.0036960488222327493), (279, 0.0035115574208969954), (280, 0.012232396377558265), (281, 0.013026165532562785), (282, 0.046426457325033456), (283, 0.0035936968683556022), (284, 0.039049357704320664), (285, 0.012353151721580139), (286, 0.0033588550136330387), (287, 0.012565059435916908), (288, 0.005661134983185246), (289, 0.0048181579661985), (290, 0.005316332309167405), (291, 0.015108607122338632), (292, 0.0031478023203725418), (293, 0.002544260471172475), (294, 0.005473890277351363), (295, 0.005620894757145294), (296, 0.007008301347015772), (297, 0.0), (298, 0.0), (299, 0.0), (300, 0.0), (301, 0.0), (302, 0.0), (303, 0.006203683835259767), (304, 0.01667528391340827), (305, 0.006255690291807511), (306, 0.005946680644655514), (307, 0.003529206850000822), (308, 0.0033804651132536647), (309, 0.002966528296298241), (310, 0.006071797810700211), (311, 0.008898278518021177), (312, 0.0), (313, 0.006198500607771268), (314, 0.0052545327243324474), (315, 0.006248150871245178), (316, 0.005375332920518834), (317, 0.002965085902892881), (318, 0.0034751880354863423), (319, 0.0), (320, 0.006701236408782854), (321, 0.005694109482437364), (322, 0.0059898898667458), (323, 0.005782415171900629), (324, 0.00327227335018004), (325, 0.003148524267928325), (326, 0.003690196265681048), (327, 0.006008490878514237), (328, 0.041501766063909276), (329, 0.008835626663352168), (330, 0.003207035751401065), (331, 0.0), (332, 0.006196475084929437), (333, 0.01423988734921184), (334, 0.016032489685465928), (335, 0.0), (336, 0.0), (337, 0.0), (338, 0.0), (339, 0.0), (340, 0.0), (341, 0.006306979691429715), (342, 0.014259978665846221), (343, 0.0031976681483207817), (344, 0.0), (345, 0.01012387154234767), (346, 0.003301912510743418), (347, 0.006090053255546892), (348, 0.003339872932987938), (349, 0.0034683886700720406), (350, 0.009932612427557613), (351, 0.003397691481803853), (352, 0.0), (353, 0.0034764691682901087), (354, 0.006126011137048359), (355, 0.0034459541350382473), (356, 0.00952247077576207), (357, 0.002993168077494548), (358, 0.003250559437713533), (359, 0.0029915771144293254), (360, 0.06247577502502885), (361, 0.0), (362, 0.0), (363, 0.0), (364, 0.0031085953498310743), (365, 0.0), (366, 0.0), (367, 0.010138520789391559), (368, 0.01048399082544127), (369, 0.009338060774433807), (370, 0.019269282554450835), (371, 0.010353211331198237), (372, 0.003070643427675786), (373, 0.003397846088551967), (374, 0.0033971674417080534), (375, 0.00607377705772677), (376, 0.0), (377, 0.0033008215229878546), (378, 0.003210980624049883), (379, 0.0), (380, 0.0065411933368417835), (381, 0.04230098751084006), (382, 0.0), (383, 0.027436553782755876), (384, 0.06423562980304773), (385, 0.010136207274078423), (386, 0.0), (387, 0.039751329139631426), (388, 0.003566947762638092), (389, 0.00613772937952944), (390, 0.0), (391, 0.0), (392, 0.0), (393, 0.0), (394, 0.0), (395, 0.003500883425619942), (396, 0.012111438037375678), (397, 0.00576614396664765), (398, 0.028458882009844828), (399, 0.0033748701237179906), (400, 0.003182316002360182), (401, 0.0), (402, 0.003644673084840399), (403, 0.0028547959744487823), (404, 0.0), (405, 0.0), (406, 0.008633973611708765), (407, 0.003277836258027957), (408, 0.05510707714750012), (409, 0.0), (410, 0.003163227151516269), (411, 0.0), (412, 0.0031712844830123067), (413, 0.0), (414, 0.0), (415, 0.0), (416, 0.00293915765301593), (417, 0.013464467380271475), (418, 0.016985164257037267), (419, 0.00338317934871599), (420, 0.0063465733539905134), (421, 0.040138388108027355), (422, 0.0095937213782974), (423, 0.0), (424, 0.07470553739058954), (425, 0.00686589389200333), (426, 0.006547551175585042), (427, 0.0), (428, 0.029162968971078028), (429, 0.01863929341249651), (430, 0.03678349165227504), (431, 0.003562352503665187), (432, 0.003637993101186769), (433, 0.009235959384348156), (434, 0.0037699817025237596), (435, 0.013977636751633132), (436, 0.010851301705238965), (437, 0.002795092102543181), (438, 0.005399554327569195), (439, 0.0), (440, 0.0), (441, 0.0029612333890124028), (442, 0.008182875010070088), (443, 0.01090844047307781), (444, 0.0035823371678163313), (445, 0.002828575567682693), (446, 0.003208958963666686), (447, 0.020887091935049534), (448, 0.0037928909529977633), (449, 0.0030630770226204545), (450, 0.020067837366404787), (451, 0.005784940517169734), (452, 0.002736958780658924), (453, 0.0023751106941606905), (454, 0.0), (455, 0.08790699149479661), (456, 0.003795914389101419), (457, 0.0033631423649667846), (458, 0.02242301419756133), (459, 0.03305517124924253), (460, 0.006456359381889111), (461, 0.010088845267801523), (462, 0.03842602648192277), (463, 0.01833072647760047), (464, 0.0031491728868730346), (465, 0.0030733773217241204), (466, 0.0033206327440090883), (467, 0.005852544067423212), (468, 0.00579982856274366), (469, 0.005463627148335151), (470, 0.009631260989345983), (471, 0.003063790626344573), (472, 0.003321831301481475), (473, 0.002712424663960656), (474, 0.009595905594482408), (475, 0.0027740168521017705), (476, 0.0032917778038268185), (477, 0.0), (478, 0.0034186593470357926), (479, 0.06407186071357585), (480, 0.0029492048478140707), (481, 0.022193928329588566), (482, 0.008868598504180735), (483, 0.013161126714934378), (484, 0.0), (485, 0.014167550020843144), (486, 0.0), (487, 0.0028930111909523724), (488, 0.0029051946965948515), (489, 0.0036052133710524825), (490, 0.003698388486675971), (491, 0.0), (492, 0.0), (493, 0.009757345150248958), (494, 0.010085374869603468), (495, 0.0030606077732437736), (496, 0.0031389218267081766), (497, 0.00879245073953219), (498, 0.0), (499, 0.003793883545988072), (500, 0.018110771414278682), (501, 0.01681012098569077), (502, 0.0201275314594732), (503, 0.008737112912977662), (504, 0.0032326940946032024), (505, 0.0028153558981617653), (506, 0.0), (507, 0.002990328796116995), (508, 0.0036549530212966223), (509, 0.009760521653948574), (510, 0.003072012635108143), (511, 0.0056672076429829235), (512, 0.007247772716806648), (513, 0.007059865545178594), (514, 0.006290492885805257), (515, 0.011447372591425939), (516, 0.0), (517, 0.0), (518, 0.0035388082045674668), (519, 0.03828515600135471), (520, 0.0), (521, 0.0), (522, 0.03883506949598106), (523, 0.006794125945639744), (524, 0.0031258621035800556), (525, 0.0), (526, 0.0037883321648678357), (527, 0.0028117389215792468), (528, 0.0), (529, 0.0), (530, 0.017540257651771723), (531, 0.0), (532, 0.01631040967184382), (533, 0.019201363004701197), (534, 0.018412076772323312), (535, 0.0), (536, 0.0), (537, 0.006455414451930201), (538, 0.0), (539, 0.008952642151830443), (540, 0.006200388111549067), (541, 0.003584166893492995), (542, 0.01851242946855311), (543, 0.019610672070685453), (544, 0.013690230917560673), (545, 0.0), (546, 0.0), (547, 0.036210494069628535), (548, 0.0), (549, 0.0), (550, 0.006768667380740828), (551, 0.003370753648756825), (552, 0.0), (553, 0.0), (554, 0.0), (555, 0.0), (556, 0.0), (557, 0.0), (558, 0.012145007034251476), (559, 0.005471814509348609), (560, 0.01731779337518894), (561, 0.0), (562, 0.008684260541745942), (563, 0.010823892390267077), (564, 0.003158311245472943), (565, 0.0), (566, 0.011460517151165922), (567, 0.0), (568, 0.0), (569, 0.0), (570, 0.0), (571, 0.0089085136574572), (572, 0.0), (573, 0.0), (574, 0.0), (575, 0.0), (576, 0.0033998588509570084), (577, 0.0), (578, 0.003213769038801628), (579, 0.0033388391362744033), (580, 0.009977321726688679), (581, 0.010753488789244873), (582, 0.0), (583, 0.0), (584, 0.02013669608324765), (585, 0.0), (586, 0.0), (587, 0.0036016373644715692), (588, 0.0033127284658765123), (589, 0.003487701284896044), (590, 0.07022634341843542), (591, 0.0), (592, 0.0), (593, 0.03200317183567743), (594, 0.0029366934048212345), (595, 0.005999431354561573), (596, 0.003384446727477245), (597, 0.003226359766192276), (598, 0.0029965509157252063), (599, 0.0), (600, 0.0), (601, 0.0), (602, 0.0), (603, 0.0), (604, 0.016812211012763485), (605, 0.0036044304188019532), (606, 0.010170021422275244), (607, 0.0030163276918005635), (608, 0.008605092052142434), (609, 0.003093388448811448), (610, 0.0), (611, 0.0026416287159692557), (612, 0.0039060139888630573), (613, 0.00906475066830656), (614, 0.0038409933091159824), (615, 0.04655210824370197), (616, 0.0031659888876333863), (617, 0.008500777875798426), (618, 0.028920596075433822), (619, 0.006130332350001085), (620, 0.003169036063331417), (621, 0.016076148313320902), (622, 0.02139784190370823), (623, 0.003716194881690581), (624, 0.0030725010300180536), (625, 0.005785910889987775), (626, 0.003540086511515827), (627, 0.003930723054297643), (628, 0.10780376064756476), (629, 0.013911735768804431), (630, 0.0), (631, 0.0033898462655463863), (632, 0.05021063784248724), (633, 0.006271857446711623), (634, 0.006111608146713248), (635, 0.006511407722139827), (636, 0.009267258150324708), (637, 0.0590832549399805), (638, 0.0034106186819591222), (639, 0.005623872215992585), (640, 0.005784089908411716), (641, 0.023982836715346137), (642, 0.009335138356409551), (643, 0.02184198622745939), (644, 0.008290730011645157), (645, 0.002683932630516474), (646, 0.0029072760657879795), (647, 0.002844714807402641), (648, 0.0), (649, 0.0), (650, 0.0), (651, 0.003210874271008626), (652, 0.01848737825463055), (653, 0.01840849624836232), (654, 0.016042096613451635), (655, 0.003240622233275501), (656, 0.0), (657, 0.00330673192998982), (658, 0.0), (659, 0.0033845585864418046), (660, 0.010048089163475694), (661, 0.005624681122443018), (662, 0.0), (663, 0.0), (664, 0.00947680842254368), (665, 0.0), (666, 0.006649340583121886), (667, 0.014587133374366724), (668, 0.013738457563362873), (669, 0.018280915174608444), (670, 0.011984204002819517), (671, 0.0), (672, 0.028389511215563747), (673, 0.057439046696669), (674, 0.0), (675, 0.020306206729293133), (676, 0.020892069962327744), (677, 0.0), (678, 0.020067829177131388), (679, 0.0), (680, 0.0033479015911595704), (681, 0.0), (682, 0.056232556302698855), (683, 0.014309121000641417), (684, 0.012407351690350968), (685, 0.006343028755395335), (686, 0.0), (687, 0.007621675563489797), (688, 0.010114921269171951), (689, 0.015482784519153706), (690, 0.007664391191841963), (691, 0.0029297134763069496), (692, 0.014114544345243535), (693, 0.03361747077519916), (694, 0.04872178600069613), (695, 0.014560615030346245), (696, 0.009939463221742193), (697, 0.00320775884443623), (698, 0.0033392981715606768), (699, 0.0), (700, 0.0), (701, 0.02046506374593184), (702, 0.0), (703, 0.003138893527698985), (704, 0.0), (705, 0.0033760200060159863), (706, 0.0028774000401726478), (707, 0.00277960359570583), (708, 0.0), (709, 0.0), (710, 0.03575690349216488), (711, 0.0), (712, 0.002800175885074488), (713, 0.0), (714, 0.0), (715, 0.0034479758759485045), (716, 0.010426590941337856), (717, 0.0032521210244016107), (718, 0.0), (719, 0.009237691332480716), (720, 0.0), (721, 0.039403208552830485), (722, 0.00284016637177742), (723, 0.0059138773812478585), (724, 0.0), (725, 0.0), (726, 0.0), (727, 0.010038369400351226), (728, 0.010493024736303086), (729, 0.010750834127592479), (730, 0.0), (731, 0.0037977591669807907), (732, 0.010064190979789212), (733, 0.008675279734589203), (734, 0.0031080140680007696), (735, 0.004135134504076692), (736, 0.0), (737, 0.003606680350833066), (738, 0.006660411714929253), (739, 0.0036022012080834474), (740, 0.003288322823361472), (741, 0.0), (742, 0.008542591061543264), (743, 0.010141069047308365), (744, 0.009356308497733515), (745, 0.008966399090615413), (746, 0.0), (747, 0.0), (748, 0.0), (749, 0.0035012771386877216), (750, 0.009836304565616242), (751, 0.0), (752, 0.0), (753, 0.01823986572178905), (754, 0.0), (755, 0.0030370000691284597), (756, 0.005836607896759459), (757, 0.01309155891122218), (758, 0.0), (759, 0.0031030202276099757), (760, 0.01709175096324221), (761, 0.06033192696719589), (762, 0.005927088794294974), (763, 0.0), (764, 0.0), (765, 0.006135414383249431), (766, 0.027755441811820693), (767, 0.003203019636806225), (768, 0.0), (769, 0.00937560614013342), (770, 0.0), (771, 0.0), (772, 0.0), (773, 0.0), (774, 0.0510460303277776), (775, 0.005461855562265736), (776, 0.0), (777, 0.0036006378640080494), (778, 0.0), (779, 0.005350441936535232), (780, 0.0), (781, 0.0), (782, 0.0034356088654019057), (783, 0.0031490040175907903), (784, 0.0), (785, 0.0), (786, 0.0), (787, 0.03034594346139989), (788, 0.03472149689021592), (789, 0.0), (790, 0.014697474021546267), (791, 0.003989472740326068), (792, 0.013510979626237676), (793, 0.006910131489707186), (794, 0.0032027612116385623), (795, 0.011181513955366746), (796, 0.0029557723738111307), (797, 0.0), (798, 0.0032668404336691124), (799, 0.017846940594028773), (800, 0.008974595076247658), (801, 0.01472940665315853), (802, 0.006750628811303803), (803, 0.006033938343535903), (804, 0.00953809985915928), (805, 0.003298997520641367), (806, 0.014547307640897997), (807, 0.0), (808, 0.010243424176811265), (809, 0.006023025593679234), (810, 0.006398419445843809), (811, 0.006079587513451187), (812, 0.03222280392605617), (813, 0.0037678910997036574), (814, 0.0), (815, 0.003153930015817165), (816, 0.010318231566140267), (817, 0.0031888193858063303), (818, 0.003194200411845507), (819, 0.0), (820, 0.0), (821, 0.0), (822, 0.0), (823, 0.03724398073457061), (824, 0.0028612140111305643), (825, 0.01706680442161756), (826, 0.003220157992181232), (827, 0.014225796620224607), (828, 0.011323777973116015), (829, 0.015906287136917364), (830, 0.04935561092682171), (831, 0.00753186115958674), (832, 0.009886416873154245), (833, 0.009933212145714033), (834, 0.0), (835, 0.0), (836, 0.039329790581955654), (837, 0.0), (838, 0.002852714308846204), (839, 0.0), (840, 0.0), (841, 0.0), (842, 0.018015308334565567), (843, 0.0031285406421311295), (844, 0.00703433758815933), (845, 0.011022829852607538), (846, 0.0), (847, 0.0037535733432167333), (848, 0.0033847240486547963), (849, 0.0063002618998720256), (850, 0.0036022016847376812), (851, 0.011865338583080257), (852, 0.034363804424275814), (853, 0.01927427818844689), (854, 0.0031542611153981496), (855, 0.006564250518500066), (856, 0.003116158242813314), (857, 0.003544560991756085), (858, 0.034306773994933315), (859, 0.0), (860, 0.019566770530712242), (861, 0.00817552738032224), (862, 0.008072874704700708), (863, 0.008217993613952937), (864, 0.012532761580301472), (865, 0.0035975162917375506), (866, 0.017110950026945165), (867, 0.0034030518045682456), (868, 0.009607350111135244), (869, 0.01010317626596133), (870, 0.01899868883613664), (871, 0.0032656291974001586), (872, 0.00345830060860774), (873, 0.04287370403971091), (874, 0.04361752616288875), (875, 0.018161367458747302), (876, 0.019475424956575983), (877, 0.00584870737540669), (878, 0.02045282492101825), (879, 0.02074409761775669), (880, 0.009922590149477623), (881, 0.0), (882, 0.0), (883, 0.0032617878406879146), (884, 0.0033184773030604823), (885, 0.03409570403047433), (886, 0.0030745872445694985), (887, 0.0035772357372689566), (888, 0.020795775880397074), (889, 0.0038423597906233945), (890, 0.0033252569460654356), (891, 0.0067467130377722945), (892, 0.0), (893, 0.005561492775534576), (894, 0.012577021861284841), (895, 0.0032909563203167218), (896, 0.02073752435522344), (897, 0.0033250794247054135), (898, 0.00536700143334493), (899, 0.0032479960980014446), (900, 0.008562123119477707), (901, 0.0032444474935295242), (902, 0.005952957375074852), (903, 0.03240867773350669), (904, 0.05629228119589992), (905, 0.018122751020168942), (906, 0.0), (907, 0.0029893973468973364), (908, 0.00944380677334461), (909, 0.0), (910, 0.010310195898194204), (911, 0.010774698827533976), (912, 0.0), (913, 0.0), (914, 0.0), (915, 0.016515774076170244), (916, 0.015753783209693548), (917, 0.025928022214117892), (918, 0.01617940176232758), (919, 0.006181847137769016), (920, 0.0), (921, 0.00303885024018622), (922, 0.003366713123421607), (923, 0.009274064189630357), (924, 0.0028330372724652553), (925, 0.003482304697042468), (926, 0.0), (927, 0.005902895984992073), (928, 0.0196071258559941), (929, 0.0022899914894712586), (930, 0.010525528536802678), (931, 0.015340560757739248), (932, 0.006238349696698338), (933, 0.003092687516907781), (934, 0.003441664907949688), (935, 0.04315719377963536), (936, 0.009370288708043179), (937, 0.019834822809491545), (938, 0.0), (939, 0.015129356330549763), (940, 0.003023322131841942), (941, 0.0028363934617086947), (942, 0.016264845348678995), (943, 0.0), (944, 0.003079412134714307), (945, 0.0), (946, 0.0), (947, 0.022998660357879824), (948, 0.012219931701804666), (949, 0.003750577707182976), (950, 0.0), (951, 0.002706248595895788), (952, 0.011858621125043125), (953, 0.008788528393465356), (954, 0.0), (955, 0.0), (956, 0.0), (957, 0.0035488958578565803), (958, 0.0), (959, 0.003552393793799651), (960, 0.0), (961, 0.0), (962, 0.003445525713053644), (963, 0.008267994747556557), (964, 0.0), (965, 0.0), (966, 0.003087378020791258), (967, 0.01210576406438562), (968, 0.008110242037311206), (969, 0.0036484372948288294), (970, 0.005298358635705097), (971, 0.0), (972, 0.0), (973, 0.0034228464365036303), (974, 0.005579533540428107), (975, 0.0031350561894811636), (976, 0.01581475059171974), (977, 0.0), (978, 0.0), (979, 0.005188037814719275), (980, 0.009472123056061385), (981, 0.009851605187314061), (982, 0.0), (983, 0.0), (984, 0.00334736813767), (985, 0.003863034156530117), (986, 0.017004045638357924), (987, 0.003463550836170491), (988, 0.02004456311931417), (989, 0.01838061172027293), (990, 0.0), (991, 0.01017713220806636), (992, 0.006409769817006676), (993, 0.003396345817260634), (994, 0.013210396690045556), (995, 0.0), (996, 0.007762804817746151), (997, 0.005833190681626521), (998, 0.003381757905965319), (999, 0.003414223172312805), (1000, 0.016489849343137995), (1001, 0.009438413672428923), (1002, 0.003305361839286477), (1003, 0.006006521465123375), (1004, 0.0030924729644616054), (1005, 0.01019085223090203), (1006, 0.0032629449483638122), (1007, 0.003601289326497393), (1008, 0.0), (1009, 0.0075969754663924634), (1010, 0.0), (1011, 0.0), (1012, 0.005806337729691657), (1013, 0.0), (1014, 0.0), (1015, 0.02142184174423816), (1016, 0.0), (1017, 0.019448156100601077), (1018, 0.01516849892999209), (1019, 0.005699647407184583), (1020, 0.0028807264788597354), (1021, 0.06417787742631666), (1022, 0.0), (1023, 0.004018357634996576), (1024, 0.048998142779481654), (1025, 0.0), (1026, 0.0033732686142921623), (1027, 0.003395245183712123), (1028, 0.0), (1029, 0.0), (1030, 0.04203188439685986), (1031, 0.0), (1032, 0.0030179571568022365), (1033, 0.0032501123569963816), (1034, 0.0031273579792393483), (1035, 0.017370790340539302), (1036, 0.00338489659358807), (1037, 0.00254204514565675), (1038, 0.0), (1039, 0.0), (1040, 0.0023368543403236696), (1041, 0.008921752348236018), (1042, 0.0026418955851185187), (1043, 0.0037208370393508584), (1044, 0.009144397061537517), (1045, 0.0), (1046, 0.0), (1047, 0.017479011745245788), (1048, 0.003407393265572786), (1049, 0.0035474602503054384), (1050, 0.01031294611198008), (1051, 0.0), (1052, 0.0033415733163480775), (1053, 0.013561278658166268), (1054, 0.015857577512447874), (1055, 0.0), (1056, 0.0), (1057, 0.03084244232666951), (1058, 0.01794659624713628), (1059, 0.03778066026801258), (1060, 0.034240119697456425), (1061, 0.016676056702205604), (1062, 0.0), (1063, 0.04380633158918896), (1064, 0.020635396221552194), (1065, 0.0077739945955786), (1066, 0.0), (1067, 0.0), (1068, 0.0143033843290356), (1069, 0.0), (1070, 0.0987255616821825), (1071, 0.011045322381046774), (1072, 0.0029894172674767984), (1073, 0.0), (1074, 0.01584070993979118), (1075, 0.003252571028352186), (1076, 0.009472165522301401), (1077, 0.0030091871367010203), (1078, 0.010312790694498593), (1079, 0.0031204286485219824), (1080, 0.003238148376839686), (1081, 0.0), (1082, 0.006002189694476725), (1083, 0.00874364764904859), (1084, 0.0033135051713591487), (1085, 0.04826861230927027), (1086, 0.0), (1087, 0.0034495500778996377), (1088, 0.003878019169309061), (1089, 0.0), (1090, 0.0), (1091, 0.0), (1092, 0.013860625633544616), (1093, 0.0), (1094, 0.0), (1095, 0.028701899376558454), (1096, 0.0033291292966036675), (1097, 0.0), (1098, 0.027234830953014214), (1099, 0.006413028075531706), (1100, 0.0035581873898862357), (1101, 0.0), (1102, 0.06925806272899022), (1103, 0.0), (1104, 0.01592615758641742), (1105, 0.0), (1106, 0.0), (1107, 0.01853031396569751), (1108, 0.0), (1109, 0.0037012530820887237), (1110, 0.0037305416512453523), (1111, 0.0), (1112, 0.003563046658529888), (1113, 0.0), (1114, 0.0031684595603058514), (1115, 0.022358047185861405), (1116, 0.00939878881065501), (1117, 0.003229106868905014), (1118, 0.07514671163495976), (1119, 0.019237022107696403), (1120, 0.005981431620826853), (1121, 0.003742317312520957), (1122, 0.003448987942185579), (1123, 0.00870078935857901), (1124, 0.0034183738898096684), (1125, 0.0), (1126, 0.0), (1127, 0.00619279706563887), (1128, 0.009073537145358435), (1129, 0.006057787953169035), (1130, 0.0), (1131, 0.003418580867140915), (1132, 0.019835100017908485), (1133, 0.0), (1134, 0.04223520663052775), (1135, 0.0), (1136, 0.0030024448757330403), (1137, 0.041951834102044686), (1138, 0.010665053445022969), (1139, 0.0), (1140, 0.01004990856581185), (1141, 0.02001029255685509), (1142, 0.0), (1143, 0.0), (1144, 0.002752089122775952), (1145, 0.004186371275066937), (1146, 0.033304380441603595), (1147, 0.0), (1148, 0.059978297601409394), (1149, 0.0), (1150, 0.0063420356935053246), (1151, 0.0), (1152, 0.0), (1153, 0.005100771822889244), (1154, 0.006368673040340261), (1155, 0.0), (1156, 0.0), (1157, 0.0), (1158, 0.006137767205305893), (1159, 0.0), (1160, 0.010929798598732353), (1161, 0.0027264559555235618), (1162, 0.01595744919996658), (1163, 0.003196499754653706), (1164, 0.004757171738826952), (1165, 0.0), (1166, 0.0), (1167, 0.006355695750266565), (1168, 0.004080508798519662), (1169, 0.0038255373690497456), (1170, 0.0034434749373911883), (1171, 0.0), (1172, 0.0), (1173, 0.014919140292974512), (1174, 0.009480151874494122), (1175, 0.003587724460688697), (1176, 0.0032902562777538794), (1177, 0.008367368612281318), (1178, 0.0), (1179, 0.00968284264694511), (1180, 0.0), (1181, 0.030955346882669335), (1182, 0.0030508060692083254), (1183, 0.017068324270556684), (1184, 0.02020483759399594), (1185, 0.015577782503159925), (1186, 0.031689197697851466), (1187, 0.003539258616407368), (1188, 0.009566702044239211), (1189, 0.0), (1190, 0.0), (1191, 0.010459943868153682), (1192, 0.010602618301543996), (1193, 0.0), (1194, 0.008036098721910242), (1195, 0.031889417516401834), (1196, 0.0), (1197, 0.005740466736197434), (1198, 0.0), (1199, 0.00321989102059674), (1200, 0.0), (1201, 0.0), (1202, 0.007917138612751536), (1203, 0.0032107491947821728), (1204, 0.003502814740423508), (1205, 0.03351890400810913), (1206, 0.0033891016042302273), (1207, 0.005841355500618224), (1208, 0.004064742025485197), (1209, 0.0027809613193645133), (1210, 0.005555672857888731), (1211, 0.005515038328762483), (1212, 0.0), (1213, 0.00830986848330078), (1214, 0.008627977525532737), (1215, 0.008126033784774639), (1216, 0.003404483127977901), (1217, 0.003062653685573244), (1218, 0.0), (1219, 0.003459257531562008), (1220, 0.009756628128221171), (1221, 0.0), (1222, 0.0), (1223, 0.009383514603570467), (1224, 0.02090218510973379), (1225, 0.009788070038934683), (1226, 0.015337779583372027), (1227, 0.0), (1228, 0.0), (1229, 0.010636167730004377), (1230, 0.015536665246695633), (1231, 0.009448198645554991), (1232, 0.01889205734501439), (1233, 0.0), (1234, 0.013338251091253176), (1235, 0.0), (1236, 0.04798500112086562), (1237, 0.018623510574338604), (1238, 0.0), (1239, 0.0), (1240, 0.0), (1241, 0.027870738955714614), (1242, 0.0), (1243, 0.003761705284115073), (1244, 0.0), (1245, 0.003256555507325301), (1246, 0.0), (1247, 0.0035196085153228894), (1248, 0.019988310144329204), (1249, 0.0), (1250, 0.0), (1251, 0.0037766901957589517), (1252, 0.019564641342787955), (1253, 0.0), (1254, 0.0037172131059751523), (1255, 0.010161391304999847), (1256, 0.0), (1257, 0.04451380668977571), (1258, 0.0), (1259, 0.014053240577310777), (1260, 0.010148207425909163), (1261, 0.03679482188064225), (1262, 0.005883699057329519), (1263, 0.0), (1264, 0.013702972173020866), (1265, 0.0), (1266, 0.005939183173538924), (1267, 0.0), (1268, 0.0), (1269, 0.0), (1270, 0.005896529003216499), (1271, 0.0), (1272, 0.0062279548437692515), (1273, 0.0029672696402200864), (1274, 0.0), (1275, 0.020416364018885247), (1276, 0.012676341605601238), (1277, 0.002487710050959255), (1278, 0.0), (1279, 0.00656308441351743), (1280, 0.006311617914296485), (1281, 0.005913951683563748), (1282, 0.009357737988645674), (1283, 0.03174386695633902), (1284, 0.0037388342380371815), (1285, 0.0), (1286, 0.0036117274750387045), (1287, 0.0), (1288, 0.0), (1289, 0.0), (1290, 0.012266356526535344), (1291, 0.0), (1292, 0.01647558827770601), (1293, 0.0), (1294, 0.0033844387077404), (1295, 0.0), (1296, 0.0), (1297, 0.0), (1298, 0.003338972998008466), (1299, 0.0), (1300, 0.01473792515920614), (1301, 0.0035016166427985595), (1302, 0.0062925831916828745), (1303, 0.017611184166218062), (1304, 0.0034320206973932625), (1305, 0.003309428927443551), (1306, 0.0032987415368339146), (1307, 0.0), (1308, 0.003193597697830745), (1309, 0.005433725901848424), (1310, 0.0), (1311, 0.04478143480358806), (1312, 0.0028743829441031134), (1313, 0.003223275662032287), (1314, 0.015760916502574312), (1315, 0.0), (1316, 0.0), (1317, 0.011902748669134947), (1318, 0.003549396275704936), (1319, 0.003383625424894279), (1320, 0.055116162879679256), (1321, 0.0), (1322, 0.0), (1323, 0.0), (1324, 0.0033648492469129823), (1325, 0.021578569176780915), (1326, 0.0), (1327, 0.0), (1328, 0.0), (1329, 0.0), (1330, 0.009611925559862431), (1331, 0.0), (1332, 0.006480465412816423), (1333, 0.0), (1334, 0.01377287393605842), (1335, 0.022033307902743462), (1336, 0.0), (1337, 0.019709909609611727), (1338, 0.012537509429211148), (1339, 0.013586616843522067), (1340, 0.003010612911266217), (1341, 0.0), (1342, 0.0), (1343, 0.01797925067018016), (1344, 0.010118198016922257), (1345, 0.0), (1346, 0.0), (1347, 0.005821834073023623), (1348, 0.013608497435098834), (1349, 0.003648523986312386), (1350, 0.002940757605160978), (1351, 0.044668954268710995), (1352, 0.0029582927786706162), (1353, 0.0), (1354, 0.0), (1355, 0.003338695411610526), (1356, 0.00900673924172878), (1357, 0.003616360132340044), (1358, 0.030943066456539783), (1359, 0.0034653951590129803), (1360, 0.017275034527706942), (1361, 0.0), (1362, 0.040439245881851646), (1363, 0.04555426861794812), (1364, 0.003304517839566221), (1365, 0.0032357658022652003), (1366, 0.003590399306655429), (1367, 0.0030843188431107973), (1368, 0.0), (1369, 0.04108977123010989), (1370, 0.0029437553954823623), (1371, 0.012519254749923641), (1372, 0.0031752406209586545), (1373, 0.0), (1374, 0.0), (1375, 0.009610921916723764), (1376, 0.0), (1377, 0.01534463611244129), (1378, 0.003282076637622943), (1379, 0.0), (1380, 0.006346543592014316), (1381, 0.006638488573340901), (1382, 0.0035145887885123612), (1383, 0.044323576470199244), (1384, 0.00601454432684015), (1385, 0.018953357305380086), (1386, 0.0), (1387, 0.014638480161149613), (1388, 0.008929590085788627), (1389, 0.0), (1390, 0.0), (1391, 0.00639454042707952), (1392, 0.0032381984998070623), (1393, 0.01064685281900424), (1394, 0.0032034275712291317), (1395, 0.004934364624066632), (1396, 0.006335031783989515), (1397, 0.025019605652443426), (1398, 0.03651024730582246), (1399, 0.0), (1400, 0.009549678005642328), (1401, 0.0), (1402, 0.00344211649541849), (1403, 0.003224926111363867), (1404, 0.003494355982735403), (1405, 0.0), (1406, 0.015139983758731993), (1407, 0.006274810376646842), (1408, 0.003144636573061153), (1409, 0.003448675966037607), (1410, 0.003397208406732996), (1411, 0.0032068139804595185), (1412, 0.01656998075546956), (1413, 0.009406036009154586), (1414, 0.008196400146081471), (1415, 0.002479833104965329), (1416, 0.003556430904020847), (1417, 0.017848916653537744), (1418, 0.0), (1419, 0.016619055578478335), (1420, 0.006225897093481214), (1421, 0.008895692970455595), (1422, 0.0031902193754870843), (1423, 0.0031536153716665034), (1424, 0.0), (1425, 0.0), (1426, 0.006374604001409593), (1427, 0.002644986031854027), (1428, 0.006088556383291249), (1429, 0.01023985179708127), (1430, 0.03649751074198087), (1431, 0.006185823834547724), (1432, 0.015859569234806973), (1433, 0.009329566411510181), (1434, 0.0027650262302153874), (1435, 0.006576065858882122), (1436, 0.017287497889764497), (1437, 0.0), (1438, 0.012813466921044028), (1439, 0.003364330256828317), (1440, 0.012863602209397206), (1441, 0.0), (1442, 0.014238744213437975), (1443, 0.006758045693768725), (1444, 0.0), (1445, 0.0), (1446, 0.0032340220949510583), (1447, 0.0), (1448, 0.008413455362167838), (1449, 0.005768357266509283), (1450, 0.0037301215562107848), (1451, 0.005534069960036109), (1452, 0.006221476424773026), (1453, 0.0), (1454, 0.01105608117127892), (1455, 0.015315877962864502), (1456, 0.003809769152084369), (1457, 0.0), (1458, 0.006578957710132293), (1459, 0.0), (1460, 0.0), (1461, 0.009166992958085618), (1462, 0.008677015786727913), (1463, 0.0032126954908213603), (1464, 0.0031197029661067534), (1465, 0.0029737183678217077), (1466, 0.0), (1467, 0.0), (1468, 0.0), (1469, 0.00643838421345987), (1470, 0.0), (1471, 0.016466445917408517), (1472, 0.010289930939918854), (1473, 0.0), (1474, 0.0035371569849855385), (1475, 0.00333388520701568), (1476, 0.003359700041715683), (1477, 0.0033816427594475476), (1478, 0.020105429212933325), (1479, 0.0037312183919635585), (1480, 0.00622257812305712), (1481, 0.019894317613119092), (1482, 0.0398217969273291), (1483, 0.019651121643348715), (1484, 0.010231535433720837), (1485, 0.0), (1486, 0.0), (1487, 0.0), (1488, 0.010754334023171318), (1489, 0.010944624347880494), (1490, 0.0), (1491, 0.0), (1492, 0.0), (1493, 0.005445560427282229), (1494, 0.0035238491942365187), (1495, 0.0), (1496, 0.0), (1497, 0.0034162777151981473), (1498, 0.010372714993682235), (1499, 0.03669432660880608), (1500, 0.003465122597088076), (1501, 0.0), (1502, 0.006029609542292849), (1503, 0.0035256578501609774), (1504, 0.009556100261862994), (1505, 0.0), (1506, 0.01901415872637044), (1507, 0.010420275431048629), (1508, 0.0), (1509, 0.020305784685390828), (1510, 0.01019431767592857), (1511, 0.0), (1512, 0.0), (1513, 0.011990826766515745), (1514, 0.002992819689690026), (1515, 0.0), (1516, 0.0033824459237931184), (1517, 0.0), (1518, 0.003911476179733671), (1519, 0.008266974535860302), (1520, 0.0), (1521, 0.0), (1522, 0.0), (1523, 0.0), (1524, 0.0), (1525, 0.0), (1526, 0.0), (1527, 0.013319439763278318), (1528, 0.0032046727080752876), (1529, 0.0), (1530, 0.03688927443043723), (1531, 0.006488502132698402), (1532, 0.0), (1533, 0.0038264099851785718), (1534, 0.0), (1535, 0.0), (1536, 0.009649922614050932), (1537, 0.00968327033397371), (1538, 0.002924040423356462), (1539, 0.0029692416334757593), (1540, 0.0108288159821876), (1541, 0.0), (1542, 0.01727857512939559), (1543, 0.0032885465085735017), (1544, 0.01023659518663317), (1545, 0.0), (1546, 0.005494608273137077), (1547, 0.0035177384280961487), (1548, 0.0), (1549, 0.0), (1550, 0.0033656155902705466), (1551, 0.006018942568077552), (1552, 0.0), (1553, 0.003092953564116489), (1554, 0.0062477143446505404), (1555, 0.009679484229300848), (1556, 0.0), (1557, 0.0), (1558, 0.0030014283593060914), (1559, 0.005404171706428343), (1560, 0.03353058069675196), (1561, 0.0), (1562, 0.00618547661362371), (1563, 0.0), (1564, 0.0), (1565, 0.0028052574299427), (1566, 0.0060134508134868595), (1567, 0.00880483877357871), (1568, 0.005971186570479272), (1569, 0.0), (1570, 0.0031403740709180276), (1571, 0.003125625777079243), (1572, 0.021843768179735126), (1573, 0.005958866139760492), (1574, 0.0032357826828270995), (1575, 0.006248281901787883), (1576, 0.005890626419746225), (1577, 0.0), (1578, 0.0), (1579, 0.0), (1580, 0.003573452433538581), (1581, 0.0), (1582, 0.012897989962716312), (1583, 0.0), (1584, 0.0), (1585, 0.009381173934442755), (1586, 0.0), (1587, 0.005870758445345077), (1588, 0.006660115913879874), (1589, 0.0), (1590, 0.006094405663829387), (1591, 0.015874441724075053), (1592, 0.0), (1593, 0.0036439588379947826), (1594, 0.003904691467714731), (1595, 0.016984609147638472), (1596, 0.0), (1597, 0.0034768134816833855), (1598, 0.003189828701240645), (1599, 0.0), (1600, 0.0), (1601, 0.0), (1602, 0.0), (1603, 0.0), (1604, 0.0), (1605, 0.0029322955742195405), (1606, 0.0), (1607, 0.0), (1608, 0.009681481385198209), (1609, 0.0), (1610, 0.0), (1611, 0.0), (1612, 0.0032266564941861226), (1613, 0.0), (1614, 0.006437791585868784), (1615, 0.0), (1616, 0.0033586303796196673), (1617, 0.0033812926237488912), (1618, 0.0), (1619, 0.003467778281492017), (1620, 0.01220654297238464), (1621, 0.018268885615721403), (1622, 0.005777619351905055), (1623, 0.005418568853650955), (1624, 0.003060814612806833), (1625, 0.002972104447653188), (1626, 0.0), (1627, 0.00797466165686205), (1628, 0.0027431020478977724), (1629, 0.019172157005531446), (1630, 0.0058670531418782475), (1631, 0.005723191497571551), (1632, 0.0059677658945234205), (1633, 0.005688819352874415), (1634, 0.03535298841454382), (1635, 0.00553276918010776), (1636, 0.0), (1637, 0.003806172185569625), (1638, 0.0), (1639, 0.0), (1640, 0.0), (1641, 0.00309726328515283), (1642, 0.003144229802977), (1643, 0.009505853604795871), (1644, 0.0), (1645, 0.0032363570520222255), (1646, 0.0), (1647, 0.11997741691762637), (1648, 0.00272235580621942), (1649, 0.0), (1650, 0.0035046198212542994), (1651, 0.0), (1652, 0.046305621593411644), (1653, 0.008949001878660604), (1654, 0.0), (1655, 0.00359117151538029), (1656, 0.003429801599782579), (1657, 0.024855025867483088), (1658, 0.0033179668707534957), (1659, 0.006301894060499218), (1660, 0.003517107741129544), (1661, 0.005915581458872139), (1662, 0.006294515540815222), (1663, 0.0031515321333520944), (1664, 0.0), (1665, 0.01706045420784114), (1666, 0.003895284795836808), (1667, 0.017643091415645774), (1668, 0.0), (1669, 0.0), (1670, 0.0031713113033981894), (1671, 0.01744043060771653), (1672, 0.002947972203927961), (1673, 0.0), (1674, 0.0091834852435203), (1675, 0.03798337910378082), (1676, 0.0), (1677, 0.003039028168404436), (1678, 0.01887863364328528), (1679, 0.0), (1680, 0.0177014327408263), (1681, 0.016758672756536315), (1682, 0.003489058683208619), (1683, 0.0031504879124625365), (1684, 0.0), (1685, 0.003160066902402023), (1686, 0.0), (1687, 0.01919638356845088), (1688, 0.0034753226832242123), (1689, 0.0), (1690, 0.003025111446623031), (1691, 0.003319572921749332), (1692, 0.0), (1693, 0.00311244949005172), (1694, 0.01493742128418045), (1695, 0.0), (1696, 0.005755442115215127), (1697, 0.0), (1698, 0.0), (1699, 0.005030693649796879), (1700, 0.0), (1701, 0.006235711015968302), (1702, 0.047133407956447), (1703, 0.003285264195294337), (1704, 0.0), (1705, 0.009791631399264875), (1706, 0.0032351355787014883), (1707, 0.006419570763356636), (1708, 0.0031978533107838948), (1709, 0.0), (1710, 0.003538408039448942), (1711, 0.0037762162746832035), (1712, 0.0032174271910943553), (1713, 0.0395375458468278), (1714, 0.0), (1715, 0.0), (1716, 0.020449247423954126), (1717, 0.0033823224126765237), (1718, 0.0), (1719, 0.0035325904739727924), (1720, 0.0347146546348915), (1721, 0.00864443577369795), (1722, 0.0032965966841839675), (1723, 0.006350838613040664), (1724, 0.00642791682604941), (1725, 0.0), (1726, 0.0), (1727, 0.012839296607373669), (1728, 0.0), (1729, 0.0), (1730, 0.003011859380584191), (1731, 0.0), (1732, 0.005878489364848637), (1733, 0.0036955606444845626), (1734, 0.0), (1735, 0.009776241553847338), (1736, 0.013829135798444346), (1737, 0.0), (1738, 0.009738962232341716), (1739, 0.017859129326567753), (1740, 0.019223515742544883), (1741, 0.0), (1742, 0.0031160133281262527), (1743, 0.003148629233569772), (1744, 0.0030074865170649297), (1745, 0.0), (1746, 0.0), (1747, 0.0028579475781543608), (1748, 0.003508237759610211), (1749, 0.033097342666830405), (1750, 0.0), (1751, 0.0), (1752, 0.029705076625412618), (1753, 0.0048771384266727055), (1754, 0.01351411049874653), (1755, 0.0), (1756, 0.0), (1757, 0.03134952083369085), (1758, 0.0), (1759, 0.0031808272276597307), (1760, 0.009444051918984883), (1761, 0.005985013795702292), (1762, 0.0031491825322675256), (1763, 0.033015436043140334), (1764, 0.0030804574206280146), (1765, 0.0034963161149507696), (1766, 0.0), (1767, 0.0), (1768, 0.00346775571296955), (1769, 0.0), (1770, 0.032898109861054944), (1771, 0.0), (1772, 0.005695111152525948), (1773, 0.005625234153002655), (1774, 0.01645442203838635), (1775, 0.0), (1776, 0.013348888885229416), (1777, 0.0), (1778, 0.0), (1779, 0.009758699367780847), (1780, 0.003471365099650971), (1781, 0.01327954363362805), (1782, 0.003716391094782138), (1783, 0.0), (1784, 0.005739891362469535), (1785, 0.0), (1786, 0.0), (1787, 0.0), (1788, 0.0066337674719330626), (1789, 0.01530180801833354), (1790, 0.0), (1791, 0.006215901104315188), (1792, 0.003513137299470884), (1793, 0.0035956557645468856), (1794, 0.0), (1795, 0.0), (1796, 0.01697752648296625), (1797, 0.008647627822419126), (1798, 0.003468769824573816), (1799, 0.007323589832447584), (1800, 0.0), (1801, 0.002983621196048226), (1802, 0.0), (1803, 0.0), (1804, 0.0), (1805, 0.003685338517759886), (1806, 0.010928302253704582), (1807, 0.0032360173680351973), (1808, 0.0034589182436418646), (1809, 0.054482351471557715), (1810, 0.0), (1811, 0.009643151109111084), (1812, 0.0064256773801019155), (1813, 0.003654724544622142), (1814, 0.0032527135866255294), (1815, 0.01755345745241531), (1816, 0.009650354555675988), (1817, 0.005847663861804124), (1818, 0.0), (1819, 0.008804824240968092), (1820, 0.0), (1821, 0.05641840952178761), (1822, 0.0031892001842926203), (1823, 0.0), (1824, 0.0), (1825, 0.0), (1826, 0.0027090139384922376), (1827, 0.0032858071241464435), (1828, 0.0035404617848879853), (1829, 0.006931606845172555), (1830, 0.002973554623833227), (1831, 0.0031141780744527348), (1832, 0.014331643928844274), (1833, 0.00285442888697556), (1834, 0.0), (1835, 0.0), (1836, 0.0), (1837, 0.04236453010748775), (1838, 0.005659821621565049), (1839, 0.0), (1840, 0.006177854501108838), (1841, 0.0), (1842, 0.0), (1843, 0.003377366042448033), (1844, 0.0), (1845, 0.008789393470407005), (1846, 0.0060735668389804345), (1847, 0.00922100994263605), (1848, 0.0037143701578773794), (1849, 0.0), (1850, 0.0), (1851, 0.0034386813687800025), (1852, 0.00571443815249277), (1853, 0.018035294241685363), (1854, 0.011862682216192043), (1855, 0.0), (1856, 0.0), (1857, 0.0059299236506666), (1858, 0.014120245841038645), (1859, 0.006398521527886583), (1860, 0.0035798477213064023), (1861, 0.010167680649920526), (1862, 0.0033848290009951924), (1863, 0.0), (1864, 0.009568856115372393), (1865, 0.010272414708945556), (1866, 0.010112591720663887), (1867, 0.0), (1868, 0.0), (1869, 0.003201055932430723), (1870, 0.0), (1871, 0.0034789170092328283), (1872, 0.003361556212754167), (1873, 0.006465999479637694), (1874, 0.013604535514421626), (1875, 0.0030661364780306096), (1876, 0.01070856788806674), (1877, 0.003051365467273094), (1878, 0.04757838473662879), (1879, 0.0), (1880, 0.0), (1881, 0.0062535003152813405), (1882, 0.003135319170567572), (1883, 0.0), (1884, 0.0031861932736823115), (1885, 0.03690963299461899), (1886, 0.08966817746750592), (1887, 0.0038295902953281147), (1888, 0.0), (1889, 0.0), (1890, 0.0037101004641698345), (1891, 0.0031609177627554812), (1892, 0.0077028378335870324), (1893, 0.003442732764598315), (1894, 0.0), (1895, 0.0), (1896, 0.003361629077145984), (1897, 0.00934872606230441), (1898, 0.0), (1899, 0.0), (1900, 0.005415323540129274), (1901, 0.0065873294414739774), (1902, 0.009453815689739561), (1903, 0.0), (1904, 0.005757703840713966), (1905, 0.0032760739618531358), (1906, 0.0), (1907, 0.0034342222684248178), (1908, 0.0), (1909, 0.0033651869971874325), (1910, 0.006133408687605571), (1911, 0.0), (1912, 0.0), (1913, 0.0), (1914, 0.005514476168297777), (1915, 0.0), (1916, 0.003570758188818216), (1917, 0.0), (1918, 0.010563229401261713), (1919, 0.0038993753370534815), (1920, 0.003259018360760221), (1921, 0.003189755479721616), (1922, 0.012039424814873804), (1923, 0.013715552463007655), (1924, 0.01033025164642003), (1925, 0.006656149110265936), (1926, 0.0), (1927, 0.005819240520611399), (1928, 0.0), (1929, 0.003793272647719732), (1930, 0.006090170829854203), (1931, 0.009463746324592523), (1932, 0.0), (1933, 0.005832058160208666), (1934, 0.008105919898188024), (1935, 0.0), (1936, 0.0033043214443126885), (1937, 0.014905288452178516), (1938, 0.0), (1939, 0.007294406759075348), (1940, 0.006933053403593893), (1941, 0.006546017406633779), (1942, 0.018652079188739113), (1943, 0.0031935721896527852), (1944, 0.0), (1945, 0.009046445805412763), (1946, 0.0035203336820788574), (1947, 0.0034983152135444704), (1948, 0.0), (1949, 0.01626097450810661), (1950, 0.0030209549219176804), (1951, 0.003369257787086211), (1952, 0.0064262462183272305), (1953, 0.005775892649254481), (1954, 0.0029951282046532914), (1955, 0.0), (1956, 0.0), (1957, 0.0), (1958, 0.015542240929273806), (1959, 0.003675605756261115), (1960, 0.009238611800938098), (1961, 0.0), (1962, 0.006701040172995212), (1963, 0.0), (1964, 0.00893630610333367), (1965, 0.0), (1966, 0.0), (1967, 0.01953988819743331), (1968, 0.011197274314690128), (1969, 0.003309500079837959), (1970, 0.048266364915858034), (1971, 0.012862641500270364), (1972, 0.0), (1973, 0.037602041077707815), (1974, 0.0), (1975, 0.006092781210165264), (1976, 0.036726444033401424), (1977, 0.1054920958711317), (1978, 0.0), (1979, 0.0), (1980, 0.002825353577630853), (1981, 0.009155716956486148), (1982, 0.09671415844548989), (1983, 0.02155010910835932), (1984, 0.0), (1985, 0.019050836291992352), (1986, 0.00941693067323434), (1987, 0.009202606029964608), (1988, 0.0), (1989, 0.016639684763553476), (1990, 0.03742836096645915), (1991, 0.04684460790934437), (1992, 0.015202955732131635), (1993, 0.005635979406879348), (1994, 0.04612087145755028), (1995, 0.0032425481508628045), (1996, 0.006201263978824019), (1997, 0.021152123066577776), (1998, 0.006184230172852038), (1999, 0.031205851097066768), (2000, 0.0032558226946899573), (2001, 0.0), (2002, 0.0), (2003, 0.0), (2004, 0.0032685224869394847), (2005, 0.0), (2006, 0.0), (2007, 0.0), (2008, 0.009105636484507292), (2009, 0.0), (2010, 0.0023672492569525505), (2011, 0.0032032138292182135), (2012, 0.056646551212024325), (2013, 0.0258146748851169), (2014, 0.04301098830437911), (2015, 0.006275784920331046), (2016, 0.013292552565252413), (2017, 0.0), (2018, 0.0447210176627383), (2019, 0.0), (2020, 0.023494895047520503), (2021, 0.0), (2022, 0.0), (2023, 0.021118728536752538), (2024, 0.017594250002630943), (2025, 0.0), (2026, 0.05481511269885756), (2027, 0.0034073271037629448), (2028, 0.0), (2029, 0.013211738519757559), (2030, 0.0), (2031, 0.009087184843193425), (2032, 0.0), (2033, 0.0), (2034, 0.0026600200873592703), (2035, 0.0032367520522555817), (2036, 0.0), (2037, 0.02213159509462039), (2038, 0.0), (2039, 0.0034182703794754907), (2040, 0.020192907091720773), (2041, 0.0), (2042, 0.0), (2043, 0.0), (2044, 0.006594620163505516), (2045, 0.009617393563181328), (2046, 0.0), (2047, 0.0036665759512502583), (2048, 0.029734925801563783), (2049, 0.0033028720927794734), (2050, 0.0), (2051, 0.003328270193121966), (2052, 0.0), (2053, 0.02033512858031368), (2054, 0.0), (2055, 0.012496118192159724), (2056, 0.0), (2057, 0.014778758368093368), (2058, 0.0), (2059, 0.0), (2060, 0.003957593820516971), (2061, 0.010152369804650955), (2062, 0.005972284346793938), (2063, 0.0), (2064, 0.0), (2065, 0.011637026626771367), (2066, 0.01737497334613801), (2067, 0.0032007276790389245), (2068, 0.0031742530719335027), (2069, 0.009462536723566317), (2070, 0.01881800557063015), (2071, 0.0), (2072, 0.0036527704819557263), (2073, 0.0033548685548892717), (2074, 0.006425200893043922), (2075, 0.011093472985295994), (2076, 0.01181026551984708), (2077, 0.010379421150803892), (2078, 0.0060588549131758065), (2079, 0.0), (2080, 0.01117209006506132), (2081, 0.0), (2082, 0.040939221138161744), (2083, 0.003404810484371839), (2084, 0.006283175378034401), (2085, 0.0), (2086, 0.0), (2087, 0.002952609119249154), (2088, 0.009796971142571186), (2089, 0.00995472875910874), (2090, 0.0), (2091, 0.009454526457337332), (2092, 0.0), (2093, 0.013035066332228354), (2094, 0.006658377949231247), (2095, 0.0), (2096, 0.019355948620990535), (2097, 0.014616294299173892), (2098, 0.0), (2099, 0.00343291500451897), (2100, 0.04235446259598705), (2101, 0.0), (2102, 0.037689008840547725), (2103, 0.003330298827129709), (2104, 0.01000231249858406), (2105, 0.0033910681774750547), (2106, 0.0), (2107, 0.0), (2108, 0.003284410971802435), (2109, 0.03722584339661704), (2110, 0.013506228068720746), (2111, 0.00389374731371486), (2112, 0.07407459103549646), (2113, 0.0), (2114, 0.0), (2115, 0.0), (2116, 0.003203559835227201), (2117, 0.0032246371292050766), (2118, 0.0), (2119, 0.014714132849401264), (2120, 0.0), (2121, 0.009167150233571427), (2122, 0.04383507562700999), (2123, 0.048018684238778836), (2124, 0.0), (2125, 0.0), (2126, 0.013772508945816482), (2127, 0.002672108170182076), (2128, 0.0), (2129, 0.0030832716324870526), (2130, 0.006511085326782343), (2131, 0.0033165727822438117), (2132, 0.0029568915105041807), (2133, 0.003391129164069694), (2134, 0.003348821285777243), (2135, 0.0), (2136, 0.0063088300041325195), (2137, 0.0042915083052863425), (2138, 0.0), (2139, 0.005464428387911738), (2140, 0.0), (2141, 0.0031310078774811545), (2142, 0.0035212982903452933), (2143, 0.003209684045224644), (2144, 0.003315787474702948), (2145, 0.0), (2146, 0.002564466009543588), (2147, 0.046392244199302525), (2148, 0.0032064826179749382), (2149, 0.0030332837216368643), (2150, 0.0), (2151, 0.0035007729929180395), (2152, 0.0), (2153, 0.0), (2154, 0.02147020797504577), (2155, 0.04425704501296057), (2156, 0.0), (2157, 0.028999301896085194), (2158, 0.010792252924769654), (2159, 0.0032845773507212987), (2160, 0.0), (2161, 0.0), (2162, 0.013561422212116469), (2163, 0.0029462902915526378), (2164, 0.0), (2165, 0.0), (2166, 0.0038095449481219423), (2167, 0.0), (2168, 0.0), (2169, 0.003234554770308355), (2170, 0.0), (2171, 0.0), (2172, 0.0), (2173, 0.028586074046731653), (2174, 0.01728186537038561), (2175, 0.0), (2176, 0.0032814008471414467), (2177, 0.0), (2178, 0.015574509740219879), (2179, 0.0), (2180, 0.0), (2181, 0.006731480888469741), (2182, 0.0), (2183, 0.0), (2184, 0.008270461651418466), (2185, 0.0), (2186, 0.0), (2187, 0.04783026386131655), (2188, 0.011521996890367947), (2189, 0.004250518405478555), (2190, 0.003545323335066607), (2191, 0.010025594108684921), (2192, 0.003229678923496369), (2193, 0.0036341853270391664), (2194, 0.0), (2195, 0.0033854398272917734), (2196, 0.021578800193324407), (2197, 0.0060096075644212685), (2198, 0.030663441159959233), (2199, 0.003927850111080641), (2200, 0.0), (2201, 0.0031738915241961677), (2202, 0.0), (2203, 0.0), (2204, 0.0), (2205, 0.0), (2206, 0.01410513915089704), (2207, 0.0), (2208, 0.006648043000579713), (2209, 0.003253597188053671), (2210, 0.031053681919951573), (2211, 0.002745974707161565), (2212, 0.04860433463378065), (2213, 0.0031095622754487716), (2214, 0.061430613662812494), (2215, 0.0), (2216, 0.019341109167223078), (2217, 0.0), (2218, 0.0), (2219, 0.0), (2220, 0.0), (2221, 0.0036045108156693624), (2222, 0.0), (2223, 0.0034181104951965602), (2224, 0.019086190430906612), (2225, 0.0), (2226, 0.003823707367427998), (2227, 0.0), (2228, 0.011029662580560635), (2229, 0.02064134886636509), (2230, 0.00358804829204392), (2231, 0.006055904335386922), (2232, 0.005954647010558394), (2233, 0.0), (2234, 0.0), (2235, 0.01889151602988131), (2236, 0.0038884480162597363), (2237, 0.003381611019622575), (2238, 0.0), (2239, 0.0), (2240, 0.0027337712964970854), (2241, 0.0), (2242, 0.0033076236877868513), (2243, 0.0), (2244, 0.0), (2245, 0.006456384859929796), (2246, 0.005926348210826498), (2247, 0.0), (2248, 0.0027021500541688503), (2249, 0.0), (2250, 0.014938174688538818), (2251, 0.004208567646989983), (2252, 0.006478257262202288), (2253, 0.0), (2254, 0.021213170234110013), (2255, 0.01100381329315725), (2256, 0.0), (2257, 0.003895270593303236), (2258, 0.0), (2259, 0.0), (2260, 0.0031745633450543827), (2261, 0.0), (2262, 0.0), (2263, 0.0), (2264, 0.011832303629432439), (2265, 0.0028095813717055377), (2266, 0.004272131536888389), (2267, 0.0), (2268, 0.0031977324438793), (2269, 0.0043362839326567025), (2270, 0.0030563751406011406), (2271, 0.0), (2272, 0.0), (2273, 0.0071706193030927744), (2274, 0.0), (2275, 0.018629848576577505), (2276, 0.02595517381470748), (2277, 0.0031107362835812186), (2278, 0.005864322012966668), (2279, 0.011052023692620665), (2280, 0.015052625283274404), (2281, 0.0), (2282, 0.0), (2283, 0.006059414383352465), (2284, 0.019837401997709708), (2285, 0.0030389505367182483), (2286, 0.003866603965442259), (2287, 0.00284379902135698), (2288, 0.0032031817858502298), (2289, 0.0030071301420220927), (2290, 0.0), (2291, 0.0), (2292, 0.0031967980444866225), (2293, 0.0037428100876905185), (2294, 0.029388758983224655), (2295, 0.06277562702106948), (2296, 0.0), (2297, 0.0), (2298, 0.0), (2299, 0.005220557930767615), (2300, 0.0), (2301, 0.0033381908864235535), (2302, 0.0034249495831437863), (2303, 0.0032056154243080646), (2304, 0.010026590230884943), (2305, 0.0), (2306, 0.0037664369147169274), (2307, 0.0), (2308, 0.04458067097175964), (2309, 0.003237212381210739), (2310, 0.004048828837336242), (2311, 0.0), (2312, 0.0), (2313, 0.003476697862319639), (2314, 0.006041241567033623), (2315, 0.0), (2316, 0.04719540633979785), (2317, 0.0033640926683676637), (2318, 0.06279885850200988), (2319, 0.0036541663476775885), (2320, 0.00424757660458037), (2321, 0.056669043705456904), (2322, 0.0), (2323, 0.0030852423080884863), (2324, 0.007805343999482013), (2325, 0.0), (2326, 0.004592673647450545), (2327, 0.0), (2328, 0.006749286514777354), (2329, 0.0), (2330, 0.006091550647271333), (2331, 0.0), (2332, 0.0), (2333, 0.0), (2334, 0.01871972243933372), (2335, 0.0), (2336, 0.014633719076869438), (2337, 0.0), (2338, 0.0031055604513050457), (2339, 0.0), (2340, 0.0038162684363445003), (2341, 0.0), (2342, 0.0), (2343, 0.03287957763578707), (2344, 0.00854636956981369), (2345, 0.0), (2346, 0.014934712926701049), (2347, 0.00307535981589106), (2348, 0.008519700421468032), (2349, 0.004190593033808421), (2350, 0.003872932525709505), (2351, 0.0), (2352, 0.0), (2353, 0.0), (2354, 0.0034978486447625914), (2355, 0.007611845652313448), (2356, 0.0033537921996059554), (2357, 0.0), (2358, 0.06923596359294609), (2359, 0.00336118038646649), (2360, 0.0), (2361, 0.0031972678504974777), (2362, 0.0029846583192113703), (2363, 0.010426484814708157), (2364, 0.0), (2365, 0.03845240963616563), (2366, 0.0), (2367, 0.0032516922336982973), (2368, 0.0), (2369, 0.0), (2370, 0.003472475150718726), (2371, 0.04460004794583058), (2372, 0.0), (2373, 0.0), (2374, 0.009628920827350545), (2375, 0.04786679628823677), (2376, 0.0), (2377, 0.0), (2378, 0.0034467506326379465), (2379, 0.004296200525469831), (2380, 0.0), (2381, 0.0), (2382, 0.0031176659975783133), (2383, 0.01830011370486781), (2384, 0.0), (2385, 0.003890071091170191), (2386, 0.003080288079860138), (2387, 0.003506000867543261), (2388, 0.00735276737050858), (2389, 0.0), (2390, 0.0032973457709615304), (2391, 0.0036124118177808177), (2392, 0.003945952004879785), (2393, 0.003562752025972121), (2394, 0.030615768824918094), (2395, 0.0), (2396, 0.0032840108328552426), (2397, 0.003532258194430071), (2398, 0.0), (2399, 0.003171792868663685), (2400, 0.0038466122874595025), (2401, 0.0033025414566604577), (2402, 0.0029135293322549174), (2403, 0.003444647141676131), (2404, 0.0041150478195533), (2405, 0.0031581878470063472), (2406, 0.02304189125408138), (2407, 0.00418631992060342), (2408, 0.03130832858615856), (2409, 0.0), (2410, 0.004027079807763075), (2411, 0.003361624280933693), (2412, 0.017879911675064142), (2413, 0.04008882840563813), (2414, 0.0), (2415, 0.0036470381712935896), (2416, 0.0040966385877791766), (2417, 0.047933590117376), (2418, 0.0035280390425092207), (2419, 0.0035356694602846402), (2420, 0.0), (2421, 0.006592173179219839), (2422, 0.0033936463197209703), (2423, 0.0038142858824379393), (2424, 0.008474460426632982), (2425, 0.00392474126419585), (2426, 0.0), (2427, 0.011909966547421501), (2428, 0.010104578343203205), (2429, 0.014981632193761953), (2430, 0.0034430000624709077), (2431, 0.0), (2432, 0.005374268154055588), (2433, 0.0), (2434, 0.004052976658784771), (2435, 0.0), (2436, 0.0039504027788062465), (2437, 0.0033936232587483657), (2438, 0.003740322299460086), (2439, 0.0), (2440, 0.006689680168663404), (2441, 0.0029327408502149753), (2442, 0.005944849152814828), (2443, 0.009590715285910633), (2444, 0.009449591271523772), (2445, 0.0), (2446, 0.0031685517822519892), (2447, 0.019358288069960553), (2448, 0.004160508883449337), (2449, 0.03555099015265392), (2450, 0.0), (2451, 0.0), (2452, 0.0), (2453, 0.003596742899784543), (2454, 0.0036564734139478893), (2455, 0.0), (2456, 0.0), (2457, 0.002938317440655738), (2458, 0.0), (2459, 0.012084045637526528), (2460, 0.0), (2461, 0.0031208065547406977), (2462, 0.0), (2463, 0.0032287720644750234), (2464, 0.01261795776846144), (2465, 0.0), (2466, 0.003105558425973578), (2467, 0.035552027564450445), (2468, 0.0070714758017460045), (2469, 0.0025230006637358303), (2470, 0.0), (2471, 0.0), (2472, 0.0), (2473, 0.003220294530746423), (2474, 0.003319233989071231), (2475, 0.0032569034380261538), (2476, 0.04452514052630453), (2477, 0.010221632572454457), (2478, 0.0034504097938325394), (2479, 0.0), (2480, 0.006094181375163848), (2481, 0.0031286535586635415), (2482, 0.0030562790550062394), (2483, 0.0), (2484, 0.005066093175755373), (2485, 0.0), (2486, 0.0183697471488332), (2487, 0.01924952523252896), (2488, 0.00439894901441163), (2489, 0.01234540137623129), (2490, 0.00434577479666313), (2491, 0.0), (2492, 0.004168714317517374), (2493, 0.0), (2494, 0.004014858535687303), (2495, 0.00393500389980026), (2496, 0.008446221248206338), (2497, 0.0), (2498, 0.0), (2499, 0.0), (2500, 0.0), (2501, 0.00592958035018077), (2502, 0.00350474151255884), (2503, 0.0), (2504, 0.0), (2505, 0.0033314958543739052), (2506, 0.005998485123804642), (2507, 0.003206213944688667), (2508, 0.0), (2509, 0.002873933376439605), (2510, 0.0), (2511, 0.0), (2512, 0.013683540262916547), (2513, 0.0), (2514, 0.0), (2515, 0.0), (2516, 0.0), (2517, 0.030277364003802796), (2518, 0.0), (2519, 0.011467730093516601), (2520, 0.0030458904522925683), (2521, 0.0), (2522, 0.020189048043945026), (2523, 0.0), (2524, 0.014646166474993033), (2525, 0.00328972678408348), (2526, 0.002981202264967334), (2527, 0.003490720946126815), (2528, 0.0035654020612858857), (2529, 0.0043901543564044375), (2530, 0.05788327712795211), (2531, 0.003731162393160576), (2532, 0.0), (2533, 0.003234287307080732), (2534, 0.0031730253331576736), (2535, 0.0033236079963371353), (2536, 0.0), (2537, 0.004109025541521873), (2538, 0.002997461278707289), (2539, 0.0), (2540, 0.05151230325917779), (2541, 0.005877615975738328), (2542, 0.0), (2543, 0.0), (2544, 0.00351275181361206), (2545, 0.003127374408520895), (2546, 0.01306358131850369), (2547, 0.0), (2548, 0.0), (2549, 0.0), (2550, 0.004451684774283484), (2551, 0.0), (2552, 0.0035918707177448697), (2553, 0.0032615411942844954), (2554, 0.0032937049860053257), (2555, 0.013934656915240241), (2556, 0.0027923172879965284), (2557, 0.0037380355445032027), (2558, 0.11712393171149403), (2559, 0.0039800482283673146), (2560, 0.004400359347863247), (2561, 0.0038401144392876886), (2562, 0.0), (2563, 0.0035994936594529276), (2564, 0.0), (2565, 0.00350664557118985), (2566, 0.0), (2567, 0.006495209290051731), (2568, 0.003635501707201588), (2569, 0.004119336964745492), (2570, 0.0039655846187517324), (2571, 0.0033148630822530845), (2572, 0.003449192970048287), (2573, 0.00505022404306025), (2574, 0.0), (2575, 0.0), (2576, 0.006208795012155059), (2577, 0.0), (2578, 0.0), (2579, 0.05676372663314799), (2580, 0.0100086835911965), (2581, 0.011588179950413167), (2582, 0.0), (2583, 0.0), (2584, 0.0), (2585, 0.00414068458908849), (2586, 0.0), (2587, 0.003100623572043202), (2588, 0.0), (2589, 0.0), (2590, 0.0), (2591, 0.003872304297770498), (2592, 0.0037800081535502477), (2593, 0.0032187141512836936), (2594, 0.0), (2595, 0.0035280436778168897), (2596, 0.0), (2597, 0.0), (2598, 0.009678301800022725), (2599, 0.005928086617433404), (2600, 0.01077606667097878), (2601, 0.003959746580563551), (2602, 0.014765494799674535), (2603, 0.0030253146577015853), (2604, 0.0), (2605, 0.0), (2606, 0.00941423637157733), (2607, 0.016525373843876215), (2608, 0.0), (2609, 0.00351148313820887), (2610, 0.003482985710312528), (2611, 0.0031670394749051083), (2612, 0.003203638871521116), (2613, 0.003564956772572536), (2614, 0.03599257637507245), (2615, 0.0), (2616, 0.0), (2617, 0.018806687081691524), (2618, 0.006063469964250693), (2619, 0.004144471089679868), (2620, 0.0), (2621, 0.01671549020779851), (2622, 0.005744250736896693), (2623, 0.0034121655851527054), (2624, 0.003937858313734171), (2625, 0.015257467885053368), (2626, 0.006452059241004995), (2627, 0.0), (2628, 0.003957373083487426), (2629, 0.003473397460420207), (2630, 0.05785650954953856), (2631, 0.0), (2632, 0.009172984879698561), (2633, 0.003776872854793839), (2634, 0.0032475220513654645), (2635, 0.009929230077562143), (2636, 0.004504012546396575), (2637, 0.0), (2638, 0.021535598537010456), (2639, 0.0), (2640, 0.004272051602309769), (2641, 0.0), (2642, 0.0035793635467794007), (2643, 0.0039112848420530255), (2644, 0.0), (2645, 0.021242182056185582), (2646, 0.034235187427273835), (2647, 0.009899031289961814), (2648, 0.0), (2649, 0.028041003602051175), (2650, 0.003557980124183096), (2651, 0.0035479060734844295), (2652, 0.003638611735595427), (2653, 0.0032907760618336892), (2654, 0.0), (2655, 0.011304159976529154), (2656, 0.0), (2657, 0.0), (2658, 0.0), (2659, 0.0), (2660, 0.0), (2661, 0.00313139405410565), (2662, 0.0), (2663, 0.0), (2664, 0.003212075474018993), (2665, 0.0), (2666, 0.0), (2667, 0.0), (2668, 0.021259254757242822), (2669, 0.0), (2670, 0.0), (2671, 0.0), (2672, 0.0), (2673, 0.004225946375890085), (2674, 0.0027591200041337405), (2675, 0.0), (2676, 0.0), (2677, 0.0), (2678, 0.004909611727591748), (2679, 0.0031127721438097534), (2680, 0.006238896725638177), (2681, 0.0), (2682, 0.006183763699967842), (2683, 0.006459575189876625), (2684, 0.0), (2685, 0.0), (2686, 0.0), (2687, 0.03417783105043786), (2688, 0.0), (2689, 0.0073714078445392735), (2690, 0.0), (2691, 0.0), (2692, 1.0), (2693, 0.0), (2694, 0.051925408044363276), (2695, 0.01888618445567334), (2696, 0.0038493031103060044), (2697, 0.015363049305613396), (2698, 0.0033524368562850002), (2699, 0.03159838561853501), (2700, 0.006178614541446397), (2701, 0.0), (2702, 0.0034260506344897194), (2703, 0.0), (2704, 0.0), (2705, 0.003278652856256507), (2706, 0.03348639945477521), (2707, 0.0035485462289938027), (2708, 0.0), (2709, 0.0), (2710, 0.040949087142576536), (2711, 0.006552114235971723), (2712, 0.0036585252729110875), (2713, 0.02923160643074445), (2714, 0.009486284674214973), (2715, 0.0), (2716, 0.05153397548999042), (2717, 0.0), (2718, 0.034163704442635674), (2719, 0.0), (2720, 0.004362462035289326), (2721, 0.00341052828212632), (2722, 0.004250598574148481), (2723, 0.03668571872456284), (2724, 0.009397873503819985), (2725, 0.0035540152807337394), (2726, 0.0), (2727, 0.01686943390291773), (2728, 0.003278664730764518), (2729, 0.0), (2730, 0.0), (2731, 0.00406398931089954), (2732, 0.0), (2733, 0.006092695404589706), (2734, 0.0), (2735, 0.0027471772293480683), (2736, 0.0053005638684330255), (2737, 0.0), (2738, 0.003921379840450732), (2739, 0.01462645714764458), (2740, 0.004072513418571187), (2741, 0.002880608323226678), (2742, 0.015421957061147617), (2743, 0.0025745957253908145), (2744, 0.004264774821039661), (2745, 0.03695832962129967), (2746, 0.0034366349805899777), (2747, 0.0029231168776360636), (2748, 0.0032932542749611517), (2749, 0.0), (2750, 0.0), (2751, 0.017834289266747374), (2752, 0.012215245367841073), (2753, 0.0034557143203638157), (2754, 0.0), (2755, 0.0035964677386237293), (2756, 0.0), (2757, 0.004634073272757536), (2758, 0.0033703387099994838), (2759, 0.0057526980747970215), (2760, 0.03728973099510682), (2761, 0.0335447880871042), (2762, 0.0), (2763, 0.0), (2764, 0.004307198759434588), (2765, 0.0036254962135826956), (2766, 0.003326719729545843), (2767, 0.026787501619482786), (2768, 0.023487342552801566), (2769, 0.003947825114598724), (2770, 0.0), (2771, 0.019322574005580163), (2772, 0.0035664207897676482), (2773, 0.0), (2774, 0.0), (2775, 0.004093049385389496), (2776, 0.003226109267576765), (2777, 0.020008217415490838), (2778, 0.01031019959983818), (2779, 0.0032202890210943956), (2780, 0.01564279326959174), (2781, 0.0), (2782, 0.04279933041866873), (2783, 0.0031835738185300366), (2784, 0.01881529893032647), (2785, 0.0), (2786, 0.0032330253766262246), (2787, 0.006122100950613858), (2788, 0.015671631156300655), (2789, 0.005414715523771442), (2790, 0.006671865438048443), (2791, 0.014718000872187782), (2792, 0.0034004732143359155), (2793, 0.0), (2794, 0.0), (2795, 0.02427135560141509), (2796, 0.003452925621275646), (2797, 0.003686729032875128), (2798, 0.003401450048208817), (2799, 0.0), (2800, 0.003347822119545589), (2801, 0.0051838971870180285), (2802, 0.041056533623900625), (2803, 0.009648158666029213), (2804, 0.0), (2805, 0.0), (2806, 0.0), (2807, 0.0), (2808, 0.01858266889367045), (2809, 0.006738226970966086), (2810, 0.0), (2811, 0.0), (2812, 0.003074782317277038), (2813, 0.0), (2814, 0.0), (2815, 0.01931079199299855), (2816, 0.0), (2817, 0.0), (2818, 0.0), (2819, 0.006217935644197315), (2820, 0.005630245188480533), (2821, 0.0034229610062937858), (2822, 0.03191024517718696), (2823, 0.0), (2824, 0.0), (2825, 0.009503564724443598), (2826, 0.0032172613435693556), (2827, 0.0), (2828, 0.0), (2829, 0.0), (2830, 0.0036810486831148287), (2831, 0.003557621136373887), (2832, 0.003973957718928649), (2833, 0.010053219024751718), (2834, 0.004429634719940098), (2835, 0.0), (2836, 0.0), (2837, 0.0), (2838, 0.004532531586587929), (2839, 0.0), (2840, 0.011946984026216927), (2841, 0.0034251621320396906), (2842, 0.0), (2843, 0.0), (2844, 0.003484997388743117), (2845, 0.003984797307535829), (2846, 0.048480786178210514), (2847, 0.006276389438358631), (2848, 0.003676985607807071), (2849, 0.012235382246294384), (2850, 0.0), (2851, 0.0), (2852, 0.0), (2853, 0.003561603543665071), (2854, 0.012104806239831203), (2855, 0.0), (2856, 0.0), (2857, 0.004343982477718912), (2858, 0.004292490158315494), (2859, 0.04290770201859344), (2860, 0.0), (2861, 0.004013952875765499), (2862, 0.003180093054408661), (2863, 0.0033426306867459453), (2864, 0.0), (2865, 0.0), (2866, 0.0), (2867, 0.0), (2868, 0.03704919953754067), (2869, 0.0), (2870, 0.004097162341665041), (2871, 0.013501153588868779), (2872, 0.0034861011919547907), (2873, 0.0), (2874, 0.010264726142243826), (2875, 0.0), (2876, 0.002981603021212348), (2877, 0.0), (2878, 0.003775019373109332), (2879, 0.010375207059927746), (2880, 0.0), (2881, 0.009611263680108601), (2882, 0.004094447527283781), (2883, 0.004085831108735636), (2884, 0.004056360682070862), (2885, 0.01845852426905188), (2886, 0.011021489556571196), (2887, 0.035020719491199094), (2888, 0.0032526495133557193), (2889, 0.004168305162577734), (2890, 0.003340788851342662), (2891, 0.0), (2892, 0.004086881381931903), (2893, 0.051257008147326664), (2894, 0.00351578055416485), (2895, 0.0036156180968945828), (2896, 0.0), (2897, 0.009788423526104161), (2898, 0.0), (2899, 0.009106877052398021), (2900, 0.0029852282827185885), (2901, 0.003887010276773914), (2902, 0.003069441384712188), (2903, 0.1392652497725169), (2904, 0.0037364462505210007), (2905, 0.0), (2906, 0.0), (2907, 0.003335308350747534), (2908, 0.029315485758585596), (2909, 0.0036764456256675017), (2910, 0.020290750515257805), (2911, 0.0035773332288630837), (2912, 0.034969830965443746), (2913, 0.015033370468920029), (2914, 0.003418797691097605), (2915, 0.0031837354386139356), (2916, 0.0033907718045778487), (2917, 0.008213892748750758), (2918, 0.015274727033678295), (2919, 0.01964503425191533), (2920, 0.038200185634341695), (2921, 0.0), (2922, 0.0), (2923, 0.00404558777192982), (2924, 0.003642470500917266), (2925, 0.01910022021359371), (2926, 0.0031509835623168645), (2927, 0.0), (2928, 0.0), (2929, 0.00570421306339042), (2930, 0.0), (2931, 0.0032768326975781917), (2932, 0.02255515689652243), (2933, 0.0027513315440082734), (2934, 0.011574900856742985), (2935, 0.0), (2936, 0.0034136239955259965), (2937, 0.004338538111886225), (2938, 0.0), (2939, 0.017436700576840724), (2940, 0.0035487975070978236), (2941, 0.0), (2942, 0.0031196401491813035), (2943, 0.0030006610096524828), (2944, 0.038070983407485263), (2945, 0.003328875326456522), (2946, 0.0029761395492398446), (2947, 0.006915893439886563), (2948, 0.011128528702016645), (2949, 0.010909183226171383), (2950, 0.03003394965819368), (2951, 0.0), (2952, 0.0), (2953, 0.0034814206537379954), (2954, 0.003149173363058547), (2955, 0.0), (2956, 0.0), (2957, 0.0042279240854484835), (2958, 0.0), (2959, 0.006142822879568358), (2960, 0.005927701762410008), (2961, 0.016537068290427746), (2962, 0.008957400381840263), (2963, 0.016929678100212477), (2964, 0.0034921103908060616), (2965, 0.0032349448661710923), (2966, 0.0036802172019706966), (2967, 0.0), (2968, 0.0), (2969, 0.0032682573236150645), (2970, 0.0032258779134312007), (2971, 0.056588478114517025), (2972, 0.03572353581605924), (2973, 0.0), (2974, 0.0033949897125999844), (2975, 0.0035863418532930407), (2976, 0.0028584697128875795), (2977, 0.003487106272054942), (2978, 0.016686611752099383), (2979, 0.0), (2980, 0.003385190225608276), (2981, 0.04247896244018897), (2982, 0.0), (2983, 0.0), (2984, 0.0056470377702136434), (2985, 0.07709418396000331), (2986, 0.0035796752920382265), (2987, 0.0034419297236931807), (2988, 0.009916978875683578), (2989, 0.004219878054566461), (2990, 0.0), (2991, 0.005520760180904375), (2992, 0.005810319529712976), (2993, 0.0036526215265434733), (2994, 0.009062217787857128), (2995, 0.0033238725049778606), (2996, 0.021319726630831298), (2997, 0.0028596080855911913), (2998, 0.00454001128450612), (2999, 0.003003073220812369), (3000, 0.0034776506611133282), (3001, 0.0), (3002, 0.0), (3003, 0.003683913176556226), (3004, 0.041516249219960624), (3005, 0.006224071228002547), (3006, 0.0), (3007, 0.0032280294321747347), (3008, 0.0), (3009, 0.0), (3010, 0.07357490894509883), (3011, 0.006103022985184441), (3012, 0.019144125907673417), (3013, 0.0037590014033840203), (3014, 0.0031942428933848656), (3015, 0.003811714531854295), (3016, 0.0030888031915557706), (3017, 0.030835348116893573), (3018, 0.012740115460218124), (3019, 0.019857357216886473), (3020, 0.003637785344959439), (3021, 0.0), (3022, 0.00736098171580422), (3023, 0.05125707955484867), (3024, 0.002856188134656066), (3025, 0.0), (3026, 0.0033261051725900575), (3027, 0.0036885190552633598), (3028, 0.0342051993254077), (3029, 0.0), (3030, 0.00410270670075394), (3031, 0.003668251988725467), (3032, 0.009542520883006335), (3033, 0.0), (3034, 0.0), (3035, 0.008111938031872958), (3036, 0.003745235752068747), (3037, 0.0031967878205025396), (3038, 0.0), (3039, 0.0), (3040, 0.0042281405089820605), (3041, 0.0), (3042, 0.004089061605792899), (3043, 0.02316263798759719), (3044, 0.003284953523969064), (3045, 0.014955737707546728), (3046, 0.0035171232895922053), (3047, 0.0), (3048, 0.0), (3049, 0.00682862958906653), (3050, 0.002737383484889134), (3051, 0.004318605592950528), (3052, 0.004135224770473188), (3053, 0.11436347276390944), (3054, 0.0), (3055, 0.004110971594176842), (3056, 0.003135777644814053), (3057, 0.0031904154364320266), (3058, 0.0), (3059, 0.0), (3060, 0.0), (3061, 0.0), (3062, 0.0033567301655951683), (3063, 0.0), (3064, 0.0032932714317347265), (3065, 0.007182002902445025), (3066, 0.0), (3067, 0.0032167939979706045), (3068, 0.03032810994838865), (3069, 0.003339156359944067), (3070, 0.014422483637281254), (3071, 0.0032203843182557336), (3072, 0.003519812648248116), (3073, 0.0), (3074, 0.00371497740575929), (3075, 0.0030393726637583766), (3076, 0.01719939008784481), (3077, 0.0), (3078, 0.0), (3079, 0.005036845459954086), (3080, 0.0), (3081, 0.003540258730108226), (3082, 0.0), (3083, 0.031093099675597646), (3084, 0.003193031217426177), (3085, 0.015884224867105758), (3086, 0.02030964399745195), (3087, 0.0), (3088, 0.0), (3089, 0.0), (3090, 0.0), (3091, 0.04341600428675186), (3092, 0.0), (3093, 0.002918311312605803), (3094, 0.0035087067142558514), (3095, 0.01334745695682234), (3096, 0.0029639761095940995), (3097, 0.024417166257957756), (3098, 0.0), (3099, 0.01343466810649355), (3100, 0.005367682473083246), (3101, 0.004233566772037861), (3102, 0.0), (3103, 0.0), (3104, 0.0), (3105, 0.0), (3106, 0.0), (3107, 0.0), (3108, 0.010244758929110299), (3109, 0.0), (3110, 0.018650814807496485), (3111, 0.003328259408638192), (3112, 0.009044902661369042), (3113, 0.003018654445696444), (3114, 0.0), (3115, 0.0), (3116, 0.004276812268919814), (3117, 0.006857398589144396), (3118, 0.01369985525161849), (3119, 0.015776339206715975), (3120, 0.012700091884909701), (3121, 0.0), (3122, 0.009093589407023395), (3123, 0.010377564876186208), (3124, 0.006614563374290486), (3125, 0.009800537897199792), (3126, 0.005874446733193013), (3127, 0.01112448287495136), (3128, 0.0037871107983863026), (3129, 0.005975089674368453), (3130, 0.0), (3131, 0.006327754644579527), (3132, 0.0), (3133, 0.006087758857061437), (3134, 0.005892467679707061), (3135, 0.005436660471336339), (3136, 0.00590857163575127), (3137, 0.05327781081024965), (3138, 0.0), (3139, 0.0042861043985742645), (3140, 0.004644906082585973), (3141, 0.0), (3142, 0.017875230781231603), (3143, 0.006780235697912442), (3144, 0.0), (3145, 0.0), (3146, 0.03499148171871081), (3147, 0.0031504419518030443), (3148, 0.0034114153352594145), (3149, 0.010564222964388983), (3150, 0.0032637193940357138), (3151, 0.0035368959690664403), (3152, 0.002508336289434378), (3153, 0.00954266307208302), (3154, 0.03454159628793936), (3155, 0.012347571832006578), (3156, 0.032244240452559345), (3157, 0.003948898256681555), (3158, 0.006517908076334704), (3159, 0.0043074295233697405), (3160, 0.00525551651100026), (3161, 0.00597912766963239), (3162, 0.0), (3163, 0.006441859138856618), (3164, 0.0), (3165, 0.0034765050263409142), (3166, 0.0043953545791658825), (3167, 0.036611711192389346), (3168, 0.007469921344137673), (3169, 0.0), (3170, 0.0028789090092337954), (3171, 0.010995482020506469), (3172, 0.0), (3173, 0.0030883575078436074), (3174, 0.0351652681626847), (3175, 0.0), (3176, 0.0), (3177, 0.0), (3178, 0.004785815162138846), (3179, 0.006282116426722386), (3180, 0.006446635791266683), (3181, 0.0), (3182, 0.0035371592423047117), (3183, 0.0037075939662520887), (3184, 0.003468135470002247), (3185, 0.008344239444394498), (3186, 0.0036880583556952755), (3187, 0.003302513227287849), (3188, 0.0), (3189, 0.0), (3190, 0.0), (3191, 0.0063110720477644435), (3192, 0.010322014013629895), (3193, 0.0), (3194, 0.003340096463633936), (3195, 0.00857143015329116), (3196, 0.010079441310009011), (3197, 0.0), (3198, 0.003572790433893078), (3199, 0.0027726748836410897), (3200, 0.0028393531267055907), (3201, 0.0), (3202, 0.0), (3203, 0.0593883249230829), (3204, 0.0), (3205, 0.0), (3206, 0.004217069718318898), (3207, 0.0), (3208, 0.0), (3209, 0.0), (3210, 0.018239632312639652), (3211, 0.002892489381880814), (3212, 0.0), (3213, 0.006388537633667908), (3214, 0.003128008884067927), (3215, 0.005540695271924911), (3216, 0.003353834828604919), (3217, 0.0), (3218, 0.0044228651756833505), (3219, 0.004380126368155431), (3220, 0.0041249541472688205), (3221, 0.0), (3222, 0.0), (3223, 0.0), (3224, 0.0031060337556655954), (3225, 0.003430820390651575), (3226, 0.0031141125522154652), (3227, 0.01211884363720737), (3228, 0.01168444163596926), (3229, 0.0), (3230, 0.0037121592472984938), (3231, 0.0), (3232, 0.01579824172475739), (3233, 0.009505844667009818), (3234, 0.004257766125703575), (3235, 0.0036428619665298378), (3236, 0.0), (3237, 0.003453023456839006), (3238, 0.0032632421504269274), (3239, 0.0037898942074004456), (3240, 0.006601779279368446), (3241, 0.003783161553572365), (3242, 0.0036858542252872356), (3243, 0.0031541491382977888), (3244, 0.0), (3245, 0.008555099970535215), (3246, 0.003338817492196532), (3247, 0.005304167134153519), (3248, 0.07931987815946463), (3249, 0.048755412078126364), (3250, 0.0), (3251, 0.0), (3252, 0.003600239659480431), (3253, 0.0), (3254, 0.02677540393614348), (3255, 0.04033991680548078), (3256, 0.0), (3257, 0.003641799656128718), (3258, 0.003293185510986582), (3259, 0.009842732411273886), (3260, 0.035237106595000796), (3261, 0.0), (3262, 0.003895203055748394), (3263, 0.005985541488951545), (3264, 0.003714226904282634), (3265, 0.0), (3266, 0.0), (3267, 0.01500777208507141), (3268, 0.0028885838546804784), (3269, 0.0037059589182173273), (3270, 0.0), (3271, 0.0036976832873251), (3272, 0.0), (3273, 0.0036274512518147373), (3274, 0.0034122995040915057), (3275, 0.02407773047135427), (3276, 0.14182970558594088), (3277, 0.0), (3278, 0.0030037543605165324), (3279, 0.005495621016188104), (3280, 0.0464288340905696), (3281, 0.0), (3282, 0.0043630649309230034), (3283, 0.003933723667065824), (3284, 0.012153089144204578), (3285, 0.0026358292407087937), (3286, 0.0), (3287, 0.0), (3288, 0.0), (3289, 0.0036204832774387567), (3290, 0.003472639404243876), (3291, 0.004064888663250237), (3292, 0.003942024355686266), (3293, 0.011764882165572449), (3294, 0.0), (3295, 0.0), (3296, 0.0034445322736469178), (3297, 0.014689073764269145), (3298, 0.0033986414269073515), (3299, 0.003856809594724032), (3300, 0.003056928437646908), (3301, 0.002369590906672401), (3302, 0.004429843457851241), (3303, 0.010863752366196484), (3304, 0.0028475735599547253), (3305, 0.0), (3306, 0.023653519800150978), (3307, 0.0035053979608138663), (3308, 0.003983686621557491), (3309, 0.0), (3310, 0.0), (3311, 0.003100929896488317), (3312, 0.018162910301741497), (3313, 0.003382868320437857), (3314, 0.0037685413620623972), (3315, 0.04895154554600282), (3316, 0.0036302676084307563), (3317, 0.014692862319757104), (3318, 0.017981158777155927), (3319, 0.027148826007516256), (3320, 0.0), (3321, 0.0), (3322, 0.0038977613628145896), (3323, 0.0), (3324, 0.0), (3325, 0.03750863709486138), (3326, 0.036478452300304574), (3327, 0.0030099198459996516), (3328, 0.03467859198413193), (3329, 0.003332748061858327), (3330, 0.04471754327113739), (3331, 0.008755939638917232), (3332, 0.0), (3333, 0.0), (3334, 0.06950120383805426), (3335, 0.0033093377807847206), (3336, 0.003503838732181449), (3337, 0.0034388717904044715), (3338, 0.005442147534781522), (3339, 0.00754988263224111), (3340, 0.0), (3341, 0.003483291611750119), (3342, 0.008840622207769704), (3343, 0.0), (3344, 0.010249831636277983), (3345, 0.0), (3346, 0.003343427548661722), (3347, 0.0027607264184173414), (3348, 0.003337851754920001), (3349, 0.008844730330566538), (3350, 0.0), (3351, 0.05341802540897696), (3352, 0.0032990560757034408), (3353, 0.003715274958035021), (3354, 0.0038109926668303752), (3355, 0.003479951175082998), (3356, 0.0), (3357, 0.004282659160386141), (3358, 0.003638466731944022), (3359, 0.0035208262676758723), (3360, 0.06074573179232597), (3361, 0.00554382582356919), (3362, 0.029414994130153634), (3363, 0.004061314245713824), (3364, 0.004257782767377286), (3365, 0.0024272837222632684), (3366, 0.0), (3367, 0.0064055752665952755), (3368, 0.0), (3369, 0.003262840351412421), (3370, 0.02124215413525909), (3371, 0.0), (3372, 0.003166334692820014), (3373, 0.039164536087382434), (3374, 0.01942602569246822), (3375, 0.0), (3376, 0.003149310554246117), (3377, 0.01938668549684783), (3378, 0.0), (3379, 0.003086443950197917), (3380, 0.003384104322135303), (3381, 0.003297326933445905), (3382, 0.014634446053384546), (3383, 0.0), (3384, 0.018370704708827817), (3385, 0.07734725162509856), (3386, 0.0033894262138790365), (3387, 0.0065804180536141775), (3388, 0.003551605958400675), (3389, 0.003260221747996749), (3390, 0.003478287069844238), (3391, 0.006691183049083264), (3392, 0.002613075154492838), (3393, 0.003279088139385587), (3394, 0.0), (3395, 0.04472208328335779), (3396, 0.003492414082622658), (3397, 0.0), (3398, 0.006161590185944704), (3399, 0.003202594256521741), (3400, 0.0), (3401, 0.0), (3402, 0.0032555617132312576), (3403, 0.017245093258851152), (3404, 0.006028828005445951), (3405, 0.005430892332527212), (3406, 0.003541958675299967), (3407, 0.012147571859259004), (3408, 0.05917449885130281), (3409, 0.04317716653206738), (3410, 0.003473174064187272), (3411, 0.0), (3412, 0.0035152089137087533), (3413, 0.0036237661710937087), (3414, 0.003981375321386807), (3415, 0.0), (3416, 0.01459595625464696), (3417, 0.0032906482661072753), (3418, 0.011501774198090006), (3419, 0.003474455678568682), (3420, 0.0), (3421, 0.00244408597720525), (3422, 0.0), (3423, 0.003442872679065506), (3424, 0.0), (3425, 0.0038712969611887573), (3426, 0.00568552141031497), (3427, 0.05960732223766812), (3428, 0.04023491685371366), (3429, 0.004126354226318242), (3430, 0.02661055625147004), (3431, 0.0024255572858756886), (3432, 0.005695462063943271), (3433, 0.008855228672422564), (3434, 0.0032040770784671855), (3435, 0.009623502245186004), (3436, 0.009436644955633186), (3437, 0.018789082796258853), (3438, 0.006316027522613815), (3439, 0.0), (3440, 0.006731627752157736), (3441, 0.00299691080060761), (3442, 0.0), (3443, 0.006179882304386007), (3444, 0.0), (3445, 0.0033382055232774265), (3446, 0.006198613625260487), (3447, 0.0035573523506062994), (3448, 0.007329963153370616), (3449, 0.0037326125764686486), (3450, 0.07928698717342836), (3451, 0.006146469744698137), (3452, 0.008122482786106746), (3453, 0.010100110229803918), (3454, 0.0), (3455, 0.0027709493581462878), (3456, 0.005851745853090286), (3457, 0.0), (3458, 0.0035246127889616086), (3459, 0.0), (3460, 0.009429813128788544), (3461, 0.0), (3462, 0.054178208773587845), (3463, 0.03336502488504486), (3464, 0.00996191860737361), (3465, 0.09383509410342417), (3466, 0.023688974276815645), (3467, 0.0), (3468, 0.006219314446817626), (3469, 0.0), (3470, 0.04323154241071184), (3471, 0.007162454609681649), (3472, 0.0), (3473, 0.0), (3474, 0.009229905766867396), (3475, 0.0), (3476, 0.0), (3477, 0.003849993119633535), (3478, 0.003286462957748046), (3479, 0.004038074212202205), (3480, 0.04760013043632206), (3481, 0.0), (3482, 0.0), (3483, 0.020315526055141236), (3484, 0.005406751356484632), (3485, 0.0), (3486, 0.04829098959620508), (3487, 0.00928768041835879), (3488, 0.03281340304426885), (3489, 0.0), (3490, 0.0), (3491, 0.0032299850776836944), (3492, 0.0033831672961415317), (3493, 0.003352610396372132), (3494, 0.0), (3495, 0.005519267036286014), (3496, 0.003441030602749212), (3497, 0.0036386184875884737), (3498, 0.009268283918560417), (3499, 0.009567799716770506), (3500, 0.0029101712593716375), (3501, 0.008619305005792284), (3502, 0.007316868725592462), (3503, 0.0036794998787187034), (3504, 0.016571677140767627), (3505, 0.0), (3506, 0.004800147728228797), (3507, 0.015792177673193034), (3508, 0.009464328298029623), (3509, 0.0), (3510, 0.0), (3511, 0.047789202754124294), (3512, 0.0046432276103260785), (3513, 0.005763092581210941), (3514, 0.01025607841467829), (3515, 0.0), (3516, 0.01041176250752273), (3517, 0.003431648015066036), (3518, 0.04151737383623067), (3519, 0.0), (3520, 0.0058610874514793835), (3521, 0.010448606237398041), (3522, 0.0), (3523, 0.0043241294230213926), (3524, 0.003706827875426614), (3525, 0.0), (3526, 0.0033193401198294537), (3527, 0.00312939513868179), (3528, 0.0), (3529, 0.0), (3530, 0.0), (3531, 0.009360944089550976), (3532, 0.0), (3533, 0.0), (3534, 0.0056447316345548905), (3535, 0.016457862823680152), (3536, 0.0033891880673809294), (3537, 0.0049192593704091405), (3538, 0.002806188696701338), (3539, 0.0), (3540, 0.003504345761699684), (3541, 0.003212859262632313), (3542, 0.003032880202430093), (3543, 0.0), (3544, 0.003680956880114278), (3545, 0.0), (3546, 0.0025698049720438584), (3547, 0.0), (3548, 0.002654256875206598), (3549, 0.0), (3550, 0.0), (3551, 0.00343347316696739), (3552, 0.05125017334965806), (3553, 0.019515975049440283), (3554, 0.0), (3555, 0.006372386692726674), (3556, 0.009878170265800576), (3557, 0.003101167889400534), (3558, 0.002994857762756947), (3559, 0.05157250295204003), (3560, 0.0036411059081342995), (3561, 0.004518437336581584), (3562, 0.0), (3563, 0.0), (3564, 0.003514068022090731), (3565, 0.0036142360895872745), (3566, 0.0), (3567, 0.0), (3568, 0.0), (3569, 0.003363940289876888), (3570, 0.008646100444959507), (3571, 0.00953788044001699), (3572, 0.042277054615968604), (3573, 0.03033983657974048), (3574, 0.04057837708273612), (3575, 0.002745310001026704), (3576, 0.0055568315284807894), (3577, 0.004750393958134278), (3578, 0.0), (3579, 0.0032631489267021863), (3580, 0.0), (3581, 0.0), (3582, 0.01459105405223422), (3583, 0.00587026692241597), (3584, 0.006354784120605231), (3585, 0.0), (3586, 0.009807698203705558), (3587, 0.003644359969863752), (3588, 0.007396686147257387), (3589, 0.0), (3590, 0.003212707900021007), (3591, 0.0), (3592, 0.0), (3593, 0.003456786923666348), (3594, 0.0), (3595, 0.0), (3596, 0.0033601766746739125), (3597, 0.018534329945105676), (3598, 0.0), (3599, 0.003311680790978181), (3600, 0.0), (3601, 0.0036749770484264125), (3602, 0.0058494684411132545), (3603, 0.0), (3604, 0.006920962047768112), (3605, 0.03998227901344467), (3606, 0.0032213408659493015), (3607, 0.0), (3608, 0.0020499123467552297), (3609, 0.0), (3610, 0.0), (3611, 0.003828807132379637), (3612, 0.014097492829650424), (3613, 0.0037322299352388157), (3614, 0.003174621254583494), (3615, 0.0028482883424963312), (3616, 0.004595787031221849), (3617, 0.0), (3618, 0.00972155913313626), (3619, 0.005299627098817792), (3620, 0.003682522327644589), (3621, 0.0035360335148021016), (3622, 0.0), (3623, 0.009501530881113027), (3624, 0.00941554410834645), (3625, 0.0), (3626, 0.002582368645444716), (3627, 0.002784989461943435), (3628, 0.0), (3629, 0.024626647476062753), (3630, 0.0), (3631, 0.0), (3632, 0.0), (3633, 0.0), (3634, 0.00278167325505407), (3635, 0.011523797522028225), (3636, 0.003115618969528757), (3637, 0.01788067778994229), (3638, 0.01314524958942204), (3639, 0.003953777977741035), (3640, 0.019621157301392658), (3641, 0.003166947414086216), (3642, 0.018959698985767444), (3643, 0.0034455046411849682), (3644, 0.0), (3645, 0.010944849939980204), (3646, 0.0030976411095264256), (3647, 0.0034365925694558553), (3648, 0.0), (3649, 0.0), (3650, 0.0), (3651, 0.0038232832938005948), (3652, 0.044282901322859676), (3653, 0.009470286808053216), (3654, 0.003519650193917533), (3655, 0.0454861439658609), (3656, 0.04019112248386359), (3657, 0.0027895880229550584), (3658, 0.009009371743237961), (3659, 0.016928754709465102), (3660, 0.017901175000102403), (3661, 0.00933323497055316), (3662, 0.0), (3663, 0.0), (3664, 0.005601677531631268), (3665, 0.00343014512483273), (3666, 0.009453050366787067), (3667, 0.00284746638563929), (3668, 0.002996998552079258), (3669, 0.002983159391763439), (3670, 0.020367014817501316), (3671, 0.0), (3672, 0.004255903449889135), (3673, 0.003285365810994164), (3674, 0.012505966725187941), (3675, 0.020354200578399144), (3676, 0.0), (3677, 0.0036920474841938967), (3678, 0.0036931205124755184), (3679, 0.01155487894382124), (3680, 0.00962311496123429), (3681, 0.0), (3682, 0.0), (3683, 0.0), (3684, 0.014520052348133975), (3685, 0.0), (3686, 0.0), (3687, 0.003774431957176207), (3688, 0.03403503924160612), (3689, 0.0035572104397933136), (3690, 0.0), (3691, 0.0030829779060099582), (3692, 0.009866647446413017), (3693, 0.0), (3694, 0.019042012105853663), (3695, 0.0), (3696, 0.00924460014708095), (3697, 0.0), (3698, 0.0), (3699, 0.020746476967074164), (3700, 0.0), (3701, 0.04081051035667966), (3702, 0.0), (3703, 0.0), (3704, 0.009095724365900412), (3705, 0.009195432276876163), (3706, 0.003286764949783062), (3707, 0.0030790153994154188), (3708, 0.01775243809012558), (3709, 0.0), (3710, 0.006381811142739197), (3711, 0.015398485378545865), (3712, 0.0), (3713, 0.011840466848194156), (3714, 0.0032759978340676185), (3715, 0.007095663021331744), (3716, 0.0), (3717, 0.0), (3718, 0.0), (3719, 0.002953885326570193), (3720, 0.03690365325534825), (3721, 0.007286040558377523), (3722, 0.0), (3723, 0.005504288307228886), (3724, 0.0), (3725, 0.002915310661536527), (3726, 0.0), (3727, 0.00842720382557109), (3728, 0.003491443058283861), (3729, 0.0034945668143936365), (3730, 0.0), (3731, 0.042381053192043314), (3732, 0.0), (3733, 0.0030656247795912846), (3734, 0.008448167914357041), (3735, 0.0), (3736, 0.0), (3737, 0.0036630494141901694), (3738, 0.0), (3739, 0.003918447192272571), (3740, 0.0), (3741, 0.018650238287382), (3742, 0.0031164563353351105), (3743, 0.0), (3744, 0.006643820559245781), (3745, 0.0034790869538140244), (3746, 0.030505540001004472), (3747, 0.00612160212387574), (3748, 0.0), (3749, 0.0032963253493476148), (3750, 0.0), (3751, 0.03515323446141502), (3752, 0.0), (3753, 0.0608752729860272), (3754, 0.0041339748954974005), (3755, 0.0026678241046099007), (3756, 0.01891452768095347), (3757, 0.0036194097516185405), (3758, 0.0), (3759, 0.0), (3760, 0.0), (3761, 0.0), (3762, 0.003945432876710964), (3763, 0.0042393468424033135), (3764, 0.0), (3765, 0.0035457300538765113), (3766, 0.022703259493596476), (3767, 0.029821853035723798), (3768, 0.01505962698521765), (3769, 0.006395745637637621), (3770, 0.0034960056249501905), (3771, 0.01016413572008699), (3772, 0.0037255232286186614), (3773, 0.03084865315419063), (3774, 0.006595713793083566), (3775, 0.01700848090939151), (3776, 0.005056929699308584), (3777, 0.02024953457878534), (3778, 0.0037398984180006256), (3779, 0.12105322337345416), (3780, 0.010169913877275238), (3781, 0.003171374213122615), (3782, 0.005973217671577612), (3783, 0.0), (3784, 0.00324474275606614), (3785, 0.0), (3786, 0.0), (3787, 0.006433658158773094), (3788, 0.005371720804215203), (3789, 0.0), (3790, 0.0), (3791, 0.0), (3792, 0.003496902217930968), (3793, 0.05911607437896576), (3794, 0.015613937203654627), (3795, 0.002895216467203026), (3796, 0.0), (3797, 0.010273735887390945), (3798, 0.0), (3799, 0.0028669693006889148), (3800, 0.0), (3801, 0.01651499017253066), (3802, 0.006630612257643846), (3803, 0.0), (3804, 0.0039941631508810995), (3805, 0.0), (3806, 0.004892208401732191), (3807, 0.018625036474409398), (3808, 0.0), (3809, 0.0030877918407272004), (3810, 0.00661823600271998), (3811, 0.0033617729235522593), (3812, 0.0), (3813, 0.0037214846459750254), (3814, 0.03710497501716689), (3815, 0.006393835872151033), (3816, 0.0), (3817, 0.0), (3818, 0.0), (3819, 0.017076683089152892), (3820, 0.0), (3821, 0.0029645964820338285), (3822, 0.003903527769796572), (3823, 0.005905867925408068), (3824, 0.00569603313648231), (3825, 0.0), (3826, 0.0035532983062938816), (3827, 0.0029689915925556836), (3828, 0.02149574833388426), (3829, 0.0034195376887589356), (3830, 0.0), (3831, 0.0), (3832, 0.0037304435097074776), (3833, 0.00604229657609267), (3834, 0.0), (3835, 0.0019975313297515623), (3836, 0.0), (3837, 0.0), (3838, 0.0), (3839, 0.0031478707189666034), (3840, 0.0), (3841, 0.008461006495912995), (3842, 0.008546952970789303), (3843, 0.0), (3844, 0.007475260316941834), (3845, 0.003418204799910834), (3846, 0.0), (3847, 0.0), (3848, 0.003836995705349774), (3849, 0.016296416565628073), (3850, 0.03801743609681843), (3851, 0.0), (3852, 0.03574523503941417), (3853, 0.005700342703421747), (3854, 0.07560307031702845), (3855, 0.0032582825476133235), (3856, 0.0), (3857, 0.0038036029298269096), (3858, 0.0), (3859, 0.0), (3860, 0.014478876427278516), (3861, 0.0), (3862, 0.02280604888482897), (3863, 0.0029182948272987426), (3864, 0.0), (3865, 0.0), (3866, 0.00383184306253099), (3867, 0.05074257439891842), (3868, 0.03368735362229669), (3869, 0.0), (3870, 0.0), (3871, 0.03542839249151985), (3872, 0.0307464718743369), (3873, 0.0034314802373089847), (3874, 0.0036946313727137174), (3875, 0.003255213464926146), (3876, 0.0084321378596414), (3877, 0.003645128909488706), (3878, 0.004345280710922525), (3879, 0.0), (3880, 0.03115395595135278), (3881, 0.005696131163300315), (3882, 0.0032342063171479866), (3883, 0.02167946344007475), (3884, 0.0037561104253079486), (3885, 0.0), (3886, 0.006145123637475186), (3887, 0.0), (3888, 0.013166964514328847), (3889, 0.0035349494437100586), (3890, 0.003393317470520967), (3891, 0.03606971939376926), (3892, 0.003918463511031035), (3893, 0.0034783711587196052), (3894, 0.002708081397699917), (3895, 0.002746148189290744), (3896, 0.0), (3897, 0.0062885414900425455), (3898, 0.0028652049976229245), (3899, 0.009196122149354136), (3900, 0.0028817192313627107), (3901, 0.011005160220349555), (3902, 0.0031304604421105936), (3903, 0.003880427186445667), (3904, 0.031035672691745304), (3905, 0.010752404249625877), (3906, 0.0037247962329243016), (3907, 0.006155692231030697), (3908, 0.005958824023337068), (3909, 0.0), (3910, 0.008338953601066122), (3911, 0.003559629566974102), (3912, 0.0), (3913, 0.03387076553828024), (3914, 0.0), (3915, 0.0035908069806030955), (3916, 0.028758344155637775), (3917, 0.0030408135528339005), (3918, 0.0), (3919, 0.0032750354238320063), (3920, 0.003262653873781527), (3921, 0.0), (3922, 0.0037386409168492824), (3923, 0.02551322233827552), (3924, 0.013899126178935836), (3925, 0.0045039567421153014), (3926, 0.0), (3927, 0.0027135035737910988), (3928, 0.0024255875763469427), (3929, 0.0), (3930, 0.0), (3931, 0.0), (3932, 0.006277916386541639), (3933, 0.0), (3934, 0.0), (3935, 0.003568137948888662), (3936, 0.0), (3937, 0.0), (3938, 0.006422129218430783), (3939, 0.004033532914697423), (3940, 0.0), (3941, 0.011831933969307911), (3942, 0.007397476141013205), (3943, 0.0), (3944, 0.004562355715033036), (3945, 0.008686777741707357), (3946, 0.07758107282478102), (3947, 0.055205299083846096), (3948, 0.0), (3949, 0.01174230049300236), (3950, 0.0), (3951, 0.0038836780762157817), (3952, 0.003473046871320147), (3953, 0.002934677283303255), (3954, 0.002970395339525232), (3955, 0.0), (3956, 0.012898333828530893), (3957, 0.008372883316876375), (3958, 0.0), (3959, 0.02873833275172121), (3960, 0.010842246290817944), (3961, 0.021088811914971507), (3962, 0.003833141451912153), (3963, 0.03328195673229422), (3964, 0.0), (3965, 0.0), (3966, 0.0052703469081124546), (3967, 0.0033010479546320315), (3968, 0.0), (3969, 0.0), (3970, 0.006316556099208315), (3971, 0.0), (3972, 0.0), (3973, 0.04560098223733443), (3974, 0.008736332301307673), (3975, 0.007775816068922748), (3976, 0.0), (3977, 0.0), (3978, 0.02697822605820697), (3979, 0.0), (3980, 0.0), (3981, 0.0), (3982, 0.0), (3983, 0.04231544971124523), (3984, 0.01394534232497317), (3985, 0.0), (3986, 0.002967972726968549), (3987, 0.0032159476369058772), (3988, 0.0), (3989, 0.0056437832482575355), (3990, 0.004175431098722717), (3991, 0.0), (3992, 0.014779783386030473), (3993, 0.014904859185982089), (3994, 0.0), (3995, 0.0068089690939207165), (3996, 0.0), (3997, 0.0064269100187129054), (3998, 0.0), (3999, 0.014047275338226172), (4000, 0.017848615763625376), (4001, 0.0), (4002, 0.0037188203476166515), (4003, 0.0), (4004, 0.018528911844055494), (4005, 0.04628371587815031), (4006, 0.0), (4007, 0.01448427831109125), (4008, 0.0), (4009, 0.0), (4010, 0.0), (4011, 0.0033234797863051406), (4012, 0.0), (4013, 0.00983240695132057), (4014, 0.0030611548959570602), (4015, 0.0029845136562036104), (4016, 0.0037976964777035166), (4017, 0.004094845481293814), (4018, 0.0), (4019, 0.003925847372668277), (4020, 0.003505330301845485), (4021, 0.0), (4022, 0.0), (4023, 0.004285013651827459), (4024, 0.003770575596342277), (4025, 0.0034498353534339033), (4026, 0.0), (4027, 0.0), (4028, 0.0), (4029, 0.0), (4030, 0.003544794196329913), (4031, 0.0), (4032, 0.004618347035986125), (4033, 0.015246460654849588), (4034, 0.0), (4035, 0.029189729008929053), (4036, 0.003292863919992678), (4037, 0.0), (4038, 0.010274927732381246), (4039, 0.006764892128040004), (4040, 0.0), (4041, 0.0), (4042, 0.003319821269426265), (4043, 0.00611772708432566), (4044, 0.005325685487323947), (4045, 0.010624578371224639), (4046, 0.010259332659086837), (4047, 0.007317798066414414), (4048, 0.012635780083612679), (4049, 0.0034332160637275014), (4050, 0.0066406364857939625), (4051, 0.003931438548800412), (4052, 0.0030955965698397014), (4053, 0.011726911243004946), (4054, 0.0038160812466296237), (4055, 0.0), (4056, 0.003218685907772957), (4057, 0.0), (4058, 0.0), (4059, 0.0030876091972651108), (4060, 0.012220512176754206), (4061, 0.0), (4062, 0.00426335307136045), (4063, 0.0), (4064, 0.05761925475251126), (4065, 0.0), (4066, 0.00296044157941001), (4067, 0.0), (4068, 0.020477885992240756), (4069, 0.0031358322230594813), (4070, 0.0), (4071, 0.0055883580789509125), (4072, 0.0), (4073, 0.0), (4074, 0.003289839170257557), (4075, 0.003463111114685289), (4076, 0.006786511700513231), (4077, 0.0), (4078, 0.0), (4079, 0.003074005186726626), (4080, 0.0029043095413851293), (4081, 0.003557211487498436), (4082, 0.0048494750659084694), (4083, 0.0032728116575733743), (4084, 0.0), (4085, 0.0033166657434808046), (4086, 0.0), (4087, 0.003574331555498942), (4088, 0.026077827338065955), (4089, 0.010253861048442304), (4090, 0.00648155283052416), (4091, 0.006447651268568431), (4092, 0.010310140100011534), (4093, 0.009177766786350348), (4094, 0.010070004706457003), (4095, 0.015534993926297777), (4096, 0.04965441975572327), (4097, 0.0), (4098, 0.009085016750782333), (4099, 0.0), (4100, 0.0), (4101, 0.003976124512222653), (4102, 0.0038297128435575596), (4103, 0.006682682231753399), (4104, 0.057403471462903664), (4105, 0.009798331359577734), (4106, 0.0057164824901610465), (4107, 0.004567131318490226), (4108, 0.0), (4109, 0.0), (4110, 0.0), (4111, 0.0032390203067316336), (4112, 0.0), (4113, 0.003983100010771075), (4114, 0.0), (4115, 0.0), (4116, 0.09627038950685182), (4117, 0.0036532776098353505), (4118, 0.010183608894740138), (4119, 0.00685654404190565), (4120, 0.0063696573230144545), (4121, 0.01712006649055212), (4122, 0.012457209277815776), (4123, 0.06762419671855449), (4124, 0.017129704159048055), (4125, 0.0), (4126, 0.0035205060409187923), (4127, 0.0), (4128, 0.02886373408989704), (4129, 0.0029270728293188547), (4130, 0.003682814164626928), (4131, 0.0), (4132, 0.0035324758456618775), (4133, 0.009210877492489984), (4134, 0.0074927444802257645), (4135, 0.0034909795369921534), (4136, 0.003359240601384255), (4137, 0.07878711674717723), (4138, 0.0033421702578739537), (4139, 0.003499205295861021), (4140, 0.0035700798854249156), (4141, 0.01092077331838364), (4142, 0.004055446110458758), (4143, 0.0030460138923834004), (4144, 0.0), (4145, 0.003531310836394746), (4146, 0.0), (4147, 0.003636431715628584), (4148, 0.0160926640513894), (4149, 0.0), (4150, 0.0), (4151, 0.005703975950007434), (4152, 0.048645580270723236), (4153, 0.0), (4154, 0.008787303463142198), (4155, 0.0031851171585532546), (4156, 0.002988596425289057), (4157, 0.0), (4158, 0.006255446081273578), (4159, 0.0), (4160, 0.03255822759231793), (4161, 0.0032465371758167733), (4162, 0.006297338373197439), (4163, 0.009889745047610745), (4164, 0.01612739138276685), (4165, 0.03687529715826667), (4166, 0.0), (4167, 0.0), (4168, 0.0), (4169, 0.003912567247438344), (4170, 0.0), (4171, 0.003001277466013829), (4172, 0.004000811146966838), (4173, 0.0), (4174, 0.0033837766909592328), (4175, 0.03665393491395436), (4176, 0.009125609690114167), (4177, 0.0), (4178, 0.0199789875696337), (4179, 0.0), (4180, 0.0), (4181, 0.0), (4182, 0.002992185959125634), (4183, 0.0033675006391019192), (4184, 0.0), (4185, 0.0), (4186, 0.0), (4187, 0.014680189048688612), (4188, 0.0), (4189, 0.01967796114929423), (4190, 0.0), (4191, 0.0), (4192, 0.012756477161287963), (4193, 0.005294302031469191), (4194, 0.0), (4195, 0.04316420175502666), (4196, 0.0), (4197, 0.0035440532325260615), (4198, 0.0), (4199, 0.0), (4200, 0.003467871969318873), (4201, 0.0), (4202, 0.004234700929164394), (4203, 0.01490218151091478), (4204, 0.0), (4205, 0.0030423962133870144), (4206, 0.003565973221401942), (4207, 0.0), (4208, 0.006872795715803275), (4209, 0.043645364377985794), (4210, 0.0), (4211, 0.006616992560799357), (4212, 0.0), (4213, 0.0028711463551717624), (4214, 0.0), (4215, 0.0), (4216, 0.015812397783094748), (4217, 0.0), (4218, 0.0), (4219, 0.007057459421873405), (4220, 0.0029744458428764735), (4221, 0.0040478318987181), (4222, 0.004059177417750685), (4223, 0.0), (4224, 0.0), (4225, 0.003629010651467179), (4226, 0.0), (4227, 0.015411528457310027), (4228, 0.0029871210219664743), (4229, 0.0), (4230, 0.0038804805798758582), (4231, 0.018215048337579944), (4232, 0.01187310928703876), (4233, 0.010086293439703704), (4234, 0.0), (4235, 0.013569233092235174), (4236, 0.0), (4237, 0.0), (4238, 0.0), (4239, 0.0), (4240, 0.006637292305070469), (4241, 0.0), (4242, 0.023097962030893083), (4243, 0.003446609577495442), (4244, 0.019450356393033046), (4245, 0.003213448928211455), (4246, 0.023152116210008886), (4247, 0.0031082631048096796), (4248, 0.005954523626915057), (4249, 0.008773125946056224), (4250, 0.0), (4251, 0.006092698138534822), (4252, 0.03839525635709228), (4253, 0.0), (4254, 0.0028887747289361833), (4255, 0.009275633607594648), (4256, 0.0), (4257, 0.0030679609948964493), (4258, 0.0), (4259, 0.0036846047005733387), (4260, 0.0), (4261, 0.007974988583387098), (4262, 0.00382801713625029), (4263, 0.004323928923133531), (4264, 0.00573466816425574), (4265, 0.01604527948964314), (4266, 0.003241492204301293), (4267, 0.004368408419570242), (4268, 0.012617255441752464), (4269, 0.003598386422874733), (4270, 0.0), (4271, 0.0), (4272, 0.03096109021089603), (4273, 0.00330052422699959), (4274, 0.0055689137941716), (4275, 0.006015711870019781), (4276, 0.0), (4277, 0.0034423778407745536), (4278, 0.0), (4279, 0.0), (4280, 0.003950081542858075), (4281, 0.007049836805649901), (4282, 0.009191219241864647), (4283, 0.010483046952845309), (4284, 0.010005996740737067), (4285, 0.006446699732320378), (4286, 0.004083740815429561), (4287, 0.003475083036041978), (4288, 0.02904834565900085), (4289, 0.009925381094345567), (4290, 0.005588781474994529), (4291, 0.0), (4292, 0.005310691186809787), (4293, 0.014607156518824334), (4294, 0.032590251726683644), (4295, 0.003442371729820969), (4296, 0.002636502857394907), (4297, 0.0), (4298, 0.0036701094494805513), (4299, 0.009380591174282252), (4300, 0.0), (4301, 0.0022415601898148874), (4302, 0.0), (4303, 0.0), (4304, 0.0029572516446954218), (4305, 0.0), (4306, 0.0037364274794824425), (4307, 0.007172061411492177), (4308, 0.0033181827358145614), (4309, 0.008754815243291199), (4310, 0.00567593435120588), (4311, 0.0024572219308656718), (4312, 0.006124028138465561), (4313, 0.0), (4314, 0.0), (4315, 0.0), (4316, 0.0), (4317, 0.0), (4318, 0.003191327599031412), (4319, 0.0), (4320, 0.0031918733530224928), (4321, 0.003857808665074727), (4322, 0.005492179901267149), (4323, 0.0), (4324, 0.0), (4325, 0.015067179286232356), (4326, 0.002775770002063788), (4327, 0.0), (4328, 0.005502467595900708), (4329, 0.0), (4330, 0.0032981130930040386), (4331, 0.006668722025635584), (4332, 0.0), (4333, 0.0038232051983570787), (4334, 0.00339458852277533), (4335, 0.0), (4336, 0.00312424475683559), (4337, 0.006543942175356393), (4338, 0.0), (4339, 0.005616703078727388), (4340, 0.0035562667590192886), (4341, 0.0), (4342, 0.0), (4343, 0.0028431886449676426), (4344, 0.008302450137748352), (4345, 0.0032164313063034167), (4346, 0.0), (4347, 0.0), (4348, 0.0030482258972123286), (4349, 0.003295325807303549), (4350, 0.0031332767961962512), (4351, 0.0), (4352, 0.0), (4353, 0.0), (4354, 0.029910561014854852), (4355, 0.0035505862265794914), (4356, 0.003064144328771647), (4357, 0.003134489366771306), (4358, 0.0), (4359, 0.003498582337894688), (4360, 0.0060373417772381045), (4361, 0.0034084361178054585), (4362, 0.04622233970827537), (4363, 0.0032595207107341583), (4364, 0.0), (4365, 0.006074245893761895), (4366, 0.00563158136201303), (4367, 0.0), (4368, 0.0037967287329092572), (4369, 0.0038000155404320367), (4370, 0.0), (4371, 0.0035340408383513424), (4372, 0.0), (4373, 0.0), (4374, 0.01972441690462664), (4375, 0.05144662084457594), (4376, 0.006049854089621588), (4377, 0.006377913250456712), (4378, 0.1038762352756194), (4379, 0.01930198960958203), (4380, 0.01532354303057537), (4381, 0.0032870598369147083), (4382, 0.003354303284162008), (4383, 0.00571421128529365), (4384, 0.0060784443448792), (4385, 0.0), (4386, 0.0026119868967096685), (4387, 0.01862276336935338), (4388, 0.0), (4389, 0.07459814531973255), (4390, 0.00876677682761521), (4391, 0.003013818033453827), (4392, 0.006235841481087462), (4393, 0.0), (4394, 0.0033751075437101767), (4395, 0.003358174675066007), (4396, 0.04809539129331847), (4397, 0.0033363877775465633), (4398, 0.05281856300606519), (4399, 0.0032322702475633264), (4400, 0.0038574891030103762), (4401, 0.0036011385926424445), (4402, 0.03816624783547087), (4403, 0.024791509838453733), (4404, 0.0), (4405, 0.0), (4406, 0.0), (4407, 0.004915207887825286), (4408, 0.0), (4409, 0.00309015725850582), (4410, 0.0), (4411, 0.0027708765337661105), (4412, 0.009942722767601398), (4413, 0.0), (4414, 0.0), (4415, 0.0), (4416, 0.0035521120383221177), (4417, 0.0), (4418, 0.00397632311009955), (4419, 0.003137195843117386), (4420, 0.0033696800198383245), (4421, 0.0), (4422, 0.0031250860479321023), (4423, 0.003916786713088744), (4424, 0.0), (4425, 0.0), (4426, 0.004972552929305674), (4427, 0.0032918978072240725), (4428, 0.0031734914484101233), (4429, 0.002620710231647947), (4430, 0.008846621976898231), (4431, 0.0099507171906749), (4432, 0.009341282813341224), (4433, 0.0), (4434, 0.0), (4435, 0.012400179406134916), (4436, 0.016325183960175807), (4437, 0.0), (4438, 0.005408806189022956), (4439, 0.0), (4440, 0.011893957248073812), (4441, 0.005482335993028282), (4442, 0.01232985492091615), (4443, 0.047120765783218166), (4444, 0.012515667899395294), (4445, 0.00262086937797925), (4446, 0.003817806010094039), (4447, 0.0), (4448, 0.003291878738640167), (4449, 0.0), (4450, 0.013628223020367234), (4451, 0.0), (4452, 0.04865211128639544), (4453, 0.0), (4454, 0.0), (4455, 0.0), (4456, 0.0), (4457, 0.0), (4458, 0.003611515703100206), (4459, 0.0), (4460, 0.0), (4461, 0.0029143218396097403), (4462, 0.006431321557534579), (4463, 0.0), (4464, 0.0069254917763665064), (4465, 0.025003400622694662), (4466, 0.006158497563300412), (4467, 0.0), (4468, 0.005434328066465176), (4469, 0.014451364320051676), (4470, 0.009463437641161341), (4471, 0.003190898018929613), (4472, 0.003283538995003547), (4473, 0.0027475934548525597), (4474, 0.020655416105236423), (4475, 0.015241858711715389), (4476, 0.0029618095345746447), (4477, 0.01463223623242061), (4478, 0.0), (4479, 0.0033616989678792518), (4480, 0.0), (4481, 0.016243115025182817), (4482, 0.0), (4483, 0.0), (4484, 0.003987818695608763), (4485, 0.0), (4486, 0.009552956742547651), (4487, 0.003246520038763733), (4488, 0.0613674897480227), (4489, 0.003564732325561638), (4490, 0.011261180501702436), (4491, 0.0), (4492, 0.0), (4493, 0.0), (4494, 0.010363067856109933), (4495, 0.003563873090431538), (4496, 0.0), (4497, 0.0034439930310743586), (4498, 0.0), (4499, 0.0), (4500, 0.0), (4501, 0.0031751378100041616), (4502, 0.012203122939012476), (4503, 0.06841807396453317), (4504, 0.0030644760628540527), (4505, 0.003493904890061474), (4506, 0.0), (4507, 0.003403570588452131), (4508, 0.0), (4509, 0.0), (4510, 0.016326087526709835), (4511, 0.003051163986534158), (4512, 0.01556380344954878), (4513, 0.005324376045370637), (4514, 0.006654588181250089), (4515, 0.007143476831770965), (4516, 0.0034548669139794434), (4517, 0.00905659149726646), (4518, 0.007220292496720634), (4519, 0.0), (4520, 0.002979386965810369), (4521, 0.003731701373555924), (4522, 0.009295968907596989), (4523, 0.009099802544892203), (4524, 0.007196650446561064), (4525, 0.0), (4526, 0.0), (4527, 0.0063259598448617135), (4528, 0.0032847475585113294), (4529, 0.004054266084977443), (4530, 0.002938236483916653), (4531, 0.02034570456798191), (4532, 0.0), (4533, 0.03823393601330945), (4534, 0.006175210043112133), (4535, 0.003637687447163524), (4536, 0.003083391593344262), (4537, 0.00715505900534939), (4538, 0.037266257670837154), (4539, 0.0), (4540, 0.003254163192331422), (4541, 0.0), (4542, 0.0), (4543, 0.014058296862521512), (4544, 0.0037732851272552718), (4545, 0.003560460318431821), (4546, 0.01094088404702391), (4547, 0.0), (4548, 0.03784139328944742), (4549, 0.0), (4550, 0.003363455392551277), (4551, 0.015050550422942342), (4552, 0.005968683738368812), (4553, 0.014753054031465), (4554, 0.023794339680606257), (4555, 0.004557954128208491), (4556, 0.0), (4557, 0.010325419796212149), (4558, 0.0), (4559, 0.0), (4560, 0.0), (4561, 0.0), (4562, 0.0), (4563, 0.0032648117618460423), (4564, 0.0), (4565, 0.0), (4566, 0.003318489394998851), (4567, 0.003506599205585792), (4568, 0.0), (4569, 0.0), (4570, 0.0), (4571, 0.004812070628929117), (4572, 0.00371194983320979), (4573, 0.002935898646649148), (4574, 0.0036897968607267147), (4575, 0.0033285805116078627), (4576, 0.01031384319999518), (4577, 0.0), (4578, 0.0), (4579, 0.009179728648189094), (4580, 0.0), (4581, 0.008942742230885458), (4582, 0.00568706149456139), (4583, 0.0), (4584, 0.00404448429621495), (4585, 0.005524155652798871), (4586, 0.0057094931383417135), (4587, 0.00607426923989708), (4588, 0.04976237853497253), (4589, 0.0041896623915649266), (4590, 0.043526119500724866), (4591, 0.008643742752849234), (4592, 0.0), (4593, 0.010177156177949065), (4594, 0.07910044689075124), (4595, 0.0064502727174076645), (4596, 0.0), (4597, 0.0), (4598, 0.0027303123616773486), (4599, 0.0), (4600, 0.0), (4601, 0.010315146411007291), (4602, 0.03992747636261444), (4603, 0.0027995601477909214), (4604, 0.0032906875051675446), (4605, 0.0036725360434094285), (4606, 0.004056828859271153), (4607, 0.005345830544975158), (4608, 0.02576529952404878), (4609, 0.0), (4610, 0.011028813619100833), (4611, 0.004036336180195509), (4612, 0.01195816517347843), (4613, 0.0), (4614, 0.1069103178893791), (4615, 0.0), (4616, 0.0027943179326128985), (4617, 0.015817595241985696), (4618, 0.0), (4619, 0.014066537087776415), (4620, 0.0029969904998985984), (4621, 0.006087267657826896), (4622, 0.0), (4623, 0.015220399271222484), (4624, 0.010583750330590232), (4625, 0.003140889014658962), (4626, 0.002647467021571358), (4627, 0.0036074088449368894), (4628, 0.0), (4629, 0.00945421629397291), (4630, 0.0066331157133451765), (4631, 0.0), (4632, 0.0035695588211942203), (4633, 0.003731161818762678), (4634, 0.0032538197118808), (4635, 0.0), (4636, 0.002805114756814532), (4637, 0.02025869341485917), (4638, 0.002924601612102874), (4639, 0.006444422989519955), (4640, 0.003314428101752582), (4641, 0.0031475501874135454), (4642, 0.006431887028304081), (4643, 0.0038147489902919), (4644, 0.0), (4645, 0.03376998681814694), (4646, 0.007328515760112439), (4647, 0.0), (4648, 0.0), (4649, 0.003321968244373036), (4650, 0.004012207678086635), (4651, 0.0), (4652, 0.002845977845193724), (4653, 0.007294540500307763), (4654, 0.0), (4655, 0.0), (4656, 0.010654468472267347), (4657, 0.0032350428977663877), (4658, 0.020581996835553243), (4659, 0.032248437466337), (4660, 0.011516403870935266), (4661, 0.008132607028737067), (4662, 0.0), (4663, 0.043471552058323606), (4664, 0.011479821212963412), (4665, 0.0061001658472120135), (4666, 0.007446905231931559), (4667, 0.0), (4668, 0.034069766219871137), (4669, 0.019621656183815804), (4670, 0.008725260401612957), (4671, 0.0), (4672, 0.0), (4673, 0.01864842088187142), (4674, 0.007598605641924564), (4675, 0.0), (4676, 0.0), (4677, 0.009718756468809693), (4678, 0.006342068101530677), (4679, 0.015770292972213617), (4680, 0.003491507351210168), (4681, 0.0), (4682, 0.032910907968605595), (4683, 0.0), (4684, 0.01659875210809605), (4685, 0.003276482837924978), (4686, 0.0033536586070908392), (4687, 0.003316860759171336), (4688, 0.0), (4689, 0.005683487258142134), (4690, 0.0), (4691, 0.007438745929953057), (4692, 0.003991071260183219), (4693, 0.00294183795384052), (4694, 0.0035495803514805383), (4695, 0.005536539857807456), (4696, 0.003944584411502685), (4697, 0.006607129432753476), (4698, 0.006636884113503681), (4699, 0.010859856938051572), (4700, 0.0), (4701, 0.011755506478718468), (4702, 0.0), (4703, 0.04644453451103111), (4704, 0.00413734616700116), (4705, 0.004329959273145887), (4706, 0.0033643863350149455), (4707, 0.011050686594052046), (4708, 0.005974982320660921), (4709, 0.01904020098891808), (4710, 0.010779393966562072), (4711, 0.0), (4712, 0.0030425535855463544), (4713, 0.0035001328266539644), (4714, 0.0), (4715, 0.009312162030243471), (4716, 0.0), (4717, 0.0035686131835133434), (4718, 0.003395297678562932), (4719, 0.025725986190425962), (4720, 0.0), (4721, 0.04953107495934732), (4722, 0.021634749006138244), (4723, 0.0036940091234222657), (4724, 0.056183811709203835), (4725, 0.0), (4726, 0.0), (4727, 0.03647103610455635), (4728, 0.0), (4729, 0.0029077397239033005), (4730, 0.0), (4731, 0.010630444396884138), (4732, 0.003927950076312754), (4733, 0.008496148074155621), (4734, 0.003271403312203382), (4735, 0.021812726727569405), (4736, 0.0), (4737, 0.0), (4738, 0.0), (4739, 0.08904218253791343), (4740, 0.0), (4741, 0.0), (4742, 0.0), (4743, 0.0032273355193209057), (4744, 0.0024199313493743265), (4745, 0.0), (4746, 0.006240080945278206), (4747, 0.01762366730148938), (4748, 0.0028795968290762485), (4749, 0.004063325631339652), (4750, 0.0), (4751, 0.0), (4752, 0.0023536650480830007), (4753, 0.0034533708503740987), (4754, 0.0), (4755, 0.0), (4756, 0.003640956895470698), (4757, 0.010236761448636571), (4758, 0.0), (4759, 0.0)]\n"
          ]
        }
      ]
    },
    {
      "cell_type": "code",
      "source": [
        "len(Recommendation_Score)"
      ],
      "metadata": {
        "colab": {
          "base_uri": "https://localhost:8080/"
        },
        "id": "CKpLUzRlYgZT",
        "outputId": "1ce0c1b2-055e-4f02-921b-d8d90d938b2a"
      },
      "execution_count": null,
      "outputs": [
        {
          "output_type": "execute_result",
          "data": {
            "text/plain": [
              "4760"
            ]
          },
          "metadata": {},
          "execution_count": 49
        }
      ]
    },
    {
      "cell_type": "markdown",
      "source": [
        "**Get All Movies Sort Based on Recommendation Score Wrt Favourite Movie**"
      ],
      "metadata": {
        "id": "Gr3jhBgHY22Z"
      }
    },
    {
      "cell_type": "code",
      "source": [
        "#sorting the movies based on their similarity score\n",
        "Sorted_Similar_Movies = sorted(Recommendation_Score, key =lambda x:x[1], reverse = True )\n",
        "print(Sorted_Similar_Movies)"
      ],
      "metadata": {
        "colab": {
          "base_uri": "https://localhost:8080/"
        },
        "id": "G5Z2lfuJZByJ",
        "outputId": "c0b451f3-33e5-4c8a-c3e2-54ee558698a3"
      },
      "execution_count": null,
      "outputs": [
        {
          "output_type": "stream",
          "name": "stdout",
          "text": [
            "[(2692, 1.0), (3276, 0.14182970558594088), (2903, 0.1392652497725169), (45, 0.1353426091066774), (3779, 0.12105322337345416), (1647, 0.11997741691762637), (2558, 0.11712393171149403), (3053, 0.11436347276390944), (110, 0.10963491961337668), (628, 0.10780376064756476), (4614, 0.1069103178893791), (1977, 0.1054920958711317), (4378, 0.1038762352756194), (1070, 0.0987255616821825), (1982, 0.09671415844548989), (4116, 0.09627038950685182), (3465, 0.09383509410342417), (1886, 0.08966817746750592), (4739, 0.08904218253791343), (455, 0.08790699149479661), (84, 0.08370653233617537), (3248, 0.07931987815946463), (3450, 0.07928698717342836), (4594, 0.07910044689075124), (4137, 0.07878711674717723), (3946, 0.07758107282478102), (3385, 0.07734725162509856), (2985, 0.07709418396000331), (3854, 0.07560307031702845), (1118, 0.07514671163495976), (424, 0.07470553739058954), (4389, 0.07459814531973255), (254, 0.07415254419657563), (2112, 0.07407459103549646), (3010, 0.07357490894509883), (590, 0.07022634341843542), (3334, 0.06950120383805426), (1102, 0.06925806272899022), (2358, 0.06923596359294609), (4503, 0.06841807396453317), (4123, 0.06762419671855449), (384, 0.06423562980304773), (1021, 0.06417787742631666), (479, 0.06407186071357585), (2318, 0.06279885850200988), (2295, 0.06277562702106948), (360, 0.06247577502502885), (2214, 0.061430613662812494), (4488, 0.0613674897480227), (3753, 0.0608752729860272), (3360, 0.06074573179232597), (761, 0.06033192696719589), (277, 0.06028249192992757), (1148, 0.059978297601409394), (3427, 0.05960732223766812), (3203, 0.0593883249230829), (3408, 0.05917449885130281), (3793, 0.05911607437896576), (637, 0.0590832549399805), (2530, 0.05788327712795211), (2630, 0.05785650954953856), (4064, 0.05761925475251126), (673, 0.057439046696669), (4104, 0.057403471462903664), (2579, 0.05676372663314799), (2321, 0.056669043705456904), (2012, 0.056646551212024325), (2971, 0.056588478114517025), (1821, 0.05641840952178761), (904, 0.05629228119589992), (682, 0.056232556302698855), (4724, 0.056183811709203835), (3947, 0.055205299083846096), (1320, 0.055116162879679256), (408, 0.05510707714750012), (2026, 0.05481511269885756), (1809, 0.054482351471557715), (3462, 0.054178208773587845), (89, 0.054163444147426944), (3351, 0.05341802540897696), (3137, 0.05327781081024965), (4398, 0.05281856300606519), (172, 0.05231677270376733), (2694, 0.051925408044363276), (3559, 0.05157250295204003), (2716, 0.05153397548999042), (2540, 0.05151230325917779), (4375, 0.05144662084457594), (3023, 0.05125707955484867), (2893, 0.051257008147326664), (3552, 0.05125017334965806), (774, 0.0510460303277776), (62, 0.05079197417765932), (3867, 0.05074257439891842), (632, 0.05021063784248724), (4588, 0.04976237853497253), (4096, 0.04965441975572327), (4721, 0.04953107495934732), (830, 0.04935561092682171), (1024, 0.048998142779481654), (3315, 0.04895154554600282), (3249, 0.048755412078126364), (694, 0.04872178600069613), (4452, 0.04865211128639544), (4152, 0.048645580270723236), (2212, 0.04860433463378065), (2846, 0.048480786178210514), (3486, 0.04829098959620508), (1085, 0.04826861230927027), (1970, 0.048266364915858034), (4396, 0.04809539129331847), (2123, 0.048018684238778836), (1236, 0.04798500112086562), (161, 0.04795440865938094), (2417, 0.047933590117376), (2375, 0.04786679628823677), (2187, 0.04783026386131655), (3511, 0.047789202754124294), (3480, 0.04760013043632206), (1878, 0.04757838473662879), (2316, 0.04719540633979785), (1702, 0.047133407956447), (4443, 0.047120765783218166), (185, 0.04685365503249655), (1991, 0.04684460790934437), (615, 0.04655210824370197), (4703, 0.04644453451103111), (210, 0.046434158715276605), (3280, 0.0464288340905696), (282, 0.046426457325033456), (2147, 0.046392244199302525), (1652, 0.046305621593411644), (4005, 0.04628371587815031), (4362, 0.04622233970827537), (1994, 0.04612087145755028), (67, 0.046009928913583915), (3973, 0.04560098223733443), (1363, 0.04555426861794812), (3655, 0.0454861439658609), (1311, 0.04478143480358806), (3395, 0.04472208328335779), (2018, 0.0447210176627383), (3330, 0.04471754327113739), (1351, 0.044668954268710995), (2371, 0.04460004794583058), (2308, 0.04458067097175964), (2476, 0.04452514052630453), (1257, 0.04451380668977571), (1383, 0.044323576470199244), (3652, 0.044282901322859676), (2155, 0.04425704501296057), (2122, 0.04383507562700999), (1063, 0.04380633158918896), (4209, 0.043645364377985794), (874, 0.04361752616288875), (4590, 0.043526119500724866), (4663, 0.043471552058323606), (3091, 0.04341600428675186), (3470, 0.04323154241071184), (3409, 0.04317716653206738), (4195, 0.04316420175502666), (935, 0.04315719377963536), (213, 0.04303185030614169), (2014, 0.04301098830437911), (2859, 0.04290770201859344), (873, 0.04287370403971091), (2782, 0.04279933041866873), (2981, 0.04247896244018897), (3731, 0.042381053192043314), (1837, 0.04236453010748775), (2100, 0.04235446259598705), (3983, 0.04231544971124523), (381, 0.04230098751084006), (3572, 0.042277054615968604), (1134, 0.04223520663052775), (138, 0.04216517287047195), (1030, 0.04203188439685986), (1137, 0.041951834102044686), (3518, 0.04151737383623067), (3004, 0.041516249219960624), (328, 0.041501766063909276), (1369, 0.04108977123010989), (2802, 0.041056533623900625), (2710, 0.040949087142576536), (179, 0.040948096030958184), (2082, 0.040939221138161744), (3701, 0.04081051035667966), (65, 0.04066753963879695), (3574, 0.04057837708273612), (1362, 0.040439245881851646), (3255, 0.04033991680548078), (3428, 0.04023491685371366), (3656, 0.04019112248386359), (421, 0.040138388108027355), (2413, 0.04008882840563813), (3605, 0.03998227901344467), (4602, 0.03992747636261444), (1482, 0.0398217969273291), (387, 0.039751329139631426), (1713, 0.0395375458468278), (721, 0.039403208552830485), (836, 0.039329790581955654), (3373, 0.039164536087382434), (284, 0.039049357704320664), (522, 0.03883506949598106), (167, 0.038452820111570925), (2365, 0.03845240963616563), (462, 0.03842602648192277), (4252, 0.03839525635709228), (519, 0.03828515600135471), (4533, 0.03823393601330945), (2920, 0.038200185634341695), (4402, 0.03816624783547087), (2944, 0.038070983407485263), (3850, 0.03801743609681843), (1675, 0.03798337910378082), (4548, 0.03784139328944742), (1059, 0.03778066026801258), (2102, 0.037689008840547725), (1973, 0.037602041077707815), (250, 0.03753003350354256), (3325, 0.03750863709486138), (1990, 0.03742836096645915), (2760, 0.03728973099510682), (4538, 0.037266257670837154), (823, 0.03724398073457061), (2109, 0.03722584339661704), (3814, 0.03710497501716689), (2868, 0.03704919953754067), (2745, 0.03695832962129967), (1885, 0.03690963299461899), (3720, 0.03690365325534825), (1530, 0.03688927443043723), (4165, 0.03687529715826667), (1261, 0.03679482188064225), (430, 0.03678349165227504), (1976, 0.036726444033401424), (1499, 0.03669432660880608), (2723, 0.03668571872456284), (4175, 0.03665393491395436), (3167, 0.036611711192389346), (1398, 0.03651024730582246), (1430, 0.03649751074198087), (3326, 0.036478452300304574), (4727, 0.03647103610455635), (547, 0.036210494069628535), (240, 0.03620075127308048), (3891, 0.03606971939376926), (2614, 0.03599257637507245), (710, 0.03575690349216488), (3852, 0.03574523503941417), (2972, 0.03572353581605924), (2467, 0.035552027564450445), (2449, 0.03555099015265392), (3871, 0.03542839249151985), (1634, 0.03535298841454382), (3260, 0.035237106595000796), (3174, 0.0351652681626847), (3751, 0.03515323446141502), (2887, 0.035020719491199094), (3146, 0.03499148171871081), (2912, 0.034969830965443746), (241, 0.03492279156726387), (788, 0.03472149689021592), (1720, 0.0347146546348915), (3328, 0.03467859198413193), (3154, 0.03454159628793936), (852, 0.034363804424275814), (858, 0.034306773994933315), (1060, 0.034240119697456425), (2646, 0.034235187427273835), (3028, 0.0342051993254077), (2687, 0.03417783105043786), (2718, 0.034163704442635674), (885, 0.03409570403047433), (4668, 0.034069766219871137), (3688, 0.03403503924160612), (3913, 0.03387076553828024), (257, 0.033783931480770996), (4645, 0.03376998681814694), (3868, 0.03368735362229669), (693, 0.03361747077519916), (2761, 0.0335447880871042), (1560, 0.03353058069675196), (1205, 0.03351890400810913), (2706, 0.03348639945477521), (3463, 0.03336502488504486), (1146, 0.033304380441603595), (3963, 0.03328195673229422), (1749, 0.033097342666830405), (459, 0.03305517124924253), (1763, 0.033015436043140334), (4682, 0.032910907968605595), (1770, 0.032898109861054944), (2343, 0.03287957763578707), (3488, 0.03281340304426885), (4294, 0.032590251726683644), (4160, 0.03255822759231793), (903, 0.03240867773350669), (176, 0.0323949303508987), (4659, 0.032248437466337), (3156, 0.032244240452559345), (812, 0.03222280392605617), (593, 0.03200317183567743), (2822, 0.03191024517718696), (1195, 0.031889417516401834), (1283, 0.03174386695633902), (1186, 0.031689197697851466), (2699, 0.03159838561853501), (1757, 0.03134952083369085), (2408, 0.03130832858615856), (1999, 0.031205851097066768), (3880, 0.03115395595135278), (3083, 0.031093099675597646), (2210, 0.031053681919951573), (3904, 0.031035672691745304), (4272, 0.03096109021089603), (1181, 0.030955346882669335), (1358, 0.030943066456539783), (3773, 0.03084865315419063), (1057, 0.03084244232666951), (3017, 0.030835348116893573), (3872, 0.0307464718743369), (155, 0.030665578655409507), (2198, 0.030663441159959233), (2394, 0.030615768824918094), (3746, 0.030505540001004472), (787, 0.03034594346139989), (3573, 0.03033983657974048), (3068, 0.03032810994838865), (2517, 0.030277364003802796), (2950, 0.03003394965819368), (4354, 0.029910561014854852), (3767, 0.029821853035723798), (2048, 0.029734925801563783), (68, 0.029734330566190903), (1752, 0.029705076625412618), (3362, 0.029414994130153634), (25, 0.029404526734989916), (2294, 0.029388758983224655), (2908, 0.029315485758585596), (2713, 0.02923160643074445), (4035, 0.029189729008929053), (428, 0.029162968971078028), (4288, 0.02904834565900085), (2157, 0.028999301896085194), (618, 0.028920596075433822), (4128, 0.02886373408989704), (3916, 0.028758344155637775), (3959, 0.02873833275172121), (1095, 0.028701899376558454), (2173, 0.028586074046731653), (174, 0.028514144450846327), (398, 0.028458882009844828), (672, 0.028389511215563747), (2649, 0.028041003602051175), (1241, 0.027870738955714614), (766, 0.027755441811820693), (383, 0.027436553782755876), (1098, 0.027234830953014214), (3319, 0.027148826007516256), (3978, 0.02697822605820697), (2767, 0.026787501619482786), (3254, 0.02677540393614348), (3430, 0.02661055625147004), (4088, 0.026077827338065955), (2276, 0.02595517381470748), (917, 0.025928022214117892), (2013, 0.0258146748851169), (4608, 0.02576529952404878), (4719, 0.025725986190425962), (3923, 0.02551322233827552), (1397, 0.025019605652443426), (4465, 0.025003400622694662), (1657, 0.024855025867483088), (4403, 0.024791509838453733), (3629, 0.024626647476062753), (3097, 0.024417166257957756), (2795, 0.02427135560141509), (123, 0.02410112994700621), (3275, 0.02407773047135427), (641, 0.023982836715346137), (4554, 0.023794339680606257), (3466, 0.023688974276815645), (3306, 0.023653519800150978), (2020, 0.023494895047520503), (2768, 0.023487342552801566), (3043, 0.02316263798759719), (4246, 0.023152116210008886), (4242, 0.023097962030893083), (2406, 0.02304189125408138), (947, 0.022998660357879824), (3862, 0.02280604888482897), (3766, 0.022703259493596476), (2932, 0.02255515689652243), (458, 0.02242301419756133), (1115, 0.022358047185861405), (481, 0.022193928329588566), (2037, 0.02213159509462039), (1335, 0.022033307902743462), (1572, 0.021843768179735126), (643, 0.02184198622745939), (4735, 0.021812726727569405), (3883, 0.02167946344007475), (4722, 0.021634749006138244), (2196, 0.021578800193324407), (1325, 0.021578569176780915), (109, 0.021558742360598026), (1983, 0.02155010910835932), (2638, 0.021535598537010456), (3828, 0.02149574833388426), (2154, 0.02147020797504577), (1015, 0.02142184174423816), (622, 0.02139784190370823), (2996, 0.021319726630831298), (2668, 0.021259254757242822), (2645, 0.021242182056185582), (3370, 0.02124215413525909), (2254, 0.021213170234110013), (1997, 0.021152123066577776), (2023, 0.021118728536752538), (3961, 0.021088811914971507), (1224, 0.02090218510973379), (676, 0.020892069962327744), (447, 0.020887091935049534), (888, 0.020795775880397074), (3699, 0.020746476967074164), (879, 0.02074409761775669), (896, 0.02073752435522344), (87, 0.02069704342729751), (124, 0.02066213873289861), (4474, 0.020655416105236423), (2229, 0.02064134886636509), (1064, 0.020635396221552194), (4658, 0.020581996835553243), (4068, 0.020477885992240756), (701, 0.02046506374593184), (878, 0.02045282492101825), (1716, 0.020449247423954126), (1275, 0.020416364018885247), (3670, 0.020367014817501316), (3675, 0.020354200578399144), (4531, 0.02034570456798191), (2053, 0.02033512858031368), (3483, 0.020315526055141236), (3086, 0.02030964399745195), (675, 0.020306206729293133), (1509, 0.020305784685390828), (2910, 0.020290750515257805), (4637, 0.02025869341485917), (3777, 0.02024953457878534), (1184, 0.02020483759399594), (2040, 0.020192907091720773), (2522, 0.020189048043945026), (584, 0.02013669608324765), (502, 0.0201275314594732), (1478, 0.020105429212933325), (450, 0.020067837366404787), (678, 0.020067829177131388), (988, 0.02004456311931417), (1141, 0.02001029255685509), (2777, 0.020008217415490838), (1248, 0.019988310144329204), (4178, 0.0199789875696337), (21, 0.019926379149077425), (1481, 0.019894317613119092), (3019, 0.019857357216886473), (2284, 0.019837401997709708), (1132, 0.019835100017908485), (937, 0.019834822809491545), (48, 0.019775623374217788), (4374, 0.01972441690462664), (1337, 0.019709909609611727), (4189, 0.01967796114929423), (1483, 0.019651121643348715), (2919, 0.01964503425191533), (4669, 0.019621656183815804), (3640, 0.019621157301392658), (543, 0.019610672070685453), (928, 0.0196071258559941), (860, 0.019566770530712242), (1252, 0.019564641342787955), (1967, 0.01953988819743331), (3553, 0.019515975049440283), (876, 0.019475424956575983), (18, 0.019470639197998456), (4244, 0.019450356393033046), (1017, 0.019448156100601077), (3374, 0.01942602569246822), (3377, 0.01938668549684783), (2447, 0.019358288069960553), (2096, 0.019355948620990535), (51, 0.019354473201843348), (2216, 0.019341109167223078), (166, 0.0193265882509384), (2771, 0.019322574005580163), (2815, 0.01931079199299855), (4379, 0.01930198960958203), (853, 0.01927427818844689), (370, 0.019269282554450835), (2487, 0.01924952523252896), (1119, 0.019237022107696403), (1740, 0.019223515742544883), (236, 0.01921721999631451), (533, 0.019201363004701197), (1687, 0.01919638356845088), (1629, 0.019172157005531446), (3012, 0.019144125907673417), (2925, 0.01910022021359371), (2224, 0.019086190430906612), (1985, 0.019050836291992352), (3694, 0.019042012105853663), (4709, 0.01904020098891808), (1506, 0.01901415872637044), (870, 0.01899868883613664), (3642, 0.018959698985767444), (1385, 0.018953357305380086), (3756, 0.01891452768095347), (1232, 0.01889205734501439), (2235, 0.01889151602988131), (2695, 0.01888618445567334), (1678, 0.01887863364328528), (2070, 0.01881800557063015), (2784, 0.01881529893032647), (2617, 0.018806687081691524), (3437, 0.018789082796258853), (2334, 0.01871972243933372), (1942, 0.018652079188739113), (3110, 0.018650814807496485), (3741, 0.018650238287382), (4673, 0.01864842088187142), (181, 0.01864080112087481), (429, 0.01863929341249651), (2275, 0.018629848576577505), (3807, 0.018625036474409398), (1237, 0.018623510574338604), (4387, 0.01862276336935338), (2808, 0.01858266889367045), (3597, 0.018534329945105676), (1107, 0.01853031396569751), (4004, 0.018528911844055494), (542, 0.01851242946855311), (652, 0.01848737825463055), (2885, 0.01845852426905188), (534, 0.018412076772323312), (653, 0.01840849624836232), (989, 0.01838061172027293), (3384, 0.018370704708827817), (2486, 0.0183697471488332), (463, 0.01833072647760047), (2383, 0.01830011370486781), (669, 0.018280915174608444), (1621, 0.018268885615721403), (753, 0.01823986572178905), (3210, 0.018239632312639652), (4231, 0.018215048337579944), (276, 0.018208006642681178), (3312, 0.018162910301741497), (875, 0.018161367458747302), (905, 0.018122751020168942), (500, 0.018110771414278682), (1853, 0.018035294241685363), (842, 0.018015308334565567), (3318, 0.017981158777155927), (1343, 0.01797925067018016), (112, 0.017972262506382126), (1058, 0.01794659624713628), (3660, 0.017901175000102403), (3637, 0.01788067778994229), (2412, 0.017879911675064142), (3142, 0.017875230781231603), (1739, 0.017859129326567753), (1417, 0.017848916653537744), (4000, 0.017848615763625376), (799, 0.017846940594028773), (2751, 0.017834289266747374), (3708, 0.01775243809012558), (1680, 0.0177014327408263), (1667, 0.017643091415645774), (4747, 0.01762366730148938), (147, 0.017613407967375986), (1303, 0.017611184166218062), (2024, 0.017594250002630943), (1815, 0.01755345745241531), (530, 0.017540257651771723), (1047, 0.017479011745245788), (1671, 0.01744043060771653), (2939, 0.017436700576840724), (2066, 0.01737497334613801), (1035, 0.017370790340539302), (560, 0.01731779337518894), (1436, 0.017287497889764497), (2174, 0.01728186537038561), (207, 0.01728090542000542), (1542, 0.01727857512939559), (1360, 0.017275034527706942), (3403, 0.017245093258851152), (3076, 0.01719939008784481), (52, 0.01719607904728221), (4124, 0.017129704159048055), (4121, 0.01712006649055212), (866, 0.017110950026945165), (199, 0.017103126849855457), (760, 0.01709175096324221), (3819, 0.017076683089152892), (1183, 0.017068324270556684), (825, 0.01706680442161756), (1665, 0.01706045420784114), (3775, 0.01700848090939151), (986, 0.017004045638357924), (145, 0.016991718560364515), (418, 0.016985164257037267), (1595, 0.016984609147638472), (1796, 0.01697752648296625), (2963, 0.016929678100212477), (3659, 0.016928754709465102), (137, 0.016909487581281673), (2727, 0.01686943390291773), (604, 0.016812211012763485), (501, 0.01681012098569077), (1681, 0.016758672756536315), (2621, 0.01671549020779851), (2978, 0.016686611752099383), (1061, 0.016676056702205604), (304, 0.01667528391340827), (1989, 0.016639684763553476), (1419, 0.016619055578478335), (4684, 0.01659875210809605), (3504, 0.016571677140767627), (1412, 0.01656998075546956), (2961, 0.016537068290427746), (2607, 0.016525373843876215), (915, 0.016515774076170244), (3801, 0.01651499017253066), (1000, 0.016489849343137995), (1292, 0.01647558827770601), (1471, 0.016466445917408517), (3535, 0.016457862823680152), (1774, 0.01645442203838635), (148, 0.016394504952954678), (4510, 0.016326087526709835), (4436, 0.016325183960175807), (532, 0.01631040967184382), (3849, 0.016296416565628073), (942, 0.016264845348678995), (1949, 0.01626097450810661), (4481, 0.016243115025182817), (201, 0.016186748650786793), (918, 0.01617940176232758), (70, 0.016173676251983973), (4164, 0.01612739138276685), (4148, 0.0160926640513894), (621, 0.016076148313320902), (4265, 0.01604527948964314), (654, 0.016042096613451635), (334, 0.016032489685465928), (1162, 0.01595744919996658), (1104, 0.01592615758641742), (829, 0.015906287136917364), (3085, 0.015884224867105758), (1591, 0.015874441724075053), (1432, 0.015859569234806973), (1054, 0.015857577512447874), (1074, 0.01584070993979118), (4617, 0.015817595241985696), (976, 0.01581475059171974), (4216, 0.015812397783094748), (3232, 0.01579824172475739), (3507, 0.015792177673193034), (3119, 0.015776339206715975), (190, 0.015773658934927253), (4679, 0.015770292972213617), (1314, 0.015760916502574312), (916, 0.015753783209693548), (2788, 0.015671631156300655), (2780, 0.01564279326959174), (3794, 0.015613937203654627), (1185, 0.015577782503159925), (2178, 0.015574509740219879), (4512, 0.01556380344954878), (1958, 0.015542240929273806), (1230, 0.015536665246695633), (4095, 0.015534993926297777), (689, 0.015482784519153706), (2742, 0.015421957061147617), (144, 0.015421743454249286), (4227, 0.015411528457310027), (3711, 0.015398485378545865), (2697, 0.015363049305613396), (83, 0.015349410569920296), (1377, 0.01534463611244129), (931, 0.015340560757739248), (1226, 0.015337779583372027), (4380, 0.01532354303057537), (1455, 0.015315877962864502), (1789, 0.01530180801833354), (2918, 0.015274727033678295), (2625, 0.015257467885053368), (4033, 0.015246460654849588), (4475, 0.015241858711715389), (4623, 0.015220399271222484), (1992, 0.015202955732131635), (1018, 0.01516849892999209), (1406, 0.015139983758731993), (939, 0.015129356330549763), (291, 0.015108607122338632), (4325, 0.015067179286232356), (3768, 0.01505962698521765), (2280, 0.015052625283274404), (4551, 0.015050550422942342), (2913, 0.015033370468920029), (3267, 0.01500777208507141), (2429, 0.014981632193761953), (3045, 0.014955737707546728), (2250, 0.014938174688538818), (1694, 0.01493742128418045), (2346, 0.014934712926701049), (1173, 0.014919140292974512), (1937, 0.014905288452178516), (3993, 0.014904859185982089), (4203, 0.01490218151091478), (244, 0.014870679215545236), (3992, 0.014779783386030473), (2057, 0.014778758368093368), (2602, 0.014765494799674535), (4553, 0.014753054031465), (1300, 0.01473792515920614), (801, 0.01472940665315853), (2791, 0.014718000872187782), (2119, 0.014714132849401264), (790, 0.014697474021546267), (3317, 0.014692862319757104), (3297, 0.014689073764269145), (4187, 0.014680189048688612), (2524, 0.014646166474993033), (1387, 0.014638480161149613), (3382, 0.014634446053384546), (2336, 0.014633719076869438), (4477, 0.01463223623242061), (2739, 0.01462645714764458), (2097, 0.014616294299173892), (4293, 0.014607156518824334), (3416, 0.01459595625464696), (3582, 0.01459105405223422), (667, 0.014587133374366724), (695, 0.014560615030346245), (806, 0.014547307640897997), (3684, 0.014520052348133975), (4007, 0.01448427831109125), (3860, 0.014478876427278516), (4469, 0.014451364320051676), (72, 0.014434786251230243), (149, 0.014429192674926618), (3070, 0.014422483637281254), (1832, 0.014331643928844274), (683, 0.014309121000641417), (1068, 0.0143033843290356), (342, 0.014259978665846221), (333, 0.01423988734921184), (1442, 0.014238744213437975), (827, 0.014225796620224607), (47, 0.014193372350060938), (485, 0.014167550020843144), (1858, 0.014120245841038645), (692, 0.014114544345243535), (2206, 0.01410513915089704), (3612, 0.014097492829650424), (4619, 0.014066537087776415), (4543, 0.014058296862521512), (1259, 0.014053240577310777), (3999, 0.014047275338226172), (435, 0.013977636751633132), (3984, 0.01394534232497317), (2555, 0.013934656915240241), (629, 0.013911735768804431), (3924, 0.013899126178935836), (170, 0.013861140437113851), (1092, 0.013860625633544616), (1736, 0.013829135798444346), (274, 0.013817044423015713), (1334, 0.01377287393605842), (2126, 0.013772508945816482), (668, 0.013738457563362873), (1923, 0.013715552463007655), (1264, 0.013702972173020866), (3118, 0.01369985525161849), (544, 0.013690230917560673), (2512, 0.013683540262916547), (4450, 0.013628223020367234), (142, 0.01362290094209372), (1348, 0.013608497435098834), (1874, 0.013604535514421626), (1339, 0.013586616843522067), (4235, 0.013569233092235174), (2162, 0.013561422212116469), (1053, 0.013561278658166268), (216, 0.013538944237656753), (88, 0.013522447458291554), (99, 0.013520721187628685), (1754, 0.01351411049874653), (792, 0.013510979626237676), (2110, 0.013506228068720746), (2871, 0.013501153588868779), (417, 0.013464467380271475), (3099, 0.01343466810649355), (1776, 0.013348888885229416), (3095, 0.01334745695682234), (1234, 0.013338251091253176), (1527, 0.013319439763278318), (2016, 0.013292552565252413), (1781, 0.01327954363362805), (2029, 0.013211738519757559), (994, 0.013210396690045556), (270, 0.013204041534308913), (206, 0.013180331846087322), (3888, 0.013166964514328847), (126, 0.013166643029339117), (483, 0.013161126714934378), (3638, 0.01314524958942204), (43, 0.013141225254392201), (111, 0.013098663906991825), (757, 0.01309155891122218), (209, 0.013086950955017482), (2546, 0.01306358131850369), (2093, 0.013035066332228354), (281, 0.013026165532562785), (173, 0.013002104662914573), (3956, 0.012898333828530893), (1582, 0.012897989962716312), (105, 0.012877139892641085), (1440, 0.012863602209397206), (1971, 0.012862641500270364), (1727, 0.012839296607373669), (1438, 0.012813466921044028), (96, 0.012780836254424182), (4192, 0.012756477161287963), (3018, 0.012740115460218124), (3120, 0.012700091884909701), (1276, 0.012676341605601238), (4048, 0.012635780083612679), (5, 0.012620715541297397), (2464, 0.01261795776846144), (4268, 0.012617255441752464), (894, 0.012577021861284841), (287, 0.012565059435916908), (1338, 0.012537509429211148), (864, 0.012532761580301472), (1371, 0.012519254749923641), (4444, 0.012515667899395294), (3674, 0.012505966725187941), (2055, 0.012496118192159724), (4122, 0.012457209277815776), (684, 0.012407351690350968), (4435, 0.012400179406134916), (85, 0.012356827020356693), (285, 0.012353151721580139), (3155, 0.012347571832006578), (2489, 0.01234540137623129), (4442, 0.01232985492091615), (1290, 0.012266356526535344), (2849, 0.012235382246294384), (280, 0.012232396377558265), (4060, 0.012220512176754206), (948, 0.012219931701804666), (2752, 0.012215245367841073), (1620, 0.01220654297238464), (4502, 0.012203122939012476), (3284, 0.012153089144204578), (3407, 0.012147571859259004), (558, 0.012145007034251476), (3227, 0.01211884363720737), (396, 0.012111438037375678), (967, 0.01210576406438562), (2854, 0.012104806239831203), (2459, 0.012084045637526528), (1922, 0.012039424814873804), (1513, 0.011990826766515745), (670, 0.011984204002819517), (4612, 0.01195816517347843), (2840, 0.011946984026216927), (2427, 0.011909966547421501), (1317, 0.011902748669134947), (4440, 0.011893957248073812), (4232, 0.01187310928703876), (851, 0.011865338583080257), (1854, 0.011862682216192043), (120, 0.011859569690324864), (952, 0.011858621125043125), (3713, 0.011840466848194156), (2264, 0.011832303629432439), (3941, 0.011831933969307911), (2076, 0.01181026551984708), (3293, 0.011764882165572449), (106, 0.011757996580138767), (4701, 0.011755506478718468), (3949, 0.01174230049300236), (4053, 0.011726911243004946), (3228, 0.01168444163596926), (251, 0.011671752822384949), (2065, 0.011637026626771367), (2581, 0.011588179950413167), (2934, 0.011574900856742985), (3679, 0.01155487894382124), (3635, 0.011523797522028225), (2188, 0.011521996890367947), (4660, 0.011516403870935266), (3418, 0.011501774198090006), (4664, 0.011479821212963412), (2519, 0.011467730093516601), (566, 0.011460517151165922), (515, 0.011447372591425939), (828, 0.011323777973116015), (2655, 0.011304159976529154), (4490, 0.011261180501702436), (108, 0.011207190420157422), (1968, 0.011197274314690128), (795, 0.011181513955366746), (2080, 0.01117209006506132), (2948, 0.011128528702016645), (3127, 0.01112448287495136), (2075, 0.011093472985295994), (1454, 0.01105608117127892), (2279, 0.011052023692620665), (4707, 0.011050686594052046), (1071, 0.011045322381046774), (2228, 0.011029662580560635), (4610, 0.011028813619100833), (845, 0.011022829852607538), (2886, 0.011021489556571196), (3901, 0.011005160220349555), (2255, 0.01100381329315725), (3171, 0.010995482020506469), (3645, 0.010944849939980204), (1489, 0.010944624347880494), (4546, 0.01094088404702391), (1160, 0.010929798598732353), (1806, 0.010928302253704582), (4141, 0.01092077331838364), (2949, 0.010909183226171383), (443, 0.01090844047307781), (3303, 0.010863752366196484), (4699, 0.010859856938051572), (436, 0.010851301705238965), (3960, 0.010842246290817944), (256, 0.010838189257712806), (1540, 0.0108288159821876), (563, 0.010823892390267077), (2158, 0.010792252924769654), (4710, 0.010779393966562072), (2600, 0.01077606667097878), (911, 0.010774698827533976), (1488, 0.010754334023171318), (581, 0.010753488789244873), (3905, 0.010752404249625877), (729, 0.010750834127592479), (1876, 0.01070856788806674), (1138, 0.010665053445022969), (4656, 0.010654468472267347), (1393, 0.01064685281900424), (1229, 0.010636167730004377), (4731, 0.010630444396884138), (4045, 0.010624578371224639), (1192, 0.010602618301543996), (4624, 0.010583750330590232), (3149, 0.010564222964388983), (1918, 0.010563229401261713), (162, 0.010556516927016098), (930, 0.010525528536802678), (728, 0.010493024736303086), (368, 0.01048399082544127), (4283, 0.010483046952845309), (1191, 0.010459943868153682), (3521, 0.010448606237398041), (716, 0.010426590941337856), (2363, 0.010426484814708157), (1507, 0.010420275431048629), (3516, 0.01041176250752273), (2077, 0.010379421150803892), (3123, 0.010377564876186208), (2879, 0.010375207059927746), (1498, 0.010372714993682235), (4494, 0.010363067856109933), (371, 0.010353211331198237), (1924, 0.01033025164642003), (4557, 0.010325419796212149), (3192, 0.010322014013629895), (107, 0.010319752366681867), (816, 0.010318231566140267), (4601, 0.010315146411007291), (4576, 0.01031384319999518), (1050, 0.01031294611198008), (1078, 0.010312790694498593), (2778, 0.01031019959983818), (910, 0.010310195898194204), (4092, 0.010310140100011534), (38, 0.010304797051504597), (1472, 0.010289930939918854), (4038, 0.010274927732381246), (3797, 0.010273735887390945), (1865, 0.010272414708945556), (2874, 0.010264726142243826), (4046, 0.010259332659086837), (3514, 0.01025607841467829), (4089, 0.010253861048442304), (3344, 0.010249831636277983), (3108, 0.010244758929110299), (808, 0.010243424176811265), (1429, 0.01023985179708127), (4757, 0.010236761448636571), (1544, 0.01023659518663317), (1484, 0.010231535433720837), (2477, 0.010221632572454457), (1510, 0.01019431767592857), (1005, 0.01019085223090203), (4118, 0.010183608894740138), (4593, 0.010177156177949065), (991, 0.01017713220806636), (606, 0.010170021422275244), (3780, 0.010169913877275238), (1861, 0.010167680649920526), (3771, 0.01016413572008699), (1255, 0.010161391304999847), (2061, 0.010152369804650955), (1260, 0.010148207425909163), (743, 0.010141069047308365), (367, 0.010138520789391559), (385, 0.010136207274078423), (345, 0.01012387154234767), (1344, 0.010118198016922257), (688, 0.010114921269171951), (1866, 0.010112591720663887), (2428, 0.010104578343203205), (869, 0.01010317626596133), (3453, 0.010100110229803918), (461, 0.010088845267801523), (4233, 0.010086293439703704), (494, 0.010085374869603468), (3196, 0.010079441310009011), (255, 0.010076283623722789), (217, 0.010073913156225186), (4094, 0.010070004706457003), (732, 0.010064190979789212), (2833, 0.010053219024751718), (1140, 0.01004990856581185), (660, 0.010048089163475694), (727, 0.010038369400351226), (2304, 0.010026590230884943), (2191, 0.010025594108684921), (2580, 0.0100086835911965), (4284, 0.010005996740737067), (2104, 0.01000231249858406), (580, 0.009977321726688679), (3464, 0.00996191860737361), (2089, 0.00995472875910874), (4431, 0.0099507171906749), (222, 0.009946813646465307), (4412, 0.009942722767601398), (696, 0.009939463221742193), (86, 0.009935719272439228), (833, 0.009933212145714033), (350, 0.009932612427557613), (2635, 0.009929230077562143), (4289, 0.009925381094345567), (880, 0.009922590149477623), (2988, 0.009916978875683578), (50, 0.009908565535909086), (2647, 0.009899031289961814), (4163, 0.009889745047610745), (832, 0.009886416873154245), (3556, 0.009878170265800576), (3692, 0.009866647446413017), (981, 0.009851605187314061), (3259, 0.009842732411273886), (750, 0.009836304565616242), (4013, 0.00983240695132057), (180, 0.009821745856296495), (3586, 0.009807698203705558), (3125, 0.009800537897199792), (4105, 0.009798331359577734), (2088, 0.009796971142571186), (1705, 0.009791631399264875), (2897, 0.009788423526104161), (1225, 0.009788070038934683), (1735, 0.009776241553847338), (509, 0.009760521653948574), (1779, 0.009758699367780847), (493, 0.009757345150248958), (1220, 0.009756628128221171), (1738, 0.009738962232341716), (143, 0.00973829535731891), (42, 0.009734343902071051), (238, 0.00973120891449111), (3618, 0.00972155913313626), (4677, 0.009718756468809693), (1537, 0.00968327033397371), (1179, 0.00968284264694511), (1608, 0.009681481385198209), (1555, 0.009679484229300848), (2598, 0.009678301800022725), (1816, 0.009650354555675988), (1536, 0.009649922614050932), (2803, 0.009648158666029213), (1811, 0.009643151109111084), (470, 0.009631260989345983), (2374, 0.009628920827350545), (3435, 0.009623502245186004), (3680, 0.00962311496123429), (2045, 0.009617393563181328), (1330, 0.009611925559862431), (2881, 0.009611263680108601), (1375, 0.009610921916723764), (868, 0.009607350111135244), (474, 0.009595905594482408), (422, 0.0095937213782974), (2443, 0.009590715285910633), (122, 0.009577916245105239), (1864, 0.009568856115372393), (3499, 0.009567799716770506), (1188, 0.009566702044239211), (1504, 0.009556100261862994), (4486, 0.009552956742547651), (1400, 0.009549678005642328), (139, 0.00954746696063899), (3153, 0.00954266307208302), (3032, 0.009542520883006335), (10, 0.009540767661354444), (804, 0.00953809985915928), (3571, 0.00953788044001699), (356, 0.00952247077576207), (0, 0.009511944867470848), (1643, 0.009505853604795871), (3233, 0.009505844667009818), (2825, 0.009503564724443598), (3623, 0.009501530881113027), (2714, 0.009486284674214973), (1174, 0.009480151874494122), (664, 0.00947680842254368), (1076, 0.009472165522301401), (980, 0.009472123056061385), (3653, 0.009470286808053216), (3508, 0.009464328298029623), (1931, 0.009463746324592523), (4470, 0.009463437641161341), (2069, 0.009462536723566317), (34, 0.009460578978622484), (40, 0.009457336301461072), (2091, 0.009454526457337332), (4629, 0.00945421629397291), (1902, 0.009453815689739561), (3666, 0.009453050366787067), (266, 0.009450489016126013), (2444, 0.009449591271523772), (1231, 0.009448198645554991), (1760, 0.009444051918984883), (908, 0.00944380677334461), (1001, 0.009438413672428923), (3436, 0.009436644955633186), (3460, 0.009429813128788544), (1986, 0.00941693067323434), (3624, 0.00941554410834645), (2606, 0.00941423637157733), (1413, 0.009406036009154586), (1116, 0.00939878881065501), (2724, 0.009397873503819985), (1223, 0.009383514603570467), (1585, 0.009381173934442755), (4299, 0.009380591174282252), (769, 0.00937560614013342), (936, 0.009370288708043179), (3531, 0.009360944089550976), (1282, 0.009357737988645674), (744, 0.009356308497733515), (1897, 0.00934872606230441), (4432, 0.009341282813341224), (369, 0.009338060774433807), (642, 0.009335138356409551), (3661, 0.00933323497055316), (31, 0.009332936526710515), (1433, 0.009329566411510181), (224, 0.009328002202421028), (4715, 0.009312162030243471), (81, 0.009297337411677912), (4522, 0.009295968907596989), (208, 0.009290996458795692), (3487, 0.00928768041835879), (4255, 0.009275633607594648), (923, 0.009274064189630357), (3498, 0.009268283918560417), (636, 0.009267258150324708), (3696, 0.00924460014708095), (1960, 0.009238611800938098), (719, 0.009237691332480716), (433, 0.009235959384348156), (3474, 0.009229905766867396), (1847, 0.00922100994263605), (4133, 0.009210877492489984), (1987, 0.009202606029964608), (3899, 0.009196122149354136), (3705, 0.009195432276876163), (4282, 0.009191219241864647), (1674, 0.0091834852435203), (4579, 0.009179728648189094), (4093, 0.009177766786350348), (2632, 0.009172984879698561), (2121, 0.009167150233571427), (1461, 0.009166992958085618), (1981, 0.009155716956486148), (1044, 0.009144397061537517), (4176, 0.009125609690114167), (2899, 0.009106877052398021), (2008, 0.009105636484507292), (4523, 0.009099802544892203), (3704, 0.009095724365900412), (3122, 0.009093589407023395), (2031, 0.009087184843193425), (4098, 0.009085016750782333), (1128, 0.009073537145358435), (613, 0.00906475066830656), (2994, 0.009062217787857128), (4517, 0.00905659149726646), (1945, 0.009046445805412763), (3112, 0.009044902661369042), (3658, 0.009009371743237961), (1356, 0.00900673924172878), (800, 0.008974595076247658), (745, 0.008966399090615413), (2962, 0.008957400381840263), (539, 0.008952642151830443), (1653, 0.008949001878660604), (4581, 0.008942742230885458), (1964, 0.00893630610333367), (1388, 0.008929590085788627), (1041, 0.008921752348236018), (571, 0.0089085136574572), (311, 0.008898278518021177), (1421, 0.008895692970455595), (482, 0.008868598504180735), (3433, 0.008855228672422564), (4430, 0.008846621976898231), (3349, 0.008844730330566538), (3342, 0.008840622207769704), (329, 0.008835626663352168), (1567, 0.00880483877357871), (1819, 0.008804824240968092), (497, 0.00879245073953219), (1845, 0.008789393470407005), (953, 0.008788528393465356), (4154, 0.008787303463142198), (4249, 0.008773125946056224), (4390, 0.00876677682761521), (3331, 0.008755939638917232), (4309, 0.008754815243291199), (1083, 0.00874364764904859), (503, 0.008737112912977662), (3974, 0.008736332301307673), (4670, 0.008725260401612957), (1123, 0.00870078935857901), (3945, 0.008686777741707357), (562, 0.008684260541745942), (1462, 0.008677015786727913), (733, 0.008675279734589203), (1797, 0.008647627822419126), (3570, 0.008646100444959507), (1721, 0.00864443577369795), (4591, 0.008643742752849234), (406, 0.008633973611708765), (1214, 0.008627977525532737), (3501, 0.008619305005792284), (608, 0.008605092052142434), (3195, 0.00857143015329116), (200, 0.008565275655543084), (900, 0.008562123119477707), (3245, 0.008555099970535215), (3842, 0.008546952970789303), (2344, 0.00854636956981369), (742, 0.008542591061543264), (2348, 0.008519700421468032), (617, 0.008500777875798426), (44, 0.00850000075302405), (4733, 0.008496148074155621), (2424, 0.008474460426632982), (3841, 0.008461006495912995), (3734, 0.008448167914357041), (2496, 0.008446221248206338), (3876, 0.0084321378596414), (3727, 0.00842720382557109), (116, 0.008416017370151335), (1448, 0.008413455362167838), (3957, 0.008372883316876375), (1177, 0.008367368612281318), (3185, 0.008344239444394498), (3910, 0.008338953601066122), (1213, 0.00830986848330078), (4344, 0.008302450137748352), (644, 0.008290730011645157), (2184, 0.008270461651418466), (963, 0.008267994747556557), (1519, 0.008266974535860302), (863, 0.008217993613952937), (2917, 0.008213892748750758), (1414, 0.008196400146081471), (442, 0.008182875010070088), (861, 0.00817552738032224), (271, 0.008158008571605604), (4661, 0.008132607028737067), (1215, 0.008126033784774639), (3452, 0.008122482786106746), (3035, 0.008111938031872958), (968, 0.008110242037311206), (1934, 0.008105919898188024), (862, 0.008072874704700708), (1194, 0.008036098721910242), (4261, 0.007974988583387098), (1627, 0.00797466165686205), (1202, 0.007917138612751536), (2324, 0.007805343999482013), (3975, 0.007775816068922748), (1065, 0.0077739945955786), (996, 0.007762804817746151), (243, 0.007756489449085862), (1892, 0.0077028378335870324), (690, 0.007664391191841963), (687, 0.007621675563489797), (2355, 0.007611845652313448), (4674, 0.007598605641924564), (1009, 0.0075969754663924634), (3339, 0.00754988263224111), (831, 0.00753186115958674), (4134, 0.0074927444802257645), (3844, 0.007475260316941834), (3168, 0.007469921344137673), (4666, 0.007446905231931559), (4691, 0.007438745929953057), (3942, 0.007397476141013205), (3588, 0.007396686147257387), (2689, 0.0073714078445392735), (3022, 0.00736098171580422), (2388, 0.00735276737050858), (16, 0.007337751248493263), (3448, 0.007329963153370616), (4646, 0.007328515760112439), (1799, 0.007323589832447584), (4047, 0.007317798066414414), (3502, 0.007316868725592462), (4653, 0.007294540500307763), (1939, 0.007294406759075348), (3721, 0.007286040558377523), (512, 0.007247772716806648), (4518, 0.007220292496720634), (4524, 0.007196650446561064), (3065, 0.007182002902445025), (4307, 0.007172061411492177), (2273, 0.0071706193030927744), (3471, 0.007162454609681649), (4537, 0.00715505900534939), (4515, 0.007143476831770965), (3715, 0.007095663021331744), (2468, 0.0070714758017460045), (513, 0.007059865545178594), (4219, 0.007057459421873405), (4281, 0.007049836805649901), (844, 0.00703433758815933), (296, 0.007008301347015772), (1940, 0.006933053403593893), (1829, 0.006931606845172555), (4464, 0.0069254917763665064), (3604, 0.006920962047768112), (2947, 0.006915893439886563), (793, 0.006910131489707186), (4208, 0.006872795715803275), (425, 0.00686589389200333), (3117, 0.006857398589144396), (4119, 0.00685654404190565), (3049, 0.00682862958906653), (3995, 0.0068089690939207165), (523, 0.006794125945639744), (4076, 0.006786511700513231), (3143, 0.006780235697912442), (550, 0.006768667380740828), (4039, 0.006764892128040004), (1443, 0.006758045693768725), (802, 0.006750628811303803), (2328, 0.006749286514777354), (891, 0.0067467130377722945), (2809, 0.006738226970966086), (3440, 0.006731627752157736), (2181, 0.006731480888469741), (320, 0.006701236408782854), (1962, 0.006701040172995212), (3391, 0.006691183049083264), (2440, 0.006689680168663404), (4103, 0.006682682231753399), (2790, 0.006671865438048443), (4331, 0.006668722025635584), (738, 0.006660411714929253), (1588, 0.006660115913879874), (2094, 0.006658377949231247), (1925, 0.006656149110265936), (39, 0.006655484656287038), (4514, 0.006654588181250089), (666, 0.006649340583121886), (2208, 0.006648043000579713), (3744, 0.006643820559245781), (4050, 0.0066406364857939625), (1381, 0.006638488573340901), (4240, 0.006637292305070469), (4698, 0.006636884113503681), (1788, 0.0066337674719330626), (4630, 0.0066331157133451765), (3802, 0.006630612257643846), (3810, 0.00661823600271998), (4211, 0.006616992560799357), (3124, 0.006614563374290486), (4697, 0.006607129432753476), (3240, 0.006601779279368446), (3774, 0.006595713793083566), (2044, 0.006594620163505516), (2421, 0.006592173179219839), (1901, 0.0065873294414739774), (118, 0.006586235537565638), (6, 0.006581358190743837), (3387, 0.0065804180536141775), (1458, 0.006578957710132293), (1435, 0.006576065858882122), (855, 0.006564250518500066), (1279, 0.00656308441351743), (69, 0.006562072438802383), (2711, 0.006552114235971723), (426, 0.006547551175585042), (1941, 0.006546017406633779), (4337, 0.006543942175356393), (380, 0.0065411933368417835), (3158, 0.006517908076334704), (635, 0.006511407722139827), (2130, 0.006511085326782343), (2567, 0.006495209290051731), (1531, 0.006488502132698402), (128, 0.006482589128240074), (4090, 0.00648155283052416), (1332, 0.006480465412816423), (2252, 0.006478257262202288), (1873, 0.006465999479637694), (2683, 0.006459575189876625), (2245, 0.006456384859929796), (460, 0.006456359381889111), (537, 0.006455414451930201), (2626, 0.006452059241004995), (4595, 0.0064502727174076645), (4091, 0.006447651268568431), (4285, 0.006446699732320378), (3180, 0.006446635791266683), (4639, 0.006444422989519955), (3163, 0.006441859138856618), (1469, 0.00643838421345987), (1614, 0.006437791585868784), (3787, 0.006433658158773094), (4642, 0.006431887028304081), (4462, 0.006431321557534579), (1724, 0.00642791682604941), (3997, 0.0064269100187129054), (1952, 0.0064262462183272305), (1812, 0.0064256773801019155), (2074, 0.006425200893043922), (3938, 0.006422129218430783), (1707, 0.006419570763356636), (1099, 0.006413028075531706), (102, 0.006411804884701731), (992, 0.006409769817006676), (3367, 0.0064055752665952755), (1859, 0.006398521527886583), (810, 0.006398419445843809), (3769, 0.006395745637637621), (1391, 0.00639454042707952), (3815, 0.006393835872151033), (233, 0.0063897001725964605), (3213, 0.006388537633667908), (3710, 0.006381811142739197), (4377, 0.006377913250456712), (1426, 0.006374604001409593), (3555, 0.006372386692726674), (4120, 0.0063696573230144545), (1154, 0.006368673040340261), (1167, 0.006355695750266565), (3584, 0.006354784120605231), (1723, 0.006350838613040664), (420, 0.0063465733539905134), (1380, 0.006346543592014316), (125, 0.006345627752278577), (685, 0.006343028755395335), (4678, 0.006342068101530677), (1150, 0.0063420356935053246), (1396, 0.006335031783989515), (3131, 0.006327754644579527), (4527, 0.0063259598448617135), (3970, 0.006316556099208315), (3438, 0.006316027522613815), (1280, 0.006311617914296485), (3191, 0.0063110720477644435), (2136, 0.0063088300041325195), (341, 0.006306979691429715), (1659, 0.006301894060499218), (849, 0.0063002618998720256), (4162, 0.006297338373197439), (1662, 0.006294515540815222), (1302, 0.0062925831916828745), (514, 0.006290492885805257), (3897, 0.0062885414900425455), (2084, 0.006283175378034401), (3179, 0.006282116426722386), (3932, 0.006277916386541639), (2847, 0.006276389438358631), (2015, 0.006275784920331046), (1407, 0.006274810376646842), (633, 0.006271857446711623), (95, 0.006260021097624452), (305, 0.006255690291807511), (4158, 0.006255446081273578), (1881, 0.0062535003152813405), (1575, 0.006248281901787883), (315, 0.006248150871245178), (1554, 0.0062477143446505404), (4746, 0.006240080945278206), (2680, 0.006238896725638177), (932, 0.006238349696698338), (4392, 0.006235841481087462), (1701, 0.006235711015968302), (1272, 0.0062279548437692515), (1420, 0.006225897093481214), (3005, 0.006224071228002547), (1480, 0.00622257812305712), (1452, 0.006221476424773026), (3468, 0.006219314446817626), (2819, 0.006217935644197315), (1791, 0.006215901104315188), (2576, 0.006208795012155059), (303, 0.006203683835259767), (1996, 0.006201263978824019), (540, 0.006200388111549067), (3446, 0.006198613625260487), (313, 0.006198500607771268), (332, 0.006196475084929437), (1127, 0.00619279706563887), (1431, 0.006185823834547724), (1562, 0.00618547661362371), (1998, 0.006184230172852038), (2682, 0.006183763699967842), (919, 0.006181847137769016), (3443, 0.006179882304386007), (2700, 0.006178614541446397), (1840, 0.006177854501108838), (4534, 0.006175210043112133), (239, 0.006172401208151814), (3398, 0.006161590185944704), (4466, 0.006158497563300412), (3907, 0.006155692231030697), (3451, 0.006146469744698137), (27, 0.006146453727564919), (3886, 0.006145123637475186), (2959, 0.006142822879568358), (30, 0.006142200484101856), (1158, 0.006137767205305893), (389, 0.00613772937952944), (765, 0.006135414383249431), (1910, 0.006133408687605571), (619, 0.006130332350001085), (354, 0.006126011137048359), (4312, 0.006124028138465561), (2787, 0.006122100950613858), (3747, 0.00612160212387574), (4043, 0.00611772708432566), (634, 0.006111608146713248), (3011, 0.006103022985184441), (4665, 0.0061001658472120135), (1590, 0.006094405663829387), (2480, 0.006094181375163848), (1975, 0.006092781210165264), (4251, 0.006092698138534822), (2733, 0.006092695404589706), (2330, 0.006091550647271333), (1930, 0.006090170829854203), (347, 0.006090053255546892), (1428, 0.006088556383291249), (3133, 0.006087758857061437), (4621, 0.006087267657826896), (811, 0.006079587513451187), (4384, 0.0060784443448792), (4587, 0.00607426923989708), (4365, 0.006074245893761895), (375, 0.00607377705772677), (1846, 0.0060735668389804345), (310, 0.006071797810700211), (2618, 0.006063469964250693), (2283, 0.006059414383352465), (2078, 0.0060588549131758065), (1129, 0.006057787953169035), (2231, 0.006055904335386922), (4376, 0.006049854089621588), (3833, 0.00604229657609267), (2314, 0.006041241567033623), (4360, 0.0060373417772381045), (803, 0.006033938343535903), (1502, 0.006029609542292849), (3404, 0.006028828005445951), (809, 0.006023025593679234), (1551, 0.006018942568077552), (4275, 0.006015711870019781), (1384, 0.00601454432684015), (1566, 0.0060134508134868595), (2197, 0.0060096075644212685), (327, 0.006008490878514237), (1003, 0.006006521465123375), (1082, 0.006002189694476725), (595, 0.005999431354561573), (220, 0.005999057679746018), (2506, 0.005998485123804642), (322, 0.0059898898667458), (3263, 0.005985541488951545), (1761, 0.005985013795702292), (1120, 0.005981431620826853), (3161, 0.00597912766963239), (3129, 0.005975089674368453), (4708, 0.005974982320660921), (3782, 0.005973217671577612), (2062, 0.005972284346793938), (1568, 0.005971186570479272), (4552, 0.005968683738368812), (1632, 0.0059677658945234205), (1573, 0.005958866139760492), (3908, 0.005958824023337068), (2232, 0.005954647010558394), (4248, 0.005954523626915057), (902, 0.005952957375074852), (306, 0.005946680644655514), (2442, 0.005944849152814828), (1266, 0.005939183173538924), (1857, 0.0059299236506666), (2501, 0.00592958035018077), (2599, 0.005928086617433404), (2960, 0.005927701762410008), (762, 0.005927088794294974), (2246, 0.005926348210826498), (152, 0.005921532348221073), (1661, 0.005915581458872139), (1281, 0.005913951683563748), (723, 0.0059138773812478585), (3136, 0.00590857163575127), (3823, 0.005905867925408068), (927, 0.005902895984992073), (1270, 0.005896529003216499), (3134, 0.005892467679707061), (1576, 0.005890626419746225), (1262, 0.005883699057329519), (1732, 0.005878489364848637), (2541, 0.005877615975738328), (3126, 0.005874446733193013), (1587, 0.005870758445345077), (3583, 0.00587026692241597), (1630, 0.0058670531418782475), (2278, 0.005864322012966668), (3520, 0.0058610874514793835), (467, 0.005852544067423212), (3456, 0.005851745853090286), (3602, 0.0058494684411132545), (877, 0.00584870737540669), (1817, 0.005847663861804124), (1207, 0.005841355500618224), (756, 0.005836607896759459), (997, 0.005833190681626521), (1933, 0.005832058160208666), (1347, 0.005821834073023623), (1927, 0.005819240520611399), (2992, 0.005810319529712976), (1012, 0.005806337729691657), (468, 0.00579982856274366), (160, 0.0057981153164179304), (261, 0.005795025333180668), (135, 0.005786503116074805), (625, 0.005785910889987775), (451, 0.005784940517169734), (640, 0.005784089908411716), (323, 0.005782415171900629), (1622, 0.005777619351905055), (1953, 0.005775892649254481), (189, 0.005769219174507551), (1449, 0.005768357266509283), (397, 0.00576614396664765), (3513, 0.005763092581210941), (1904, 0.005757703840713966), (1696, 0.005755442115215127), (2759, 0.0057526980747970215), (2622, 0.005744250736896693), (1197, 0.005740466736197434), (1784, 0.005739891362469535), (4264, 0.00573466816425574), (77, 0.00573357893724606), (1631, 0.005723191497571551), (4106, 0.0057164824901610465), (1852, 0.00571443815249277), (4383, 0.00571421128529365), (4586, 0.0057094931383417135), (2929, 0.00570421306339042), (4151, 0.005703975950007434), (3853, 0.005700342703421747), (1019, 0.005699647407184583), (80, 0.005697241583297226), (3881, 0.005696131163300315), (3824, 0.00569603313648231), (3432, 0.005695462063943271), (1772, 0.005695111152525948), (321, 0.005694109482437364), (1633, 0.005688819352874415), (4582, 0.00568706149456139), (3426, 0.00568552141031497), (4689, 0.005683487258142134), (4310, 0.00567593435120588), (511, 0.0056672076429829235), (288, 0.005661134983185246), (1838, 0.005659821621565049), (2984, 0.0056470377702136434), (3534, 0.0056447316345548905), (3989, 0.0056437832482575355), (1993, 0.005635979406879348), (4366, 0.00563158136201303), (2820, 0.005630245188480533), (234, 0.005625762889700637), (1773, 0.005625234153002655), (661, 0.005624681122443018), (639, 0.005623872215992585), (46, 0.005622895384776444), (295, 0.005620894757145294), (4339, 0.005616703078727388), (93, 0.005605209350149524), (3664, 0.005601677531631268), (4290, 0.005588781474994529), (4071, 0.0055883580789509125), (974, 0.005579533540428107), (273, 0.005571996469923334), (4274, 0.0055689137941716), (90, 0.005567862030443029), (187, 0.005565607288877511), (893, 0.005561492775534576), (3576, 0.0055568315284807894), (1210, 0.005555672857888731), (3361, 0.00554382582356919), (3215, 0.005540695271924911), (4695, 0.005536539857807456), (1451, 0.005534069960036109), (1635, 0.00553276918010776), (4585, 0.005524155652798871), (2991, 0.005520760180904375), (3495, 0.005519267036286014), (1211, 0.005515038328762483), (1914, 0.005514476168297777), (191, 0.0055082000735485305), (3723, 0.005504288307228886), (4328, 0.005502467595900708), (3279, 0.005495621016188104), (1546, 0.005494608273137077), (76, 0.005493207105776911), (4322, 0.005492179901267149), (4441, 0.005482335993028282), (294, 0.005473890277351363), (559, 0.005471814509348609), (2139, 0.005464428387911738), (469, 0.005463627148335151), (775, 0.005461855562265736), (94, 0.005454609652250435), (1493, 0.005445560427282229), (3338, 0.005442147534781522), (3135, 0.005436660471336339), (4468, 0.005434328066465176), (1309, 0.005433725901848424), (3405, 0.005430892332527212), (1623, 0.005418568853650955), (1900, 0.005415323540129274), (2789, 0.005414715523771442), (4438, 0.005408806189022956), (3484, 0.005406751356484632), (1559, 0.005404171706428343), (438, 0.005399554327569195), (316, 0.005375332920518834), (2432, 0.005374268154055588), (3788, 0.005371720804215203), (3100, 0.005367682473083246), (898, 0.00536700143334493), (779, 0.005350441936535232), (260, 0.005346082290116895), (4607, 0.005345830544975158), (4044, 0.005325685487323947), (4513, 0.005324376045370637), (290, 0.005316332309167405), (4292, 0.005310691186809787), (3247, 0.005304167134153519), (2736, 0.0053005638684330255), (3619, 0.005299627098817792), (970, 0.005298358635705097), (4193, 0.005294302031469191), (3966, 0.0052703469081124546), (3160, 0.00525551651100026), (314, 0.0052545327243324474), (2299, 0.005220557930767615), (979, 0.005188037814719275), (2801, 0.0051838971870180285), (78, 0.005153512662154916), (1153, 0.005100771822889244), (2484, 0.005066093175755373), (3776, 0.005056929699308584), (2573, 0.00505022404306025), (3079, 0.005036845459954086), (1699, 0.005030693649796879), (4426, 0.004972552929305674), (1395, 0.004934364624066632), (3537, 0.0049192593704091405), (4407, 0.004915207887825286), (2678, 0.004909611727591748), (3806, 0.004892208401732191), (1753, 0.0048771384266727055), (4082, 0.0048494750659084694), (289, 0.0048181579661985), (4571, 0.004812070628929117), (3506, 0.004800147728228797), (3178, 0.004785815162138846), (1164, 0.004757171738826952), (3577, 0.004750393958134278), (3140, 0.004644906082585973), (3512, 0.0046432276103260785), (2757, 0.004634073272757536), (4032, 0.004618347035986125), (3616, 0.004595787031221849), (2326, 0.004592673647450545), (4107, 0.004567131318490226), (3944, 0.004562355715033036), (4555, 0.004557954128208491), (2998, 0.00454001128450612), (2838, 0.004532531586587929), (3561, 0.004518437336581584), (2636, 0.004504012546396575), (3925, 0.0045039567421153014), (2550, 0.004451684774283484), (3302, 0.004429843457851241), (2834, 0.004429634719940098), (3218, 0.0044228651756833505), (2560, 0.004400359347863247), (2488, 0.00439894901441163), (3166, 0.0043953545791658825), (2529, 0.0043901543564044375), (3219, 0.004380126368155431), (4267, 0.004368408419570242), (3282, 0.0043630649309230034), (2720, 0.004362462035289326), (2490, 0.00434577479666313), (3878, 0.004345280710922525), (2857, 0.004343982477718912), (2937, 0.004338538111886225), (2269, 0.0043362839326567025), (4705, 0.004329959273145887), (3523, 0.0043241294230213926), (4263, 0.004323928923133531), (3051, 0.004318605592950528), (3159, 0.0043074295233697405), (2764, 0.004307198759434588), (2379, 0.004296200525469831), (2858, 0.004292490158315494), (2137, 0.0042915083052863425), (3139, 0.0042861043985742645), (4023, 0.004285013651827459), (3357, 0.004282659160386141), (3116, 0.004276812268919814), (2266, 0.004272131536888389), (2640, 0.004272051602309769), (2744, 0.004264774821039661), (4062, 0.00426335307136045), (3364, 0.004257782767377286), (3234, 0.004257766125703575), (3672, 0.004255903449889135), (2722, 0.004250598574148481), (2189, 0.004250518405478555), (2320, 0.00424757660458037), (3763, 0.0042393468424033135), (4202, 0.004234700929164394), (3101, 0.004233566772037861), (3040, 0.0042281405089820605), (2957, 0.0042279240854484835), (2673, 0.004225946375890085), (2989, 0.004219878054566461), (3206, 0.004217069718318898), (2251, 0.004208567646989983), (2349, 0.004190593033808421), (4589, 0.0041896623915649266), (1145, 0.004186371275066937), (2407, 0.00418631992060342), (3990, 0.004175431098722717), (2492, 0.004168714317517374), (2889, 0.004168305162577734), (2448, 0.004160508883449337), (2619, 0.004144471089679868), (2585, 0.00414068458908849), (4704, 0.00413734616700116), (3052, 0.004135224770473188), (735, 0.004135134504076692), (3754, 0.0041339748954974005), (3429, 0.004126354226318242), (3220, 0.0041249541472688205), (2569, 0.004119336964745492), (2404, 0.0041150478195533), (3055, 0.004110971594176842), (2537, 0.004109025541521873), (3030, 0.00410270670075394), (2870, 0.004097162341665041), (2416, 0.0040966385877791766), (4017, 0.004094845481293814), (2882, 0.004094447527283781), (2775, 0.004093049385389496), (3042, 0.004089061605792899), (2892, 0.004086881381931903), (2883, 0.004085831108735636), (4286, 0.004083740815429561), (1168, 0.004080508798519662), (2740, 0.004072513418571187), (3291, 0.004064888663250237), (1208, 0.004064742025485197), (2731, 0.00406398931089954), (4749, 0.004063325631339652), (3363, 0.004061314245713824), (4222, 0.004059177417750685), (4606, 0.004056828859271153), (2884, 0.004056360682070862), (4142, 0.004055446110458758), (4529, 0.004054266084977443), (2434, 0.004052976658784771), (2310, 0.004048828837336242), (4221, 0.0040478318987181), (2923, 0.00404558777192982), (4584, 0.00404448429621495), (3479, 0.004038074212202205), (4611, 0.004036336180195509), (3939, 0.004033532914697423), (2410, 0.004027079807763075), (1023, 0.004018357634996576), (2494, 0.004014858535687303), (2861, 0.004013952875765499), (4650, 0.004012207678086635), (4172, 0.004000811146966838), (3804, 0.0039941631508810995), (4692, 0.003991071260183219), (791, 0.003989472740326068), (4484, 0.003987818695608763), (2845, 0.003984797307535829), (3308, 0.003983686621557491), (4113, 0.003983100010771075), (3414, 0.003981375321386807), (2559, 0.0039800482283673146), (4418, 0.00397632311009955), (4101, 0.003976124512222653), (2832, 0.003973957718928649), (2570, 0.0039655846187517324), (2601, 0.003959746580563551), (2060, 0.003957593820516971), (2628, 0.003957373083487426), (3639, 0.003953777977741035), (2436, 0.0039504027788062465), (4280, 0.003950081542858075), (3157, 0.003948898256681555), (2769, 0.003947825114598724), (2392, 0.003945952004879785), (3762, 0.003945432876710964), (4696, 0.003944584411502685), (3292, 0.003942024355686266), (2624, 0.003937858313734171), (2495, 0.00393500389980026), (3283, 0.003933723667065824), (4051, 0.003931438548800412), (627, 0.003930723054297643), (4732, 0.003927950076312754), (2199, 0.003927850111080641), (4019, 0.003925847372668277), (2425, 0.00392474126419585), (2738, 0.003921379840450732), (3892, 0.003918463511031035), (3739, 0.003918447192272571), (4423, 0.003916786713088744), (4169, 0.003912567247438344), (1518, 0.003911476179733671), (2643, 0.0039112848420530255), (612, 0.0039060139888630573), (1594, 0.003904691467714731), (3822, 0.003903527769796572), (1919, 0.0038993753370534815), (3322, 0.0038977613628145896), (1666, 0.003895284795836808), (2257, 0.003895270593303236), (3262, 0.003895203055748394), (2111, 0.00389374731371486), (2385, 0.003890071091170191), (2236, 0.0038884480162597363), (2901, 0.003887010276773914), (3951, 0.0038836780762157817), (4230, 0.0038804805798758582), (3903, 0.003880427186445667), (1088, 0.003878019169309061), (2350, 0.003872932525709505), (2591, 0.003872304297770498), (193, 0.003871314341760502), (3425, 0.0038712969611887573), (2286, 0.003866603965442259), (985, 0.003863034156530117), (4321, 0.003857808665074727), (4400, 0.0038574891030103762), (3299, 0.003856809594724032), (3477, 0.003849993119633535), (2696, 0.0038493031103060044), (2400, 0.0038466122874595025), (889, 0.0038423597906233945), (614, 0.0038409933091159824), (2561, 0.0038401144392876886), (3848, 0.003836995705349774), (246, 0.0038364566611930975), (3962, 0.003833141451912153), (3866, 0.00383184306253099), (4102, 0.0038297128435575596), (1887, 0.0038295902953281147), (3611, 0.003828807132379637), (4262, 0.00382801713625029), (1533, 0.0038264099851785718), (1169, 0.0038255373690497456), (2226, 0.003823707367427998), (3651, 0.0038232832938005948), (4333, 0.0038232051983570787), (4446, 0.003817806010094039), (2340, 0.0038162684363445003), (4054, 0.0038160812466296237), (4643, 0.0038147489902919), (2423, 0.0038142858824379393), (3015, 0.003811714531854295), (3354, 0.0038109926668303752), (1456, 0.003809769152084369), (2166, 0.0038095449481219423), (1637, 0.003806172185569625), (3857, 0.0038036029298269096), (4369, 0.0038000155404320367), (731, 0.0037977591669807907), (4016, 0.0037976964777035166), (4368, 0.0037967287329092572), (456, 0.003795914389101419), (499, 0.003793883545988072), (1929, 0.003793272647719732), (448, 0.0037928909529977633), (3239, 0.0037898942074004456), (526, 0.0037883321648678357), (3128, 0.0037871107983863026), (3241, 0.003783161553572365), (2592, 0.0037800081535502477), (2633, 0.003776872854793839), (1251, 0.0037766901957589517), (1711, 0.0037762162746832035), (2878, 0.003775019373109332), (3687, 0.003774431957176207), (4544, 0.0037732851272552718), (4024, 0.003770575596342277), (434, 0.0037699817025237596), (3314, 0.0037685413620623972), (813, 0.0037678910997036574), (2306, 0.0037664369147169274), (235, 0.003761987514105382), (1243, 0.003761705284115073), (3013, 0.0037590014033840203), (3884, 0.0037561104253079486), (847, 0.0037535733432167333), (949, 0.003750577707182976), (3036, 0.003745235752068747), (2293, 0.0037428100876905185), (1121, 0.003742317312520957), (2438, 0.003740322299460086), (3778, 0.0037398984180006256), (1284, 0.0037388342380371815), (3922, 0.0037386409168492824), (2557, 0.0037380355445032027), (2904, 0.0037364462505210007), (4306, 0.0037364274794824425), (3449, 0.0037326125764686486), (3613, 0.0037322299352388157), (4521, 0.003731701373555924), (1479, 0.0037312183919635585), (2531, 0.003731162393160576), (4633, 0.003731161818762678), (1110, 0.0037305416512453523), (3832, 0.0037304435097074776), (1450, 0.0037301215562107848), (3772, 0.0037255232286186614), (3906, 0.0037247962329243016), (3813, 0.0037214846459750254), (1043, 0.0037208370393508584), (4002, 0.0037188203476166515), (1254, 0.0037172131059751523), (1782, 0.003716391094782138), (623, 0.003716194881690581), (3353, 0.003715274958035021), (3074, 0.00371497740575929), (1848, 0.0037143701578773794), (3264, 0.003714226904282634), (3230, 0.0037121592472984938), (4572, 0.00371194983320979), (1890, 0.0037101004641698345), (3183, 0.0037075939662520887), (3524, 0.003706827875426614), (3269, 0.0037059589182173273), (1109, 0.0037012530820887237), (490, 0.003698388486675971), (3271, 0.0036976832873251), (278, 0.0036960488222327493), (1733, 0.0036955606444845626), (3874, 0.0036946313727137174), (4723, 0.0036940091234222657), (3678, 0.0036931205124755184), (3677, 0.0036920474841938967), (326, 0.003690196265681048), (4574, 0.0036897968607267147), (3027, 0.0036885190552633598), (3186, 0.0036880583556952755), (2797, 0.003686729032875128), (3242, 0.0036858542252872356), (1805, 0.003685338517759886), (4259, 0.0036846047005733387), (3003, 0.003683913176556226), (4130, 0.003682814164626928), (3620, 0.003682522327644589), (2830, 0.0036810486831148287), (3544, 0.003680956880114278), (2966, 0.0036802172019706966), (3503, 0.0036794998787187034), (2848, 0.003676985607807071), (2909, 0.0036764456256675017), (1959, 0.003675605756261115), (3601, 0.0036749770484264125), (4605, 0.0036725360434094285), (249, 0.0036722891209776403), (4298, 0.0036701094494805513), (98, 0.003669122395686671), (3031, 0.003668251988725467), (2047, 0.0036665759512502583), (3737, 0.0036630494141901694), (204, 0.0036626679138736986), (2712, 0.0036585252729110875), (121, 0.0036575207882538242), (2454, 0.0036564734139478893), (508, 0.0036549530212966223), (1813, 0.003654724544622142), (2319, 0.0036541663476775885), (4117, 0.0036532776098353505), (2072, 0.0036527704819557263), (2993, 0.0036526215265434733), (1349, 0.003648523986312386), (969, 0.0036484372948288294), (2415, 0.0036470381712935896), (3877, 0.003645128909488706), (402, 0.003644673084840399), (3587, 0.003644359969863752), (1593, 0.0036439588379947826), (3235, 0.0036428619665298378), (2924, 0.003642470500917266), (3257, 0.003641799656128718), (3560, 0.0036411059081342995), (4756, 0.003640956895470698), (3497, 0.0036386184875884737), (2652, 0.003638611735595427), (3358, 0.003638466731944022), (432, 0.003637993101186769), (3020, 0.003637785344959439), (4535, 0.003637687447163524), (4147, 0.003636431715628584), (2568, 0.003635501707201588), (2193, 0.0036341853270391664), (3316, 0.0036302676084307563), (4225, 0.003629010651467179), (3273, 0.0036274512518147373), (2765, 0.0036254962135826956), (3413, 0.0036237661710937087), (3289, 0.0036204832774387567), (3757, 0.0036194097516185405), (1357, 0.003616360132340044), (2895, 0.0036156180968945828), (3565, 0.0036142360895872745), (2391, 0.0036124118177808177), (1286, 0.0036117274750387045), (4458, 0.003611515703100206), (4627, 0.0036074088449368894), (737, 0.003606680350833066), (489, 0.0036052133710524825), (2221, 0.0036045108156693624), (605, 0.0036044304188019532), (850, 0.0036022016847376812), (739, 0.0036022012080834474), (587, 0.0036016373644715692), (1007, 0.003601289326497393), (4401, 0.0036011385926424445), (777, 0.0036006378640080494), (3252, 0.003600239659480431), (2563, 0.0035994936594529276), (4269, 0.003598386422874733), (865, 0.0035975162917375506), (2453, 0.003596742899784543), (2755, 0.0035964677386237293), (1793, 0.0035956557645468856), (283, 0.0035936968683556022), (2552, 0.0035918707177448697), (1655, 0.00359117151538029), (3915, 0.0035908069806030955), (1366, 0.003590399306655429), (2230, 0.00358804829204392), (1175, 0.003587724460688697), (2975, 0.0035863418532930407), (541, 0.003584166893492995), (444, 0.0035823371678163313), (1860, 0.0035798477213064023), (2986, 0.0035796752920382265), (215, 0.003579446156339547), (2642, 0.0035793635467794007), (2911, 0.0035773332288630837), (887, 0.0035772357372689566), (4087, 0.003574331555498942), (1580, 0.003573452433538581), (3198, 0.003572790433893078), (218, 0.003572616913915905), (1916, 0.003570758188818216), (4140, 0.0035700798854249156), (4632, 0.0035695588211942203), (4717, 0.0035686131835133434), (3935, 0.003568137948888662), (388, 0.003566947762638092), (2772, 0.0035664207897676482), (4206, 0.003565973221401942), (2528, 0.0035654020612858857), (2613, 0.003564956772572536), (4489, 0.003564732325561638), (4495, 0.003563873090431538), (1112, 0.003563046658529888), (2393, 0.003562752025972121), (431, 0.003562352503665187), (2853, 0.003561603543665071), (4545, 0.003560460318431821), (3911, 0.003559629566974102), (1100, 0.0035581873898862357), (2650, 0.003557980124183096), (2831, 0.003557621136373887), (3447, 0.0035573523506062994), (4081, 0.003557211487498436), (3689, 0.0035572104397933136), (1416, 0.003556430904020847), (4340, 0.0035562667590192886), (2725, 0.0035540152807337394), (3826, 0.0035532983062938816), (74, 0.0035530654525082225), (959, 0.003552393793799651), (4416, 0.0035521120383221177), (3388, 0.003551605958400675), (4355, 0.0035505862265794914), (4694, 0.0035495803514805383), (1318, 0.003549396275704936), (957, 0.0035488958578565803), (2940, 0.0035487975070978236), (2707, 0.0035485462289938027), (2651, 0.0035479060734844295), (1049, 0.0035474602503054384), (203, 0.003546262128071006), (3765, 0.0035457300538765113), (2190, 0.003545323335066607), (4030, 0.003544794196329913), (857, 0.003544560991756085), (4197, 0.0035440532325260615), (41, 0.0035431985668867975), (3406, 0.003541958675299967), (1828, 0.0035404617848879853), (3081, 0.003540258730108226), (626, 0.003540086511515827), (15, 0.003539563962782384), (1187, 0.003539258616407368), (518, 0.0035388082045674668), (1710, 0.003538408039448942), (3182, 0.0035371592423047117), (1474, 0.0035371569849855385), (3151, 0.0035368959690664403), (3621, 0.0035360335148021016), (2419, 0.0035356694602846402), (3889, 0.0035349494437100586), (4371, 0.0035340408383513424), (1719, 0.0035325904739727924), (4132, 0.0035324758456618775), (2397, 0.003532258194430071), (4145, 0.003531310836394746), (307, 0.003529206850000822), (2595, 0.0035280436778168897), (2418, 0.0035280390425092207), (1503, 0.0035256578501609774), (3458, 0.0035246127889616086), (198, 0.00352442890238216), (1494, 0.0035238491942365187), (2142, 0.0035212982903452933), (3359, 0.0035208262676758723), (4126, 0.0035205060409187923), (1946, 0.0035203336820788574), (3072, 0.003519812648248116), (3654, 0.003519650193917533), (1247, 0.0035196085153228894), (1547, 0.0035177384280961487), (3046, 0.0035171232895922053), (1660, 0.003517107741129544), (2894, 0.00351578055416485), (3412, 0.0035152089137087533), (1382, 0.0035145887885123612), (3564, 0.003514068022090731), (1792, 0.003513137299470884), (2544, 0.00351275181361206), (279, 0.0035115574208969954), (2609, 0.00351148313820887), (3094, 0.0035087067142558514), (1748, 0.003508237759610211), (2565, 0.00350664557118985), (4567, 0.003506599205585792), (2387, 0.003506000867543261), (3307, 0.0035053979608138663), (4020, 0.003505330301845485), (2502, 0.00350474151255884), (1650, 0.0035046198212542994), (3540, 0.003504345761699684), (3336, 0.003503838732181449), (1204, 0.003502814740423508), (1301, 0.0035016166427985595), (749, 0.0035012771386877216), (395, 0.003500883425619942), (2151, 0.0035007729929180395), (4713, 0.0035001328266539644), (4139, 0.003499205295861021), (4359, 0.003498582337894688), (1947, 0.0034983152135444704), (2354, 0.0034978486447625914), (3792, 0.003496902217930968), (154, 0.003496538669896561), (1765, 0.0034963161149507696), (3770, 0.0034960056249501905), (3729, 0.0034945668143936365), (1404, 0.003494355982735403), (4505, 0.003493904890061474), (3396, 0.003492414082622658), (2964, 0.0034921103908060616), (4680, 0.003491507351210168), (3728, 0.003491443058283861), (247, 0.003491075245963276), (4135, 0.0034909795369921534), (2527, 0.003490720946126815), (1682, 0.003489058683208619), (589, 0.003487701284896044), (2977, 0.003487106272054942), (2872, 0.0034861011919547907), (2844, 0.003484997388743117), (3341, 0.003483291611750119), (2610, 0.003482985710312528), (925, 0.003482304697042468), (2953, 0.0034814206537379954), (3355, 0.003479951175082998), (3745, 0.0034790869538140244), (1871, 0.0034789170092328283), (3893, 0.0034783711587196052), (3390, 0.003478287069844238), (3000, 0.0034776506611133282), (1597, 0.0034768134816833855), (2313, 0.003476697862319639), (3165, 0.0034765050263409142), (353, 0.0034764691682901087), (1688, 0.0034753226832242123), (318, 0.0034751880354863423), (4287, 0.003475083036041978), (3419, 0.003474455678568682), (2629, 0.003473397460420207), (3410, 0.003473174064187272), (3952, 0.003473046871320147), (3290, 0.003472639404243876), (2370, 0.003472475150718726), (1780, 0.003471365099650971), (1798, 0.003468769824573816), (349, 0.0034683886700720406), (3184, 0.003468135470002247), (4200, 0.003467871969318873), (1619, 0.003467778281492017), (1768, 0.00346775571296955), (192, 0.0034671599615737564), (1359, 0.0034653951590129803), (1500, 0.003465122597088076), (20, 0.003463719173861177), (987, 0.003463550836170491), (4075, 0.003463111114685289), (1219, 0.003459257531562008), (1808, 0.0034589182436418646), (872, 0.00345830060860774), (3593, 0.003456786923666348), (2753, 0.0034557143203638157), (4516, 0.0034548669139794434), (4753, 0.0034533708503740987), (3237, 0.003453023456839006), (2796, 0.003452925621275646), (2478, 0.0034504097938325394), (4025, 0.0034498353534339033), (1087, 0.0034495500778996377), (2572, 0.003449192970048287), (1122, 0.003448987942185579), (1409, 0.003448675966037607), (715, 0.0034479758759485045), (182, 0.0034474831912274847), (2378, 0.0034467506326379465), (4243, 0.003446609577495442), (355, 0.0034459541350382473), (962, 0.003445525713053644), (3643, 0.0034455046411849682), (2403, 0.003444647141676131), (3296, 0.0034445322736469178), (4497, 0.0034439930310743586), (212, 0.0034436266700873645), (1170, 0.0034434749373911883), (2430, 0.0034430000624709077), (3423, 0.003442872679065506), (1893, 0.003442732764598315), (4277, 0.0034423778407745536), (4295, 0.003442371729820969), (1402, 0.00344211649541849), (2987, 0.0034419297236931807), (934, 0.003441664907949688), (3496, 0.003441030602749212), (104, 0.0034403843811273644), (3337, 0.0034388717904044715), (1851, 0.0034386813687800025), (2746, 0.0034366349805899777), (3647, 0.0034365925694558553), (178, 0.0034360919960180016), (782, 0.0034356088654019057), (1907, 0.0034342222684248178), (3551, 0.00343347316696739), (4049, 0.0034332160637275014), (2099, 0.00343291500451897), (1304, 0.0034320206973932625), (3517, 0.003431648015066036), (3873, 0.0034314802373089847), (3225, 0.003430820390651575), (3665, 0.00343014512483273), (1656, 0.003429801599782579), (2702, 0.0034260506344897194), (2841, 0.0034251621320396906), (2302, 0.0034249495831437863), (2821, 0.0034229610062937858), (973, 0.0034228464365036303), (114, 0.003420905345154833), (3, 0.0034205618014125872), (253, 0.003419684752887494), (3829, 0.0034195376887589356), (2914, 0.003418797691097605), (478, 0.0034186593470357926), (1131, 0.003418580867140915), (1124, 0.0034183738898096684), (2039, 0.0034182703794754907), (3845, 0.003418204799910834), (2223, 0.0034181104951965602), (228, 0.0034168470453849282), (1497, 0.0034162777151981473), (999, 0.003414223172312805), (2936, 0.0034136239955259965), (226, 0.003412857649831126), (3274, 0.0034122995040915057), (2623, 0.0034121655851527054), (3148, 0.0034114153352594145), (638, 0.0034106186819591222), (2721, 0.00341052828212632), (4361, 0.0034084361178054585), (1048, 0.003407393265572786), (2027, 0.0034073271037629448), (2083, 0.003404810484371839), (1216, 0.003404483127977901), (4507, 0.003403570588452131), (867, 0.0034030518045682456), (79, 0.0034015936253728803), (2798, 0.003401450048208817), (2792, 0.0034004732143359155), (576, 0.0033998588509570084), (3298, 0.0033986414269073515), (373, 0.003397846088551967), (351, 0.003397691481803853), (1410, 0.003397208406732996), (374, 0.0033971674417080534), (993, 0.003396345817260634), (4718, 0.003395297678562932), (1027, 0.003395245183712123), (2974, 0.0033949897125999844), (4334, 0.00339458852277533), (2422, 0.0033936463197209703), (2437, 0.0033936232587483657), (3890, 0.003393317470520967), (2133, 0.003391129164069694), (2105, 0.0033910681774750547), (2916, 0.0033907718045778487), (631, 0.0033898462655463863), (3386, 0.0033894262138790365), (3536, 0.0033891880673809294), (1206, 0.0033891016042302273), (2195, 0.0033854398272917734), (2980, 0.003385190225608276), (1036, 0.00338489659358807), (1862, 0.0033848290009951924), (848, 0.0033847240486547963), (659, 0.0033845585864418046), (596, 0.003384446727477245), (1294, 0.0033844387077404), (3380, 0.003384104322135303), (4174, 0.0033837766909592328), (1319, 0.003383625424894279), (419, 0.00338317934871599), (3492, 0.0033831672961415317), (3313, 0.003382868320437857), (1516, 0.0033824459237931184), (1717, 0.0033823224126765237), (998, 0.003381757905965319), (1477, 0.0033816427594475476), (2237, 0.003381611019622575), (1617, 0.0033812926237488912), (308, 0.0033804651132536647), (1843, 0.003377366042448033), (705, 0.0033760200060159863), (4394, 0.0033751075437101767), (399, 0.0033748701237179906), (115, 0.0033733345709351715), (1026, 0.0033732686142921623), (551, 0.003370753648756825), (2758, 0.0033703387099994838), (4420, 0.0033696800198383245), (1951, 0.003369257787086211), (4183, 0.0033675006391019192), (922, 0.003366713123421607), (1550, 0.0033656155902705466), (1909, 0.0033651869971874325), (1324, 0.0033648492469129823), (4706, 0.0033643863350149455), (1439, 0.003364330256828317), (2317, 0.0033640926683676637), (3569, 0.003363940289876888), (4550, 0.003363455392551277), (12, 0.00336341773936994), (457, 0.0033631423649667846), (23, 0.0033618764431036304), (3811, 0.0033617729235522593), (4479, 0.0033616989678792518), (1896, 0.003361629077145984), (2411, 0.003361624280933693), (1872, 0.003361556212754167), (2359, 0.00336118038646649), (3596, 0.0033601766746739125), (1476, 0.003359700041715683), (4136, 0.003359240601384255), (286, 0.0033588550136330387), (1616, 0.0033586303796196673), (4395, 0.003358174675066007), (3062, 0.0033567301655951683), (2073, 0.0033548685548892717), (4382, 0.003354303284162008), (3216, 0.003353834828604919), (2356, 0.0033537921996059554), (4686, 0.0033536586070908392), (3493, 0.003352610396372132), (2698, 0.0033524368562850002), (2134, 0.003348821285777243), (680, 0.0033479015911595704), (2800, 0.003347822119545589), (984, 0.00334736813767), (3346, 0.003343427548661722), (2863, 0.0033426306867459453), (4138, 0.0033421702578739537), (184, 0.0033420934019913625), (1052, 0.0033415733163480775), (2890, 0.003340788851342662), (3194, 0.003340096463633936), (348, 0.003339872932987938), (698, 0.0033392981715606768), (3069, 0.003339156359944067), (1298, 0.003338972998008466), (579, 0.0033388391362744033), (3246, 0.003338817492196532), (1355, 0.003338695411610526), (3445, 0.0033382055232774265), (2301, 0.0033381908864235535), (3348, 0.003337851754920001), (4397, 0.0033363877775465633), (2907, 0.003335308350747534), (71, 0.0033339114910658544), (1475, 0.00333388520701568), (3329, 0.003332748061858327), (2505, 0.0033314958543739052), (2103, 0.003330298827129709), (1096, 0.0033291292966036675), (2945, 0.003328875326456522), (4575, 0.0033285805116078627), (2051, 0.003328270193121966), (3111, 0.003328259408638192), (11, 0.0033273906459246115), (2766, 0.003326719729545843), (3026, 0.0033261051725900575), (890, 0.0033252569460654356), (897, 0.0033250794247054135), (2995, 0.0033238725049778606), (2535, 0.0033236079963371353), (4011, 0.0033234797863051406), (4649, 0.003321968244373036), (472, 0.003321831301481475), (466, 0.0033206327440090883), (4042, 0.003319821269426265), (1691, 0.003319572921749332), (3526, 0.0033193401198294537), (2474, 0.003319233989071231), (4566, 0.003318489394998851), (884, 0.0033184773030604823), (4308, 0.0033181827358145614), (1658, 0.0033179668707534957), (4687, 0.003316860759171336), (4085, 0.0033166657434808046), (2131, 0.0033165727822438117), (2144, 0.003315787474702948), (2571, 0.0033148630822530845), (4640, 0.003314428101752582), (1084, 0.0033135051713591487), (588, 0.0033127284658765123), (3599, 0.003311680790978181), (1969, 0.003309500079837959), (1305, 0.003309428927443551), (3335, 0.0033093377807847206), (4, 0.0033087946527756654), (2242, 0.0033076236877868513), (657, 0.00330673192998982), (1002, 0.003305361839286477), (1364, 0.003304517839566221), (1936, 0.0033043214443126885), (2049, 0.0033028720927794734), (2401, 0.0033025414566604577), (3187, 0.003302513227287849), (346, 0.003301912510743418), (3967, 0.0033010479546320315), (377, 0.0033008215229878546), (4273, 0.00330052422699959), (3352, 0.0032990560757034408), (805, 0.003298997520641367), (1306, 0.0032987415368339146), (4330, 0.0032981130930040386), (2390, 0.0032973457709615304), (3381, 0.003297326933445905), (1722, 0.0032965966841839675), (3749, 0.0032963253493476148), (4349, 0.003295325807303549), (262, 0.0032938374721000322), (2554, 0.0032937049860053257), (3064, 0.0032932714317347265), (2748, 0.0032932542749611517), (3258, 0.003293185510986582), (4036, 0.003292863919992678), (4427, 0.0032918978072240725), (4448, 0.003291878738640167), (476, 0.0032917778038268185), (895, 0.0032909563203167218), (2653, 0.0032907760618336892), (4604, 0.0032906875051675446), (3417, 0.0032906482661072753), (1176, 0.0032902562777538794), (4074, 0.003289839170257557), (2525, 0.00328972678408348), (1543, 0.0032885465085735017), (740, 0.003288322823361472), (4381, 0.0032870598369147083), (3706, 0.003286764949783062), (3478, 0.003286462957748046), (1827, 0.0032858071241464435), (3673, 0.003285365810994164), (1703, 0.003285264195294337), (3044, 0.003284953523969064), (4528, 0.0032847475585113294), (2159, 0.0032845773507212987), (2108, 0.003284410971802435), (2396, 0.0032840108328552426), (4472, 0.003283538995003547), (1378, 0.003282076637622943), (2176, 0.0032814008471414467), (3393, 0.003279088139385587), (2728, 0.003278664730764518), (2705, 0.003278652856256507), (407, 0.003277836258027957), (2931, 0.0032768326975781917), (4685, 0.003276482837924978), (1905, 0.0032760739618531358), (3714, 0.0032759978340676185), (3919, 0.0032750354238320063), (4083, 0.0032728116575733743), (324, 0.00327227335018004), (4734, 0.003271403312203382), (2004, 0.0032685224869394847), (2969, 0.0032682573236150645), (798, 0.0032668404336691124), (871, 0.0032656291974001586), (4563, 0.0032648117618460423), (3150, 0.0032637193940357138), (3238, 0.0032632421504269274), (3579, 0.0032631489267021863), (1006, 0.0032629449483638122), (3369, 0.003262840351412421), (3920, 0.003262653873781527), (883, 0.0032617878406879146), (2553, 0.0032615411942844954), (3389, 0.003260221747996749), (211, 0.0032599786433404406), (4363, 0.0032595207107341583), (1920, 0.003259018360760221), (3855, 0.0032582825476133235), (2475, 0.0032569034380261538), (1245, 0.003256555507325301), (2000, 0.0032558226946899573), (3402, 0.0032555617132312576), (3875, 0.003255213464926146), (4540, 0.003254163192331422), (221, 0.0032539424353380726), (4634, 0.0032538197118808), (2209, 0.003253597188053671), (1814, 0.0032527135866255294), (2888, 0.0032526495133557193), (1075, 0.003252571028352186), (717, 0.0032521210244016107), (2367, 0.0032516922336982973), (358, 0.003250559437713533), (1033, 0.0032501123569963816), (8, 0.003248916958753586), (175, 0.0032487219225465014), (899, 0.0032479960980014446), (2634, 0.0032475220513654645), (4161, 0.0032465371758167733), (4487, 0.003246520038763733), (3784, 0.00324474275606614), (901, 0.0032444474935295242), (1995, 0.0032425481508628045), (4266, 0.003241492204301293), (655, 0.003240622233275501), (26, 0.003239755981374983), (164, 0.003239286795973021), (4111, 0.0032390203067316336), (66, 0.0032382280173236574), (1392, 0.0032381984998070623), (1080, 0.003238148376839686), (2309, 0.003237212381210739), (2035, 0.0032367520522555817), (1645, 0.0032363570520222255), (1807, 0.0032360173680351973), (1574, 0.0032357826828270995), (1365, 0.0032357658022652003), (1706, 0.0032351355787014883), (4657, 0.0032350428977663877), (2965, 0.0032349448661710923), (2169, 0.003234554770308355), (2533, 0.003234287307080732), (3882, 0.0032342063171479866), (1446, 0.0032340220949510583), (2786, 0.0032330253766262246), (504, 0.0032326940946032024), (4399, 0.0032322702475633264), (3491, 0.0032299850776836944), (2192, 0.003229678923496369), (169, 0.003229293810490993), (1117, 0.003229106868905014), (2463, 0.0032287720644750234), (3007, 0.0032280294321747347), (4743, 0.0032273355193209057), (1612, 0.0032266564941861226), (597, 0.003226359766192276), (2776, 0.003226109267576765), (2970, 0.0032258779134312007), (1403, 0.003224926111363867), (2117, 0.0032246371292050766), (1313, 0.003223275662032287), (269, 0.0032221994170765203), (3606, 0.0032213408659493015), (3071, 0.0032203843182557336), (2473, 0.003220294530746423), (2779, 0.0032202890210943956), (826, 0.003220157992181232), (1199, 0.00321989102059674), (2593, 0.0032187141512836936), (4056, 0.003218685907772957), (1712, 0.0032174271910943553), (2826, 0.0032172613435693556), (3067, 0.0032167939979706045), (4345, 0.0032164313063034167), (3987, 0.0032159476369058772), (183, 0.0032157442139411027), (578, 0.003213769038801628), (4245, 0.003213448928211455), (3541, 0.003212859262632313), (3590, 0.003212707900021007), (1463, 0.0032126954908213603), (2664, 0.003212075474018993), (132, 0.0032110544071273237), (378, 0.003210980624049883), (651, 0.003210874271008626), (1203, 0.0032107491947821728), (2143, 0.003209684045224644), (446, 0.003208958963666686), (697, 0.00320775884443623), (330, 0.003207035751401065), (1411, 0.0032068139804595185), (2148, 0.0032064826179749382), (2507, 0.003206213944688667), (2303, 0.0032056154243080646), (1528, 0.0032046727080752876), (3434, 0.0032040770784671855), (2612, 0.003203638871521116), (2116, 0.003203559835227201), (1394, 0.0032034275712291317), (2011, 0.0032032138292182135), (2288, 0.0032031817858502298), (767, 0.003203019636806225), (794, 0.0032027612116385623), (3399, 0.003202594256521741), (196, 0.003201481405482335), (1869, 0.003201055932430723), (2067, 0.0032007276790389245), (1708, 0.0031978533107838948), (2268, 0.0031977324438793), (343, 0.0031976681483207817), (2361, 0.0031972678504974777), (2292, 0.0031967980444866225), (3037, 0.0031967878205025396), (1163, 0.003196499754653706), (3014, 0.0031942428933848656), (818, 0.003194200411845507), (1308, 0.003193597697830745), (1943, 0.0031935721896527852), (3084, 0.003193031217426177), (4320, 0.0031918733530224928), (4318, 0.003191327599031412), (4471, 0.003190898018929613), (3057, 0.0031904154364320266), (1422, 0.0031902193754870843), (1598, 0.003189828701240645), (1921, 0.003189755479721616), (119, 0.0031897457647782437), (1822, 0.0031892001842926203), (817, 0.0031888193858063303), (29, 0.0031870706949259434), (1884, 0.0031861932736823115), (4155, 0.0031851171585532546), (2915, 0.0031837354386139356), (61, 0.0031836864059248825), (2783, 0.0031835738185300366), (400, 0.003182316002360182), (1759, 0.0031808272276597307), (2862, 0.003180093054408661), (1372, 0.0031752406209586545), (4501, 0.0031751378100041616), (3614, 0.003174621254583494), (2260, 0.0031745633450543827), (2068, 0.0031742530719335027), (2201, 0.0031738915241961677), (4428, 0.0031734914484101233), (2534, 0.0031730253331576736), (2399, 0.003171792868663685), (3781, 0.003171374213122615), (1670, 0.0031713113033981894), (412, 0.0031712844830123067), (158, 0.0031693504647267415), (620, 0.003169036063331417), (2446, 0.0031685517822519892), (1114, 0.0031684595603058514), (2611, 0.0031670394749051083), (3641, 0.003166947414086216), (3372, 0.003166334692820014), (616, 0.0031659888876333863), (24, 0.0031633254317802997), (410, 0.003163227151516269), (1891, 0.0031609177627554812), (1685, 0.003160066902402023), (564, 0.003158311245472943), (2405, 0.0031581878470063472), (854, 0.0031542611153981496), (3243, 0.0031541491382977888), (815, 0.003153930015817165), (1423, 0.0031536153716665034), (127, 0.0031533465162538275), (1663, 0.0031515321333520944), (2926, 0.0031509835623168645), (1683, 0.0031504879124625365), (3147, 0.0031504419518030443), (3376, 0.003149310554246117), (1762, 0.0031491825322675256), (2954, 0.003149173363058547), (464, 0.0031491728868730346), (783, 0.0031490040175907903), (1743, 0.003148629233569772), (325, 0.003148524267928325), (3839, 0.0031478707189666034), (292, 0.0031478023203725418), (4641, 0.0031475501874135454), (1408, 0.003144636573061153), (1642, 0.003144229802977), (227, 0.0031438871553619184), (4625, 0.003140889014658962), (1570, 0.0031403740709180276), (496, 0.0031389218267081766), (703, 0.003138893527698985), (4419, 0.003137195843117386), (4069, 0.0031358322230594813), (3056, 0.003135777644814053), (1882, 0.003135319170567572), (975, 0.0031350561894811636), (4357, 0.003134489366771306), (4350, 0.0031332767961962512), (2661, 0.00313139405410565), (2141, 0.0031310078774811545), (3902, 0.0031304604421105936), (3527, 0.00312939513868179), (2481, 0.0031286535586635415), (843, 0.0031285406421311295), (3214, 0.003128008884067927), (2545, 0.003127374408520895), (1034, 0.0031273579792393483), (524, 0.0031258621035800556), (1571, 0.003125625777079243), (4422, 0.0031250860479321023), (4336, 0.00312424475683559), (2461, 0.0031208065547406977), (1079, 0.0031204286485219824), (1464, 0.0031197029661067534), (2942, 0.0031196401491813035), (2382, 0.0031176659975783133), (3742, 0.0031164563353351105), (856, 0.003116158242813314), (1742, 0.0031160133281262527), (3636, 0.003115618969528757), (1831, 0.0031141780744527348), (3226, 0.0031141125522154652), (2679, 0.0031127721438097534), (1693, 0.00311244949005172), (2277, 0.0031107362835812186), (2213, 0.0031095622754487716), (364, 0.0031085953498310743), (4247, 0.0031082631048096796), (734, 0.0031080140680007696), (3224, 0.0031060337556655954), (2338, 0.0031055604513050457), (2466, 0.003105558425973578), (759, 0.0031030202276099757), (3557, 0.003101167889400534), (3311, 0.003100929896488317), (2587, 0.003100623572043202), (3646, 0.0030976411095264256), (1641, 0.00309726328515283), (4052, 0.0030955965698397014), (609, 0.003093388448811448), (1553, 0.003092953564116489), (933, 0.003092687516907781), (1004, 0.0030924729644616054), (4409, 0.00309015725850582), (229, 0.0030898041338285366), (3016, 0.0030888031915557706), (3173, 0.0030883575078436074), (3809, 0.0030877918407272004), (4059, 0.0030876091972651108), (966, 0.003087378020791258), (3379, 0.003086443950197917), (2323, 0.0030852423080884863), (1367, 0.0030843188431107973), (4536, 0.003083391593344262), (2129, 0.0030832716324870526), (3691, 0.0030829779060099582), (1764, 0.0030804574206280146), (2386, 0.003080288079860138), (944, 0.003079412134714307), (3707, 0.0030790153994154188), (2347, 0.00307535981589106), (2812, 0.003074782317277038), (886, 0.0030745872445694985), (4079, 0.003074005186726626), (465, 0.0030733773217241204), (624, 0.0030725010300180536), (510, 0.003072012635108143), (372, 0.003070643427675786), (2902, 0.003069441384712188), (4257, 0.0030679609948964493), (1875, 0.0030661364780306096), (3733, 0.0030656247795912846), (4504, 0.0030644760628540527), (4356, 0.003064144328771647), (471, 0.003063790626344573), (449, 0.0030630770226204545), (1217, 0.003062653685573244), (4014, 0.0030611548959570602), (129, 0.0030611089450740393), (1624, 0.003060814612806833), (495, 0.0030606077732437736), (3300, 0.003056928437646908), (2270, 0.0030563751406011406), (2482, 0.0030562790550062394), (1877, 0.003051365467273094), (4511, 0.003051163986534158), (1182, 0.0030508060692083254), (97, 0.003048573689860883), (4348, 0.0030482258972123286), (4143, 0.0030460138923834004), (2520, 0.0030458904522925683), (33, 0.0030451609425762183), (4712, 0.0030425535855463544), (4205, 0.0030423962133870144), (3917, 0.0030408135528339005), (3075, 0.0030393726637583766), (1677, 0.003039028168404436), (2285, 0.0030389505367182483), (921, 0.00303885024018622), (755, 0.0030370000691284597), (113, 0.00303472774119999), (2149, 0.0030332837216368643), (3542, 0.003032880202430093), (2603, 0.0030253146577015853), (1690, 0.003025111446623031), (940, 0.003023322131841942), (1950, 0.0030209549219176804), (3113, 0.003018654445696444), (1032, 0.0030179571568022365), (607, 0.0030163276918005635), (268, 0.0030151931946349377), (4391, 0.003013818033453827), (1730, 0.003011859380584191), (1340, 0.003010612911266217), (3327, 0.0030099198459996516), (1077, 0.0030091871367010203), (1744, 0.0030074865170649297), (2289, 0.0030071301420220927), (60, 0.0030055173472423435), (3278, 0.0030037543605165324), (2999, 0.003003073220812369), (1136, 0.0030024448757330403), (1558, 0.0030014283593060914), (4171, 0.003001277466013829), (2943, 0.0030006610096524828), (82, 0.0030001924196449946), (92, 0.0029975698926520784), (2538, 0.002997461278707289), (3668, 0.002996998552079258), (4620, 0.0029969904998985984), (3441, 0.00299691080060761), (598, 0.0029965509157252063), (1954, 0.0029951282046532914), (3558, 0.002994857762756947), (357, 0.002993168077494548), (1514, 0.002992819689690026), (4182, 0.002992185959125634), (359, 0.0029915771144293254), (507, 0.002990328796116995), (1072, 0.0029894172674767984), (907, 0.0029893973468973364), (4156, 0.002988596425289057), (4228, 0.0029871210219664743), (2900, 0.0029852282827185885), (2362, 0.0029846583192113703), (4015, 0.0029845136562036104), (1801, 0.002983621196048226), (3669, 0.002983159391763439), (2876, 0.002981603021212348), (2526, 0.002981202264967334), (4520, 0.002979386965810369), (2946, 0.0029761395492398446), (4220, 0.0029744458428764735), (1465, 0.0029737183678217077), (1830, 0.002973554623833227), (1625, 0.002972104447653188), (3954, 0.002970395339525232), (1539, 0.0029692416334757593), (3827, 0.0029689915925556836), (3986, 0.002967972726968549), (1273, 0.0029672696402200864), (267, 0.0029670405367445557), (309, 0.002966528296298241), (317, 0.002965085902892881), (3821, 0.0029645964820338285), (3096, 0.0029639761095940995), (136, 0.0029618144027024917), (4476, 0.0029618095345746447), (441, 0.0029612333890124028), (4066, 0.00296044157941001), (1352, 0.0029582927786706162), (4304, 0.0029572516446954218), (2132, 0.0029568915105041807), (796, 0.0029557723738111307), (3719, 0.002953885326570193), (242, 0.0029534029987695605), (2087, 0.002952609119249154), (156, 0.002949725700268569), (480, 0.0029492048478140707), (1672, 0.002947972203927961), (2163, 0.0029462902915526378), (1370, 0.0029437553954823623), (4693, 0.00294183795384052), (1350, 0.002940757605160978), (416, 0.00293915765301593), (2457, 0.002938317440655738), (4530, 0.002938236483916653), (195, 0.0029373855977430775), (594, 0.0029366934048212345), (4573, 0.002935898646649148), (3953, 0.002934677283303255), (2441, 0.0029327408502149753), (1605, 0.0029322955742195405), (691, 0.0029297134763069496), (4129, 0.0029270728293188547), (4638, 0.002924601612102874), (1538, 0.002924040423356462), (2747, 0.0029231168776360636), (3093, 0.002918311312605803), (3863, 0.0029182948272987426), (3725, 0.002915310661536527), (4461, 0.0029143218396097403), (2402, 0.0029135293322549174), (3500, 0.0029101712593716375), (4729, 0.0029077397239033005), (646, 0.0029072760657879795), (488, 0.0029051946965948515), (4080, 0.0029043095413851293), (3795, 0.002895216467203026), (487, 0.0028930111909523724), (3211, 0.002892489381880814), (202, 0.002888821503138826), (4254, 0.0028887747289361833), (3268, 0.0028885838546804784), (3900, 0.0028817192313627107), (1020, 0.0028807264788597354), (2741, 0.002880608323226678), (157, 0.002879828464524059), (4748, 0.0028795968290762485), (3170, 0.0028789090092337954), (706, 0.0028774000401726478), (1312, 0.0028743829441031134), (2509, 0.002873933376439605), (4213, 0.0028711463551717624), (3799, 0.0028669693006889148), (3898, 0.0028652049976229245), (824, 0.0028612140111305643), (2997, 0.0028596080855911913), (2976, 0.0028584697128875795), (1747, 0.0028579475781543608), (3024, 0.002856188134656066), (403, 0.0028547959744487823), (1833, 0.00285442888697556), (838, 0.002852714308846204), (3615, 0.0028482883424963312), (197, 0.002847814540595309), (3304, 0.0028475735599547253), (3667, 0.00284746638563929), (32, 0.002846358997591096), (4652, 0.002845977845193724), (647, 0.002844714807402641), (2287, 0.00284379902135698), (4343, 0.0028431886449676426), (722, 0.00284016637177742), (3200, 0.0028393531267055907), (941, 0.0028363934617086947), (924, 0.0028330372724652553), (140, 0.002831191877804464), (165, 0.0028293421480758566), (445, 0.002828575567682693), (1980, 0.002825353577630853), (505, 0.0028153558981617653), (527, 0.0028117389215792468), (2265, 0.0028095813717055377), (63, 0.002808148428404152), (3538, 0.002806188696701338), (1565, 0.0028052574299427), (4636, 0.002805114756814532), (194, 0.0028023702507105957), (712, 0.002800175885074488), (4603, 0.0027995601477909214), (437, 0.002795092102543181), (4616, 0.0027943179326128985), (2556, 0.0027923172879965284), (3657, 0.0027895880229550584), (3627, 0.002784989461943435), (3634, 0.00278167325505407), (1209, 0.0027809613193645133), (707, 0.00277960359570583), (4326, 0.002775770002063788), (475, 0.0027740168521017705), (3199, 0.0027726748836410897), (3455, 0.0027709493581462878), (4411, 0.0027708765337661105), (1434, 0.0027650262302153874), (3347, 0.0027607264184173414), (2674, 0.0027591200041337405), (1144, 0.002752089122775952), (159, 0.0027513408445016883), (2933, 0.0027513315440082734), (4473, 0.0027475934548525597), (2735, 0.0027471772293480683), (3895, 0.002746148189290744), (2211, 0.002745974707161565), (3575, 0.002745310001026704), (1628, 0.0027431020478977724), (3050, 0.002737383484889134), (452, 0.002736958780658924), (2240, 0.0027337712964970854), (4598, 0.0027303123616773486), (1161, 0.0027264559555235618), (1648, 0.00272235580621942), (3927, 0.0027135035737910988), (473, 0.002712424663960656), (1826, 0.0027090139384922376), (3894, 0.002708081397699917), (951, 0.002706248595895788), (2248, 0.0027021500541688503), (645, 0.002683932630516474), (2127, 0.002672108170182076), (3755, 0.0026678241046099007), (103, 0.002661956190114155), (2034, 0.0026600200873592703), (3548, 0.002654256875206598), (252, 0.002653458985976872), (4626, 0.002647467021571358), (1427, 0.002644986031854027), (1042, 0.0026418955851185187), (611, 0.0026416287159692557), (4296, 0.002636502857394907), (3285, 0.0026358292407087937), (4445, 0.00262086937797925), (4429, 0.002620710231647947), (3392, 0.002613075154492838), (4386, 0.0026119868967096685), (7, 0.0025914724761808457), (3626, 0.002582368645444716), (2743, 0.0025745957253908145), (3546, 0.0025698049720438584), (2146, 0.002564466009543588), (293, 0.002544260471172475), (1037, 0.00254204514565675), (2469, 0.0025230006637358303), (3152, 0.002508336289434378), (1277, 0.002487710050959255), (1415, 0.002479833104965329), (4311, 0.0024572219308656718), (3421, 0.00244408597720525), (3365, 0.0024272837222632684), (3928, 0.0024255875763469427), (3431, 0.0024255572858756886), (4744, 0.0024199313493743265), (453, 0.0023751106941606905), (3301, 0.002369590906672401), (2010, 0.0023672492569525505), (4752, 0.0023536650480830007), (1040, 0.0023368543403236696), (929, 0.0022899914894712586), (4301, 0.0022415601898148874), (3608, 0.0020499123467552297), (3835, 0.0019975313297515623), (1, 0.0), (2, 0.0), (9, 0.0), (13, 0.0), (14, 0.0), (17, 0.0), (19, 0.0), (22, 0.0), (28, 0.0), (35, 0.0), (36, 0.0), (37, 0.0), (49, 0.0), (53, 0.0), (54, 0.0), (55, 0.0), (56, 0.0), (57, 0.0), (58, 0.0), (59, 0.0), (64, 0.0), (73, 0.0), (75, 0.0), (91, 0.0), (100, 0.0), (101, 0.0), (117, 0.0), (130, 0.0), (131, 0.0), (133, 0.0), (134, 0.0), (141, 0.0), (146, 0.0), (150, 0.0), (151, 0.0), (153, 0.0), (163, 0.0), (168, 0.0), (171, 0.0), (177, 0.0), (186, 0.0), (188, 0.0), (205, 0.0), (214, 0.0), (219, 0.0), (223, 0.0), (225, 0.0), (230, 0.0), (231, 0.0), (232, 0.0), (237, 0.0), (245, 0.0), (248, 0.0), (258, 0.0), (259, 0.0), (263, 0.0), (264, 0.0), (265, 0.0), (272, 0.0), (275, 0.0), (297, 0.0), (298, 0.0), (299, 0.0), (300, 0.0), (301, 0.0), (302, 0.0), (312, 0.0), (319, 0.0), (331, 0.0), (335, 0.0), (336, 0.0), (337, 0.0), (338, 0.0), (339, 0.0), (340, 0.0), (344, 0.0), (352, 0.0), (361, 0.0), (362, 0.0), (363, 0.0), (365, 0.0), (366, 0.0), (376, 0.0), (379, 0.0), (382, 0.0), (386, 0.0), (390, 0.0), (391, 0.0), (392, 0.0), (393, 0.0), (394, 0.0), (401, 0.0), (404, 0.0), (405, 0.0), (409, 0.0), (411, 0.0), (413, 0.0), (414, 0.0), (415, 0.0), (423, 0.0), (427, 0.0), (439, 0.0), (440, 0.0), (454, 0.0), (477, 0.0), (484, 0.0), (486, 0.0), (491, 0.0), (492, 0.0), (498, 0.0), (506, 0.0), (516, 0.0), (517, 0.0), (520, 0.0), (521, 0.0), (525, 0.0), (528, 0.0), (529, 0.0), (531, 0.0), (535, 0.0), (536, 0.0), (538, 0.0), (545, 0.0), (546, 0.0), (548, 0.0), (549, 0.0), (552, 0.0), (553, 0.0), (554, 0.0), (555, 0.0), (556, 0.0), (557, 0.0), (561, 0.0), (565, 0.0), (567, 0.0), (568, 0.0), (569, 0.0), (570, 0.0), (572, 0.0), (573, 0.0), (574, 0.0), (575, 0.0), (577, 0.0), (582, 0.0), (583, 0.0), (585, 0.0), (586, 0.0), (591, 0.0), (592, 0.0), (599, 0.0), (600, 0.0), (601, 0.0), (602, 0.0), (603, 0.0), (610, 0.0), (630, 0.0), (648, 0.0), (649, 0.0), (650, 0.0), (656, 0.0), (658, 0.0), (662, 0.0), (663, 0.0), (665, 0.0), (671, 0.0), (674, 0.0), (677, 0.0), (679, 0.0), (681, 0.0), (686, 0.0), (699, 0.0), (700, 0.0), (702, 0.0), (704, 0.0), (708, 0.0), (709, 0.0), (711, 0.0), (713, 0.0), (714, 0.0), (718, 0.0), (720, 0.0), (724, 0.0), (725, 0.0), (726, 0.0), (730, 0.0), (736, 0.0), (741, 0.0), (746, 0.0), (747, 0.0), (748, 0.0), (751, 0.0), (752, 0.0), (754, 0.0), (758, 0.0), (763, 0.0), (764, 0.0), (768, 0.0), (770, 0.0), (771, 0.0), (772, 0.0), (773, 0.0), (776, 0.0), (778, 0.0), (780, 0.0), (781, 0.0), (784, 0.0), (785, 0.0), (786, 0.0), (789, 0.0), (797, 0.0), (807, 0.0), (814, 0.0), (819, 0.0), (820, 0.0), (821, 0.0), (822, 0.0), (834, 0.0), (835, 0.0), (837, 0.0), (839, 0.0), (840, 0.0), (841, 0.0), (846, 0.0), (859, 0.0), (881, 0.0), (882, 0.0), (892, 0.0), (906, 0.0), (909, 0.0), (912, 0.0), (913, 0.0), (914, 0.0), (920, 0.0), (926, 0.0), (938, 0.0), (943, 0.0), (945, 0.0), (946, 0.0), (950, 0.0), (954, 0.0), (955, 0.0), (956, 0.0), (958, 0.0), (960, 0.0), (961, 0.0), (964, 0.0), (965, 0.0), (971, 0.0), (972, 0.0), (977, 0.0), (978, 0.0), (982, 0.0), (983, 0.0), (990, 0.0), (995, 0.0), (1008, 0.0), (1010, 0.0), (1011, 0.0), (1013, 0.0), (1014, 0.0), (1016, 0.0), (1022, 0.0), (1025, 0.0), (1028, 0.0), (1029, 0.0), (1031, 0.0), (1038, 0.0), (1039, 0.0), (1045, 0.0), (1046, 0.0), (1051, 0.0), (1055, 0.0), (1056, 0.0), (1062, 0.0), (1066, 0.0), (1067, 0.0), (1069, 0.0), (1073, 0.0), (1081, 0.0), (1086, 0.0), (1089, 0.0), (1090, 0.0), (1091, 0.0), (1093, 0.0), (1094, 0.0), (1097, 0.0), (1101, 0.0), (1103, 0.0), (1105, 0.0), (1106, 0.0), (1108, 0.0), (1111, 0.0), (1113, 0.0), (1125, 0.0), (1126, 0.0), (1130, 0.0), (1133, 0.0), (1135, 0.0), (1139, 0.0), (1142, 0.0), (1143, 0.0), (1147, 0.0), (1149, 0.0), (1151, 0.0), (1152, 0.0), (1155, 0.0), (1156, 0.0), (1157, 0.0), (1159, 0.0), (1165, 0.0), (1166, 0.0), (1171, 0.0), (1172, 0.0), (1178, 0.0), (1180, 0.0), (1189, 0.0), (1190, 0.0), (1193, 0.0), (1196, 0.0), (1198, 0.0), (1200, 0.0), (1201, 0.0), (1212, 0.0), (1218, 0.0), (1221, 0.0), (1222, 0.0), (1227, 0.0), (1228, 0.0), (1233, 0.0), (1235, 0.0), (1238, 0.0), (1239, 0.0), (1240, 0.0), (1242, 0.0), (1244, 0.0), (1246, 0.0), (1249, 0.0), (1250, 0.0), (1253, 0.0), (1256, 0.0), (1258, 0.0), (1263, 0.0), (1265, 0.0), (1267, 0.0), (1268, 0.0), (1269, 0.0), (1271, 0.0), (1274, 0.0), (1278, 0.0), (1285, 0.0), (1287, 0.0), (1288, 0.0), (1289, 0.0), (1291, 0.0), (1293, 0.0), (1295, 0.0), (1296, 0.0), (1297, 0.0), (1299, 0.0), (1307, 0.0), (1310, 0.0), (1315, 0.0), (1316, 0.0), (1321, 0.0), (1322, 0.0), (1323, 0.0), (1326, 0.0), (1327, 0.0), (1328, 0.0), (1329, 0.0), (1331, 0.0), (1333, 0.0), (1336, 0.0), (1341, 0.0), (1342, 0.0), (1345, 0.0), (1346, 0.0), (1353, 0.0), (1354, 0.0), (1361, 0.0), (1368, 0.0), (1373, 0.0), (1374, 0.0), (1376, 0.0), (1379, 0.0), (1386, 0.0), (1389, 0.0), (1390, 0.0), (1399, 0.0), (1401, 0.0), (1405, 0.0), (1418, 0.0), (1424, 0.0), (1425, 0.0), (1437, 0.0), (1441, 0.0), (1444, 0.0), (1445, 0.0), (1447, 0.0), (1453, 0.0), (1457, 0.0), (1459, 0.0), (1460, 0.0), (1466, 0.0), (1467, 0.0), (1468, 0.0), (1470, 0.0), (1473, 0.0), (1485, 0.0), (1486, 0.0), (1487, 0.0), (1490, 0.0), (1491, 0.0), (1492, 0.0), (1495, 0.0), (1496, 0.0), (1501, 0.0), (1505, 0.0), (1508, 0.0), (1511, 0.0), (1512, 0.0), (1515, 0.0), (1517, 0.0), (1520, 0.0), (1521, 0.0), (1522, 0.0), (1523, 0.0), (1524, 0.0), (1525, 0.0), (1526, 0.0), (1529, 0.0), (1532, 0.0), (1534, 0.0), (1535, 0.0), (1541, 0.0), (1545, 0.0), (1548, 0.0), (1549, 0.0), (1552, 0.0), (1556, 0.0), (1557, 0.0), (1561, 0.0), (1563, 0.0), (1564, 0.0), (1569, 0.0), (1577, 0.0), (1578, 0.0), (1579, 0.0), (1581, 0.0), (1583, 0.0), (1584, 0.0), (1586, 0.0), (1589, 0.0), (1592, 0.0), (1596, 0.0), (1599, 0.0), (1600, 0.0), (1601, 0.0), (1602, 0.0), (1603, 0.0), (1604, 0.0), (1606, 0.0), (1607, 0.0), (1609, 0.0), (1610, 0.0), (1611, 0.0), (1613, 0.0), (1615, 0.0), (1618, 0.0), (1626, 0.0), (1636, 0.0), (1638, 0.0), (1639, 0.0), (1640, 0.0), (1644, 0.0), (1646, 0.0), (1649, 0.0), (1651, 0.0), (1654, 0.0), (1664, 0.0), (1668, 0.0), (1669, 0.0), (1673, 0.0), (1676, 0.0), (1679, 0.0), (1684, 0.0), (1686, 0.0), (1689, 0.0), (1692, 0.0), (1695, 0.0), (1697, 0.0), (1698, 0.0), (1700, 0.0), (1704, 0.0), (1709, 0.0), (1714, 0.0), (1715, 0.0), (1718, 0.0), (1725, 0.0), (1726, 0.0), (1728, 0.0), (1729, 0.0), (1731, 0.0), (1734, 0.0), (1737, 0.0), (1741, 0.0), (1745, 0.0), (1746, 0.0), (1750, 0.0), (1751, 0.0), (1755, 0.0), (1756, 0.0), (1758, 0.0), (1766, 0.0), (1767, 0.0), (1769, 0.0), (1771, 0.0), (1775, 0.0), (1777, 0.0), (1778, 0.0), (1783, 0.0), (1785, 0.0), (1786, 0.0), (1787, 0.0), (1790, 0.0), (1794, 0.0), (1795, 0.0), (1800, 0.0), (1802, 0.0), (1803, 0.0), (1804, 0.0), (1810, 0.0), (1818, 0.0), (1820, 0.0), (1823, 0.0), (1824, 0.0), (1825, 0.0), (1834, 0.0), (1835, 0.0), (1836, 0.0), (1839, 0.0), (1841, 0.0), (1842, 0.0), (1844, 0.0), (1849, 0.0), (1850, 0.0), (1855, 0.0), (1856, 0.0), (1863, 0.0), (1867, 0.0), (1868, 0.0), (1870, 0.0), (1879, 0.0), (1880, 0.0), (1883, 0.0), (1888, 0.0), (1889, 0.0), (1894, 0.0), (1895, 0.0), (1898, 0.0), (1899, 0.0), (1903, 0.0), (1906, 0.0), (1908, 0.0), (1911, 0.0), (1912, 0.0), (1913, 0.0), (1915, 0.0), (1917, 0.0), (1926, 0.0), (1928, 0.0), (1932, 0.0), (1935, 0.0), (1938, 0.0), (1944, 0.0), (1948, 0.0), (1955, 0.0), (1956, 0.0), (1957, 0.0), (1961, 0.0), (1963, 0.0), (1965, 0.0), (1966, 0.0), (1972, 0.0), (1974, 0.0), (1978, 0.0), (1979, 0.0), (1984, 0.0), (1988, 0.0), (2001, 0.0), (2002, 0.0), (2003, 0.0), (2005, 0.0), (2006, 0.0), (2007, 0.0), (2009, 0.0), (2017, 0.0), (2019, 0.0), (2021, 0.0), (2022, 0.0), (2025, 0.0), (2028, 0.0), (2030, 0.0), (2032, 0.0), (2033, 0.0), (2036, 0.0), (2038, 0.0), (2041, 0.0), (2042, 0.0), (2043, 0.0), (2046, 0.0), (2050, 0.0), (2052, 0.0), (2054, 0.0), (2056, 0.0), (2058, 0.0), (2059, 0.0), (2063, 0.0), (2064, 0.0), (2071, 0.0), (2079, 0.0), (2081, 0.0), (2085, 0.0), (2086, 0.0), (2090, 0.0), (2092, 0.0), (2095, 0.0), (2098, 0.0), (2101, 0.0), (2106, 0.0), (2107, 0.0), (2113, 0.0), (2114, 0.0), (2115, 0.0), (2118, 0.0), (2120, 0.0), (2124, 0.0), (2125, 0.0), (2128, 0.0), (2135, 0.0), (2138, 0.0), (2140, 0.0), (2145, 0.0), (2150, 0.0), (2152, 0.0), (2153, 0.0), (2156, 0.0), (2160, 0.0), (2161, 0.0), (2164, 0.0), (2165, 0.0), (2167, 0.0), (2168, 0.0), (2170, 0.0), (2171, 0.0), (2172, 0.0), (2175, 0.0), (2177, 0.0), (2179, 0.0), (2180, 0.0), (2182, 0.0), (2183, 0.0), (2185, 0.0), (2186, 0.0), (2194, 0.0), (2200, 0.0), (2202, 0.0), (2203, 0.0), (2204, 0.0), (2205, 0.0), (2207, 0.0), (2215, 0.0), (2217, 0.0), (2218, 0.0), (2219, 0.0), (2220, 0.0), (2222, 0.0), (2225, 0.0), (2227, 0.0), (2233, 0.0), (2234, 0.0), (2238, 0.0), (2239, 0.0), (2241, 0.0), (2243, 0.0), (2244, 0.0), (2247, 0.0), (2249, 0.0), (2253, 0.0), (2256, 0.0), (2258, 0.0), (2259, 0.0), (2261, 0.0), (2262, 0.0), (2263, 0.0), (2267, 0.0), (2271, 0.0), (2272, 0.0), (2274, 0.0), (2281, 0.0), (2282, 0.0), (2290, 0.0), (2291, 0.0), (2296, 0.0), (2297, 0.0), (2298, 0.0), (2300, 0.0), (2305, 0.0), (2307, 0.0), (2311, 0.0), (2312, 0.0), (2315, 0.0), (2322, 0.0), (2325, 0.0), (2327, 0.0), (2329, 0.0), (2331, 0.0), (2332, 0.0), (2333, 0.0), (2335, 0.0), (2337, 0.0), (2339, 0.0), (2341, 0.0), (2342, 0.0), (2345, 0.0), (2351, 0.0), (2352, 0.0), (2353, 0.0), (2357, 0.0), (2360, 0.0), (2364, 0.0), (2366, 0.0), (2368, 0.0), (2369, 0.0), (2372, 0.0), (2373, 0.0), (2376, 0.0), (2377, 0.0), (2380, 0.0), (2381, 0.0), (2384, 0.0), (2389, 0.0), (2395, 0.0), (2398, 0.0), (2409, 0.0), (2414, 0.0), (2420, 0.0), (2426, 0.0), (2431, 0.0), (2433, 0.0), (2435, 0.0), (2439, 0.0), (2445, 0.0), (2450, 0.0), (2451, 0.0), (2452, 0.0), (2455, 0.0), (2456, 0.0), (2458, 0.0), (2460, 0.0), (2462, 0.0), (2465, 0.0), (2470, 0.0), (2471, 0.0), (2472, 0.0), (2479, 0.0), (2483, 0.0), (2485, 0.0), (2491, 0.0), (2493, 0.0), (2497, 0.0), (2498, 0.0), (2499, 0.0), (2500, 0.0), (2503, 0.0), (2504, 0.0), (2508, 0.0), (2510, 0.0), (2511, 0.0), (2513, 0.0), (2514, 0.0), (2515, 0.0), (2516, 0.0), (2518, 0.0), (2521, 0.0), (2523, 0.0), (2532, 0.0), (2536, 0.0), (2539, 0.0), (2542, 0.0), (2543, 0.0), (2547, 0.0), (2548, 0.0), (2549, 0.0), (2551, 0.0), (2562, 0.0), (2564, 0.0), (2566, 0.0), (2574, 0.0), (2575, 0.0), (2577, 0.0), (2578, 0.0), (2582, 0.0), (2583, 0.0), (2584, 0.0), (2586, 0.0), (2588, 0.0), (2589, 0.0), (2590, 0.0), (2594, 0.0), (2596, 0.0), (2597, 0.0), (2604, 0.0), (2605, 0.0), (2608, 0.0), (2615, 0.0), (2616, 0.0), (2620, 0.0), (2627, 0.0), (2631, 0.0), (2637, 0.0), (2639, 0.0), (2641, 0.0), (2644, 0.0), (2648, 0.0), (2654, 0.0), (2656, 0.0), (2657, 0.0), (2658, 0.0), (2659, 0.0), (2660, 0.0), (2662, 0.0), (2663, 0.0), (2665, 0.0), (2666, 0.0), (2667, 0.0), (2669, 0.0), (2670, 0.0), (2671, 0.0), (2672, 0.0), (2675, 0.0), (2676, 0.0), (2677, 0.0), (2681, 0.0), (2684, 0.0), (2685, 0.0), (2686, 0.0), (2688, 0.0), (2690, 0.0), (2691, 0.0), (2693, 0.0), (2701, 0.0), (2703, 0.0), (2704, 0.0), (2708, 0.0), (2709, 0.0), (2715, 0.0), (2717, 0.0), (2719, 0.0), (2726, 0.0), (2729, 0.0), (2730, 0.0), (2732, 0.0), (2734, 0.0), (2737, 0.0), (2749, 0.0), (2750, 0.0), (2754, 0.0), (2756, 0.0), (2762, 0.0), (2763, 0.0), (2770, 0.0), (2773, 0.0), (2774, 0.0), (2781, 0.0), (2785, 0.0), (2793, 0.0), (2794, 0.0), (2799, 0.0), (2804, 0.0), (2805, 0.0), (2806, 0.0), (2807, 0.0), (2810, 0.0), (2811, 0.0), (2813, 0.0), (2814, 0.0), (2816, 0.0), (2817, 0.0), (2818, 0.0), (2823, 0.0), (2824, 0.0), (2827, 0.0), (2828, 0.0), (2829, 0.0), (2835, 0.0), (2836, 0.0), (2837, 0.0), (2839, 0.0), (2842, 0.0), (2843, 0.0), (2850, 0.0), (2851, 0.0), (2852, 0.0), (2855, 0.0), (2856, 0.0), (2860, 0.0), (2864, 0.0), (2865, 0.0), (2866, 0.0), (2867, 0.0), (2869, 0.0), (2873, 0.0), (2875, 0.0), (2877, 0.0), (2880, 0.0), (2891, 0.0), (2896, 0.0), (2898, 0.0), (2905, 0.0), (2906, 0.0), (2921, 0.0), (2922, 0.0), (2927, 0.0), (2928, 0.0), (2930, 0.0), (2935, 0.0), (2938, 0.0), (2941, 0.0), (2951, 0.0), (2952, 0.0), (2955, 0.0), (2956, 0.0), (2958, 0.0), (2967, 0.0), (2968, 0.0), (2973, 0.0), (2979, 0.0), (2982, 0.0), (2983, 0.0), (2990, 0.0), (3001, 0.0), (3002, 0.0), (3006, 0.0), (3008, 0.0), (3009, 0.0), (3021, 0.0), (3025, 0.0), (3029, 0.0), (3033, 0.0), (3034, 0.0), (3038, 0.0), (3039, 0.0), (3041, 0.0), (3047, 0.0), (3048, 0.0), (3054, 0.0), (3058, 0.0), (3059, 0.0), (3060, 0.0), (3061, 0.0), (3063, 0.0), (3066, 0.0), (3073, 0.0), (3077, 0.0), (3078, 0.0), (3080, 0.0), (3082, 0.0), (3087, 0.0), (3088, 0.0), (3089, 0.0), (3090, 0.0), (3092, 0.0), (3098, 0.0), (3102, 0.0), (3103, 0.0), (3104, 0.0), (3105, 0.0), (3106, 0.0), (3107, 0.0), (3109, 0.0), (3114, 0.0), (3115, 0.0), (3121, 0.0), (3130, 0.0), (3132, 0.0), (3138, 0.0), (3141, 0.0), (3144, 0.0), (3145, 0.0), (3162, 0.0), (3164, 0.0), (3169, 0.0), (3172, 0.0), (3175, 0.0), (3176, 0.0), (3177, 0.0), (3181, 0.0), (3188, 0.0), (3189, 0.0), (3190, 0.0), (3193, 0.0), (3197, 0.0), (3201, 0.0), (3202, 0.0), (3204, 0.0), (3205, 0.0), (3207, 0.0), (3208, 0.0), (3209, 0.0), (3212, 0.0), (3217, 0.0), (3221, 0.0), (3222, 0.0), (3223, 0.0), (3229, 0.0), (3231, 0.0), (3236, 0.0), (3244, 0.0), (3250, 0.0), (3251, 0.0), (3253, 0.0), (3256, 0.0), (3261, 0.0), (3265, 0.0), (3266, 0.0), (3270, 0.0), (3272, 0.0), (3277, 0.0), (3281, 0.0), (3286, 0.0), (3287, 0.0), (3288, 0.0), (3294, 0.0), (3295, 0.0), (3305, 0.0), (3309, 0.0), (3310, 0.0), (3320, 0.0), (3321, 0.0), (3323, 0.0), (3324, 0.0), (3332, 0.0), (3333, 0.0), (3340, 0.0), (3343, 0.0), (3345, 0.0), (3350, 0.0), (3356, 0.0), (3366, 0.0), (3368, 0.0), (3371, 0.0), (3375, 0.0), (3378, 0.0), (3383, 0.0), (3394, 0.0), (3397, 0.0), (3400, 0.0), (3401, 0.0), (3411, 0.0), (3415, 0.0), (3420, 0.0), (3422, 0.0), (3424, 0.0), (3439, 0.0), (3442, 0.0), (3444, 0.0), (3454, 0.0), (3457, 0.0), (3459, 0.0), (3461, 0.0), (3467, 0.0), (3469, 0.0), (3472, 0.0), (3473, 0.0), (3475, 0.0), (3476, 0.0), (3481, 0.0), (3482, 0.0), (3485, 0.0), (3489, 0.0), (3490, 0.0), (3494, 0.0), (3505, 0.0), (3509, 0.0), (3510, 0.0), (3515, 0.0), (3519, 0.0), (3522, 0.0), (3525, 0.0), (3528, 0.0), (3529, 0.0), (3530, 0.0), (3532, 0.0), (3533, 0.0), (3539, 0.0), (3543, 0.0), (3545, 0.0), (3547, 0.0), (3549, 0.0), (3550, 0.0), (3554, 0.0), (3562, 0.0), (3563, 0.0), (3566, 0.0), (3567, 0.0), (3568, 0.0), (3578, 0.0), (3580, 0.0), (3581, 0.0), (3585, 0.0), (3589, 0.0), (3591, 0.0), (3592, 0.0), (3594, 0.0), (3595, 0.0), (3598, 0.0), (3600, 0.0), (3603, 0.0), (3607, 0.0), (3609, 0.0), (3610, 0.0), (3617, 0.0), (3622, 0.0), (3625, 0.0), (3628, 0.0), (3630, 0.0), (3631, 0.0), (3632, 0.0), (3633, 0.0), (3644, 0.0), (3648, 0.0), (3649, 0.0), (3650, 0.0), (3662, 0.0), (3663, 0.0), (3671, 0.0), (3676, 0.0), (3681, 0.0), (3682, 0.0), (3683, 0.0), (3685, 0.0), (3686, 0.0), (3690, 0.0), (3693, 0.0), (3695, 0.0), (3697, 0.0), (3698, 0.0), (3700, 0.0), (3702, 0.0), (3703, 0.0), (3709, 0.0), (3712, 0.0), (3716, 0.0), (3717, 0.0), (3718, 0.0), (3722, 0.0), (3724, 0.0), (3726, 0.0), (3730, 0.0), (3732, 0.0), (3735, 0.0), (3736, 0.0), (3738, 0.0), (3740, 0.0), (3743, 0.0), (3748, 0.0), (3750, 0.0), (3752, 0.0), (3758, 0.0), (3759, 0.0), (3760, 0.0), (3761, 0.0), (3764, 0.0), (3783, 0.0), (3785, 0.0), (3786, 0.0), (3789, 0.0), (3790, 0.0), (3791, 0.0), (3796, 0.0), (3798, 0.0), (3800, 0.0), (3803, 0.0), (3805, 0.0), (3808, 0.0), (3812, 0.0), (3816, 0.0), (3817, 0.0), (3818, 0.0), (3820, 0.0), (3825, 0.0), (3830, 0.0), (3831, 0.0), (3834, 0.0), (3836, 0.0), (3837, 0.0), (3838, 0.0), (3840, 0.0), (3843, 0.0), (3846, 0.0), (3847, 0.0), (3851, 0.0), (3856, 0.0), (3858, 0.0), (3859, 0.0), (3861, 0.0), (3864, 0.0), (3865, 0.0), (3869, 0.0), (3870, 0.0), (3879, 0.0), (3885, 0.0), (3887, 0.0), (3896, 0.0), (3909, 0.0), (3912, 0.0), (3914, 0.0), (3918, 0.0), (3921, 0.0), (3926, 0.0), (3929, 0.0), (3930, 0.0), (3931, 0.0), (3933, 0.0), (3934, 0.0), (3936, 0.0), (3937, 0.0), (3940, 0.0), (3943, 0.0), (3948, 0.0), (3950, 0.0), (3955, 0.0), (3958, 0.0), (3964, 0.0), (3965, 0.0), (3968, 0.0), (3969, 0.0), (3971, 0.0), (3972, 0.0), (3976, 0.0), (3977, 0.0), (3979, 0.0), (3980, 0.0), (3981, 0.0), (3982, 0.0), (3985, 0.0), (3988, 0.0), (3991, 0.0), (3994, 0.0), (3996, 0.0), (3998, 0.0), (4001, 0.0), (4003, 0.0), (4006, 0.0), (4008, 0.0), (4009, 0.0), (4010, 0.0), (4012, 0.0), (4018, 0.0), (4021, 0.0), (4022, 0.0), (4026, 0.0), (4027, 0.0), (4028, 0.0), (4029, 0.0), (4031, 0.0), (4034, 0.0), (4037, 0.0), (4040, 0.0), (4041, 0.0), (4055, 0.0), (4057, 0.0), (4058, 0.0), (4061, 0.0), (4063, 0.0), (4065, 0.0), (4067, 0.0), (4070, 0.0), (4072, 0.0), (4073, 0.0), (4077, 0.0), (4078, 0.0), (4084, 0.0), (4086, 0.0), (4097, 0.0), (4099, 0.0), (4100, 0.0), (4108, 0.0), (4109, 0.0), (4110, 0.0), (4112, 0.0), (4114, 0.0), (4115, 0.0), (4125, 0.0), (4127, 0.0), (4131, 0.0), (4144, 0.0), (4146, 0.0), (4149, 0.0), (4150, 0.0), (4153, 0.0), (4157, 0.0), (4159, 0.0), (4166, 0.0), (4167, 0.0), (4168, 0.0), (4170, 0.0), (4173, 0.0), (4177, 0.0), (4179, 0.0), (4180, 0.0), (4181, 0.0), (4184, 0.0), (4185, 0.0), (4186, 0.0), (4188, 0.0), (4190, 0.0), (4191, 0.0), (4194, 0.0), (4196, 0.0), (4198, 0.0), (4199, 0.0), (4201, 0.0), (4204, 0.0), (4207, 0.0), (4210, 0.0), (4212, 0.0), (4214, 0.0), (4215, 0.0), (4217, 0.0), (4218, 0.0), (4223, 0.0), (4224, 0.0), (4226, 0.0), (4229, 0.0), (4234, 0.0), (4236, 0.0), (4237, 0.0), (4238, 0.0), (4239, 0.0), (4241, 0.0), (4250, 0.0), (4253, 0.0), (4256, 0.0), (4258, 0.0), (4260, 0.0), (4270, 0.0), (4271, 0.0), (4276, 0.0), (4278, 0.0), (4279, 0.0), (4291, 0.0), (4297, 0.0), (4300, 0.0), (4302, 0.0), (4303, 0.0), (4305, 0.0), (4313, 0.0), (4314, 0.0), (4315, 0.0), (4316, 0.0), (4317, 0.0), (4319, 0.0), (4323, 0.0), (4324, 0.0), (4327, 0.0), (4329, 0.0), (4332, 0.0), (4335, 0.0), (4338, 0.0), (4341, 0.0), (4342, 0.0), (4346, 0.0), (4347, 0.0), (4351, 0.0), (4352, 0.0), (4353, 0.0), (4358, 0.0), (4364, 0.0), (4367, 0.0), (4370, 0.0), (4372, 0.0), (4373, 0.0), (4385, 0.0), (4388, 0.0), (4393, 0.0), (4404, 0.0), (4405, 0.0), (4406, 0.0), (4408, 0.0), (4410, 0.0), (4413, 0.0), (4414, 0.0), (4415, 0.0), (4417, 0.0), (4421, 0.0), (4424, 0.0), (4425, 0.0), (4433, 0.0), (4434, 0.0), (4437, 0.0), (4439, 0.0), (4447, 0.0), (4449, 0.0), (4451, 0.0), (4453, 0.0), (4454, 0.0), (4455, 0.0), (4456, 0.0), (4457, 0.0), (4459, 0.0), (4460, 0.0), (4463, 0.0), (4467, 0.0), (4478, 0.0), (4480, 0.0), (4482, 0.0), (4483, 0.0), (4485, 0.0), (4491, 0.0), (4492, 0.0), (4493, 0.0), (4496, 0.0), (4498, 0.0), (4499, 0.0), (4500, 0.0), (4506, 0.0), (4508, 0.0), (4509, 0.0), (4519, 0.0), (4525, 0.0), (4526, 0.0), (4532, 0.0), (4539, 0.0), (4541, 0.0), (4542, 0.0), (4547, 0.0), (4549, 0.0), (4556, 0.0), (4558, 0.0), (4559, 0.0), (4560, 0.0), (4561, 0.0), (4562, 0.0), (4564, 0.0), (4565, 0.0), (4568, 0.0), (4569, 0.0), (4570, 0.0), (4577, 0.0), (4578, 0.0), (4580, 0.0), (4583, 0.0), (4592, 0.0), (4596, 0.0), (4597, 0.0), (4599, 0.0), (4600, 0.0), (4609, 0.0), (4613, 0.0), (4615, 0.0), (4618, 0.0), (4622, 0.0), (4628, 0.0), (4631, 0.0), (4635, 0.0), (4644, 0.0), (4647, 0.0), (4648, 0.0), (4651, 0.0), (4654, 0.0), (4655, 0.0), (4662, 0.0), (4667, 0.0), (4671, 0.0), (4672, 0.0), (4675, 0.0), (4676, 0.0), (4681, 0.0), (4683, 0.0), (4688, 0.0), (4690, 0.0), (4700, 0.0), (4702, 0.0), (4711, 0.0), (4714, 0.0), (4716, 0.0), (4720, 0.0), (4725, 0.0), (4726, 0.0), (4728, 0.0), (4730, 0.0), (4736, 0.0), (4737, 0.0), (4738, 0.0), (4740, 0.0), (4741, 0.0), (4742, 0.0), (4745, 0.0), (4750, 0.0), (4751, 0.0), (4754, 0.0), (4755, 0.0), (4758, 0.0), (4759, 0.0)]\n"
          ]
        }
      ]
    },
    {
      "cell_type": "code",
      "source": [
        "# print the name of similar movies based on the index\n",
        "print('Top 30 Movies Suggested for you :  /n')\n",
        "\n",
        "i = 1\n",
        "\n",
        "for movie in Sorted_Similar_Movies:\n",
        "  index = movie[0]\n",
        "  title_from_index = df[df.index==index]['Movie_Title'].values[0]\n",
        "  if (i<31):\n",
        "    print(i, '.', title_from_index)\n",
        "    i+=1"
      ],
      "metadata": {
        "colab": {
          "base_uri": "https://localhost:8080/"
        },
        "id": "fRYszHC8amXQ",
        "outputId": "2329a5b0-43b5-4d89-f48b-96f996db8db1"
      },
      "execution_count": null,
      "outputs": [
        {
          "output_type": "stream",
          "name": "stdout",
          "text": [
            "Top 30 Movies Suggested for you :  /n\n",
            "1 . Niagara\n",
            "2 . Caravans\n",
            "3 . Harry Brown\n",
            "4 . Back to the Future\n",
            "5 . My Week with Marilyn\n",
            "6 . Night of the Living Dead\n",
            "7 . Eye for an Eye\n",
            "8 . Duel in the Sun\n",
            "9 . Some Like It Hot\n",
            "10 . Enough\n",
            "11 . The Curse of Downers Grove\n",
            "12 . The Misfits\n",
            "13 . Alice Through the Looking Glass\n",
            "14 . Welcome to the Sticks\n",
            "15 . Small Soldiers\n",
            "16 . Sabotage\n",
            "17 . Premium Rush\n",
            "18 . Tora! Tora! Tora!\n",
            "19 . Amidst the Devil's Wings\n",
            "20 . Notes on a Scandal\n",
            "21 . Minority Report\n",
            "22 . Camping Sauvage\n",
            "23 . The Dark Knight Rises\n",
            "24 . We Are Your Friends\n",
            "25 . Dallas Buyers Club\n",
            "26 . The Raid\n",
            "27 . Source Code\n",
            "28 . The Lost Weekend\n",
            "29 . Savages\n",
            "30 . Master and Commander: The Far Side of the World\n"
          ]
        }
      ]
    },
    {
      "cell_type": "markdown",
      "source": [
        "**Top 10 Movie Recommendation system**"
      ],
      "metadata": {
        "id": "aayPaeXkdhiL"
      }
    },
    {
      "cell_type": "code",
      "source": [
        "Movie_Name = input('Enter your favourite movie name :')\n",
        "\n",
        "list_of_all_titles =df['Movie_Title'].tolist()\n",
        "\n",
        "Find_Close_Match = difflib.get_close_matches(Movie_Name, list_of_all_titles)\n",
        "\n",
        "Close_Match = Find_Close_Match[0]\n",
        "\n",
        "Index_of_Movie = df[df.Movie_Title == Close_Match]['Movie_ID'].values[0]\n",
        "\n",
        "Recommendation_Score = sorted(Recommendation_Score, key = lambda x:x[1], reverse = True)\n",
        "\n",
        "print('Top 10 Movies suggested for you : \\n')\n",
        "\n",
        "i=1\n",
        "\n",
        "for movie in Sorted_Similar_Movies:\n",
        "  index = movie[0]\n",
        "  title_from_index = df[df.Movie_ID==index]['Movie_Title'].values\n",
        "  if (i<11):\n",
        "    print(i, '.', title_from_index)\n",
        "    i+=1\n",
        "\n",
        "\n"
      ],
      "metadata": {
        "colab": {
          "base_uri": "https://localhost:8080/"
        },
        "id": "b93nv-nwdqWe",
        "outputId": "569e2303-4609-4e58-a9f8-fdb5eca9ccb9"
      },
      "execution_count": null,
      "outputs": [
        {
          "output_type": "stream",
          "name": "stdout",
          "text": [
            "Enter your favourite movie name :avtaar\n",
            "Top 10 Movies suggested for you : \n",
            "\n",
            "1 . ['Avatar']\n",
            "2 . ['The Girl on the Train']\n",
            "3 . ['Precious']\n",
            "4 . ['Run Lola Run']\n",
            "5 . ['Act of Valor']\n",
            "6 . ['Freaky Friday']\n",
            "7 . ['Bright Lights, Big City']\n",
            "8 . ['Cradle Will Rock']\n",
            "9 . ['The Godfather']\n",
            "10 . ['Gerry']\n"
          ]
        }
      ]
    }
  ]
}